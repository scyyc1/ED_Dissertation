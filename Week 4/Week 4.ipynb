{
 "cells": [
  {
   "cell_type": "markdown",
   "id": "266218d0",
   "metadata": {},
   "source": [
    "# Week 4: Halving the Surface Area of a Mesh\n",
    "**Target**: Find the decision boundary of halving the surface area of a mesh"
   ]
  },
  {
   "cell_type": "markdown",
   "id": "a31142a7",
   "metadata": {},
   "source": [
    "## Table of Contents\n",
    "- [0 - Packages and Resources](#0)\n",
    "- [1 - Implementation](#1)\n",
    "    - [*1.0 - The Example](#1-0)\n",
    "    - [1.1 - Area Calculation](#1-1)\n",
    "    - [1.2 - BFS](#1-2)\n",
    "    - [1.3 - Fit a Plane](#1-3)\n",
    "    - [1.4 - Intersection of Plane and Mesh](#1-4)\n",
    "- [2 - Sample Outcome](#2)\n",
    "    - [2.1 - One Round](#2-1)\n",
    "    - [2.2 - Convergence](#2-2)\n",
    "- [3 - Reference](#3)"
   ]
  },
  {
   "cell_type": "markdown",
   "id": "01e53b96",
   "metadata": {},
   "source": [
    "<a name='0'></a>\n",
    "## 0. Packages and Resources"
   ]
  },
  {
   "cell_type": "code",
   "execution_count": 1,
   "id": "7cad8d67",
   "metadata": {},
   "outputs": [],
   "source": [
    "# Packages\n",
    "import numpy as np\n",
    "import random\n",
    "import matplotlib.pyplot as plt\n",
    "\n",
    "# Self-defined functions\n",
    "import sys\n",
    "import os\n",
    "sys.path.append(os.path.abspath(os.path.join('..')))\n",
    "from util import util\n",
    "\n",
    "# Visualization\n",
    "import pyvista as pv\n",
    "from pyvista import examples"
   ]
  },
  {
   "cell_type": "markdown",
   "id": "bde5ef3b",
   "metadata": {},
   "source": [
    "<a name='1'></a>\n",
    "## 1. Implementation\n",
    "\n",
    "<a name='1-0'></a>\n",
    "### *1.0 The Example\n",
    "\n",
    "Here I use the sphere as an example."
   ]
  },
  {
   "cell_type": "code",
   "execution_count": 2,
   "id": "2b76294c",
   "metadata": {},
   "outputs": [
    {
     "data": {
      "application/vnd.jupyter.widget-view+json": {
       "model_id": "4df27c91bb5145cdb2b631455a876bf5",
       "version_major": 2,
       "version_minor": 0
      },
      "text/plain": [
       "Widget(value=\"<iframe src='http://localhost:53737/index.html?ui=P_0x2026c955e50_0&reconnect=auto' style='width…"
      ]
     },
     "metadata": {},
     "output_type": "display_data"
    }
   ],
   "source": [
    "sphere = pv.Sphere()\n",
    "\n",
    "pl = pv.Plotter()\n",
    "pl.add_mesh(sphere, show_edges=True, color=\"white\")\n",
    "pl.add_points(sphere.points, color=\"red\", point_size=5)\n",
    "pl.show()"
   ]
  },
  {
   "cell_type": "markdown",
   "id": "17c9eb57",
   "metadata": {},
   "source": [
    "<a name='1-1'></a>\n",
    "### 1.1 Area Calculation\n",
    "\n",
    "This is the preprocession part of a given mesh. I calculate the area of all triangles and store it in a array attached to the faces of a mesh."
   ]
  },
  {
   "cell_type": "code",
   "execution_count": 3,
   "id": "02557b1f",
   "metadata": {},
   "outputs": [],
   "source": [
    "sphere = sphere.compute_cell_sizes(area=True, length=False, volume=False)"
   ]
  },
  {
   "cell_type": "code",
   "execution_count": 4,
   "id": "30ed3b1d",
   "metadata": {},
   "outputs": [
    {
     "data": {
      "text/html": [
       "<table><tr><th>Header</th><th>Data Arrays</th></tr><tr><td>\n",
       "<table>\n",
       "<tr><th>PolyData</th><th>Information</th></tr>\n",
       "<tr><td>N Cells</td><td>1680</td></tr>\n",
       "<tr><td>N Points</td><td>842</td></tr>\n",
       "<tr><td>N Strips</td><td>0</td></tr>\n",
       "<tr><td>X Bounds</td><td>-4.993e-01, 4.993e-01</td></tr>\n",
       "<tr><td>Y Bounds</td><td>-4.965e-01, 4.965e-01</td></tr>\n",
       "<tr><td>Z Bounds</td><td>-5.000e-01, 5.000e-01</td></tr>\n",
       "<tr><td>N Arrays</td><td>2</td></tr>\n",
       "</table>\n",
       "\n",
       "</td><td>\n",
       "<table>\n",
       "<tr><th>Name</th><th>Field</th><th>Type</th><th>N Comp</th><th>Min</th><th>Max</th></tr>\n",
       "<tr><td>Normals</td><td>Points</td><td>float32</td><td>3</td><td>-1.000e+00</td><td>1.000e+00</td></tr>\n",
       "<tr><td>Area</td><td>Cells</td><td>float64</td><td>1</td><td>3.043e-04</td><td>2.825e-03</td></tr>\n",
       "</table>\n",
       "\n",
       "</td></tr> </table>"
      ],
      "text/plain": [
       "PolyData (0x202718110c0)\n",
       "  N Cells:    1680\n",
       "  N Points:   842\n",
       "  N Strips:   0\n",
       "  X Bounds:   -4.993e-01, 4.993e-01\n",
       "  Y Bounds:   -4.965e-01, 4.965e-01\n",
       "  Z Bounds:   -5.000e-01, 5.000e-01\n",
       "  N Arrays:   2"
      ]
     },
     "execution_count": 4,
     "metadata": {},
     "output_type": "execute_result"
    }
   ],
   "source": [
    "sphere"
   ]
  },
  {
   "cell_type": "markdown",
   "id": "2683769c",
   "metadata": {},
   "source": [
    "<a name='1-1'></a>\n",
    "### 1.2 BFS\n",
    "\n",
    "I apply BFS to find the initial decision boundary along the edges of the triangular mesh. The terminating condition is when the sum of area of chosen triangles is greater than our desired ratio. The algorithm start from a specified vertex.\n",
    "\n",
    "#### 1.2.1 Select the Neighbourhood Faces"
   ]
  },
  {
   "cell_type": "code",
   "execution_count": 5,
   "id": "2dc3e4d8",
   "metadata": {},
   "outputs": [],
   "source": [
    "def find_faces_with_node(index, mesh):\n",
    "    faces = mesh.faces.reshape((-1,4))[:, 1:4]\n",
    "    return [i for i, face in enumerate(faces) if index in face]"
   ]
  },
  {
   "cell_type": "code",
   "execution_count": 6,
   "id": "593b7c47",
   "metadata": {},
   "outputs": [
    {
     "name": "stdout",
     "output_type": "stream",
     "text": [
      "The target vertex is:  546\n"
     ]
    },
    {
     "data": {
      "application/vnd.jupyter.widget-view+json": {
       "model_id": "049959d670bf4db8a630c2feae1a085e",
       "version_major": 2,
       "version_minor": 0
      },
      "text/plain": [
       "Widget(value=\"<iframe src='http://localhost:53737/index.html?ui=P_0x20271834590_1&reconnect=auto' style='width…"
      ]
     },
     "metadata": {},
     "output_type": "display_data"
    }
   ],
   "source": [
    "# Randomly choose a vertex\n",
    "test_target = random.randint(0, sphere.n_points-1)\n",
    "print(\"The target vertex is: \", test_target)\n",
    "\n",
    "neighbourhood_face = find_faces_with_node(test_target, sphere)\n",
    "\n",
    "# Visualize\n",
    "p1 = pv.Plotter()\n",
    "p1.add_mesh(sphere, show_edges=True, color=\"white\")\n",
    "p1.add_points(sphere.points[test_target], color=\"blue\")\n",
    "p1.add_mesh(sphere.extract_cells(neighbourhood_face), show_edges=True, color=\"red\")\n",
    "p1.show()"
   ]
  },
  {
   "cell_type": "markdown",
   "id": "ecf88d31",
   "metadata": {},
   "source": [
    "#### 1.2.2 Select the Neighbourhood Vertex\n",
    "\n",
    "Based on the function above, we can further specify the related vertices without repetition."
   ]
  },
  {
   "cell_type": "code",
   "execution_count": 7,
   "id": "592e9c13",
   "metadata": {},
   "outputs": [],
   "source": [
    "def find_connected_vertices(index, mesh):\n",
    "    cids = find_faces_with_node(index, mesh)\n",
    "    faces = mesh.faces.reshape((-1,4))[:, 1:4]\n",
    "    connected = np.unique(faces[cids].ravel())\n",
    "    return np.delete(connected, np.argwhere(connected == index))"
   ]
  },
  {
   "cell_type": "code",
   "execution_count": 8,
   "id": "50c1b1eb",
   "metadata": {},
   "outputs": [
    {
     "data": {
      "application/vnd.jupyter.widget-view+json": {
       "model_id": "def2e455bfe94651a741ebcce68b065c",
       "version_major": 2,
       "version_minor": 0
      },
      "text/plain": [
       "Widget(value=\"<iframe src='http://localhost:53737/index.html?ui=P_0x20271854590_2&reconnect=auto' style='width…"
      ]
     },
     "metadata": {},
     "output_type": "display_data"
    }
   ],
   "source": [
    "connected_vertices = find_connected_vertices(test_target, sphere)\n",
    "\n",
    "p2 = pv.Plotter()\n",
    "p2.add_mesh(sphere, show_edges=True)\n",
    "p2.add_mesh(sphere.points[test_target], color=\"blue\", point_size=10)\n",
    "p2.add_mesh(sphere.points[connected_vertices], color=\"red\", point_size=10)\n",
    "p2.show()"
   ]
  },
  {
   "cell_type": "markdown",
   "id": "b9484d5c",
   "metadata": {},
   "source": [
    "#### 1.2.3 The BFS Selecting Process"
   ]
  },
  {
   "cell_type": "code",
   "execution_count": 9,
   "id": "30b1cbdd",
   "metadata": {},
   "outputs": [],
   "source": [
    "class Mesh_BFS_Area:\n",
    "    def __init__(self, start, mesh):\n",
    "        if not mesh.is_all_triangles:\n",
    "            print(\"Not trianglar mesh! Fail!\")\n",
    "            \n",
    "        self.mesh=mesh\n",
    "        self.start=start\n",
    "        \n",
    "        self.mesh=self.mesh.compute_cell_sizes(length=False, volume=False)\n",
    "        self.area=self.mesh.cell_data[\"Area\"]\n",
    "        self.surf_area=np.sum(self.mesh.cell_data[\"Area\"])\n",
    "        self.faces = mesh.faces.reshape((-1,4))[:, 1:4]\n",
    "        \n",
    "        self.vertex_queue = [start]\n",
    "        self.face_queue = []\n",
    "        self.selected_vertex = []\n",
    "        self.selected_face = []\n",
    "        \n",
    "        self.current_area = 0\n",
    "        self.err = 99999\n",
    "    \n",
    "    def reset(self):\n",
    "        self.vertex_queue = []\n",
    "        self.face_queue = []\n",
    "        self.selected_vertex = []\n",
    "        self.selected_face = []\n",
    "        self.current_area = 0\n",
    "        \n",
    "    def one_round_test(self, ratio):\n",
    "            target_area=self.surf_area * ratio\n",
    "\n",
    "            current_vertex = self.vertex_queue.pop(0)\n",
    "            self.find_connected_vertices(current_vertex)\n",
    "\n",
    "            while(len(self.face_queue)!=0):\n",
    "                current_face = self.face_queue.pop(0)\n",
    "                self.selected_face.append(current_face)\n",
    "                self.current_area += self.area[current_face]\n",
    "\n",
    "                if(self.current_area > target_area):\n",
    "                    break\n",
    "\n",
    "            self.selected_vertex.append(current_vertex)\n",
    "            \n",
    "            \n",
    "    def run(self, ratio):\n",
    "        target_area=self.surf_area * ratio\n",
    "        \n",
    "        flag = True\n",
    "        while(len(self.vertex_queue)!=0 and self.current_area < target_area):\n",
    "            current_vertex = self.vertex_queue.pop(0)\n",
    "            self.selected_vertex.append(current_vertex)\n",
    "            self.find_connected_vertices(current_vertex)\n",
    "\n",
    "            while(len(self.face_queue)!=0):\n",
    "                current_face = self.face_queue.pop(0)  \n",
    "                self.selected_face.append(current_face)\n",
    "                self.current_area += self.area[current_face]\n",
    "\n",
    "                if(self.current_area > target_area):\n",
    "                    self.vertex_queue = [current_vertex] + self.vertex_queue\n",
    "                    self.selected_vertex.pop()\n",
    "                    self.err = self.current_area - target_area\n",
    "#                     print(self.face_queue)\n",
    "                    break\n",
    "                                                                                                                                                                                                                                                                                                                                         \n",
    "    \n",
    "    def find_faces_with_node(self, target):\n",
    "        new_faces = [i for i, face in enumerate(self.faces) if target in face and i not in self.selected_face]\n",
    "        self.face_queue = self.face_queue + new_faces\n",
    "        return new_faces\n",
    "    \n",
    "    def find_connected_vertices(self, target):\n",
    "        new_faces = self.find_faces_with_node(target)\n",
    "        vertices_id = np.unique(self.faces[new_faces].ravel())\n",
    "        new_vertices = [i for i in vertices_id if i not in self.selected_vertex and i not in self.vertex_queue and i != target]\n",
    "        self.vertex_queue = self.vertex_queue + new_vertices\n",
    "        return new_vertices"
   ]
  },
  {
   "cell_type": "code",
   "execution_count": 10,
   "id": "1af18fd2",
   "metadata": {},
   "outputs": [],
   "source": [
    "test=Mesh_BFS_Area(200, sphere)"
   ]
  },
  {
   "cell_type": "code",
   "execution_count": 11,
   "id": "418d405a",
   "metadata": {},
   "outputs": [],
   "source": [
    "test.run(0.2)"
   ]
  },
  {
   "cell_type": "code",
   "execution_count": 12,
   "id": "9797bf4e",
   "metadata": {},
   "outputs": [],
   "source": [
    "plane, center, normal = pv.fit_plane_to_points(\n",
    "    sphere.points[test.vertex_queue], return_meta=True\n",
    ")"
   ]
  },
  {
   "cell_type": "code",
   "execution_count": 13,
   "id": "86aed404",
   "metadata": {},
   "outputs": [],
   "source": [
    "plane=plane.delaunay_2d()"
   ]
  },
  {
   "cell_type": "code",
   "execution_count": 14,
   "id": "bbe8b63f",
   "metadata": {},
   "outputs": [
    {
     "data": {
      "text/plain": [
       "True <CallableBool>"
      ]
     },
     "execution_count": 14,
     "metadata": {},
     "output_type": "execute_result"
    }
   ],
   "source": [
    "plane.is_all_triangles"
   ]
  },
  {
   "cell_type": "code",
   "execution_count": 15,
   "id": "0ef40be4",
   "metadata": {},
   "outputs": [
    {
     "name": "stderr",
     "output_type": "stream",
     "text": [
      "ERROR:root:Algorithm vtkIntersectionPolyDataFilter (000002027E45B380) returned failure for request: vtkInformation (000002027E044F60)\n"
     ]
    }
   ],
   "source": [
    "intersection, s1_split, s2_split = sphere.intersection(sphere, split_first=False, split_second=True)"
   ]
  },
  {
   "cell_type": "code",
   "execution_count": 16,
   "id": "40ad9912",
   "metadata": {},
   "outputs": [
    {
     "data": {
      "text/html": [
       "<table><tr><th>Header</th><th>Data Arrays</th></tr><tr><td>\n",
       "<table>\n",
       "<tr><th>PolyData</th><th>Information</th></tr>\n",
       "<tr><td>N Cells</td><td>200</td></tr>\n",
       "<tr><td>N Points</td><td>121</td></tr>\n",
       "<tr><td>N Strips</td><td>0</td></tr>\n",
       "<tr><td>X Bounds</td><td>-4.291e-01, 6.155e-01</td></tr>\n",
       "<tr><td>Y Bounds</td><td>-4.376e-01, 5.032e-01</td></tr>\n",
       "<tr><td>Z Bounds</td><td>-5.525e-01, -3.937e-02</td></tr>\n",
       "<tr><td>N Arrays</td><td>2</td></tr>\n",
       "</table>\n",
       "\n",
       "</td><td>\n",
       "<table>\n",
       "<tr><th>Name</th><th>Field</th><th>Type</th><th>N Comp</th><th>Min</th><th>Max</th></tr>\n",
       "<tr><td>Normals</td><td>Points</td><td>float32</td><td>3</td><td>-9.255e-01</td><td>3.389e-01</td></tr>\n",
       "<tr><td>TextureCoordinates</td><td>Points</td><td>float32</td><td>2</td><td>0.000e+00</td><td>1.000e+00</td></tr>\n",
       "</table>\n",
       "\n",
       "</td></tr> </table>"
      ],
      "text/plain": [
       "PolyData (0x202718e1780)\n",
       "  N Cells:    200\n",
       "  N Points:   121\n",
       "  N Strips:   0\n",
       "  X Bounds:   -4.291e-01, 6.155e-01\n",
       "  Y Bounds:   -4.376e-01, 5.032e-01\n",
       "  Z Bounds:   -5.525e-01, -3.937e-02\n",
       "  N Arrays:   2"
      ]
     },
     "execution_count": 16,
     "metadata": {},
     "output_type": "execute_result"
    }
   ],
   "source": [
    "plane"
   ]
  },
  {
   "cell_type": "code",
   "execution_count": 17,
   "id": "7969316b",
   "metadata": {},
   "outputs": [
    {
     "data": {
      "text/html": [
       "<table><tr><th>Header</th><th>Data Arrays</th></tr><tr><td>\n",
       "<table>\n",
       "<tr><th>PolyData</th><th>Information</th></tr>\n",
       "<tr><td>N Cells</td><td>2380</td></tr>\n",
       "<tr><td>N Points</td><td>2182</td></tr>\n",
       "<tr><td>N Strips</td><td>0</td></tr>\n",
       "<tr><td>X Bounds</td><td>-4.993e-01, 4.993e-01</td></tr>\n",
       "<tr><td>Y Bounds</td><td>-4.999e-01, 4.999e-01</td></tr>\n",
       "<tr><td>Z Bounds</td><td>-5.000e-01, 5.000e-01</td></tr>\n",
       "<tr><td>N Arrays</td><td>3</td></tr>\n",
       "</table>\n",
       "\n",
       "</td><td>\n",
       "<table>\n",
       "<tr><th>Name</th><th>Field</th><th>Type</th><th>N Comp</th><th>Min</th><th>Max</th></tr>\n",
       "<tr><td>SurfaceID</td><td>Points</td><td>int64</td><td>1</td><td>1.000e+00</td><td>3.000e+00</td></tr>\n",
       "<tr><td>Input0CellID</td><td>Cells</td><td>int64</td><td>1</td><td>0.000e+00</td><td>1.678e+03</td></tr>\n",
       "<tr><td>Input1CellID</td><td>Cells</td><td>int64</td><td>1</td><td>1.000e+00</td><td>1.679e+03</td></tr>\n",
       "</table>\n",
       "\n",
       "</td></tr> </table>"
      ],
      "text/plain": [
       "PolyData (0x202718e2020)\n",
       "  N Cells:    2380\n",
       "  N Points:   2182\n",
       "  N Strips:   0\n",
       "  X Bounds:   -4.993e-01, 4.993e-01\n",
       "  Y Bounds:   -4.999e-01, 4.999e-01\n",
       "  Z Bounds:   -5.000e-01, 5.000e-01\n",
       "  N Arrays:   3"
      ]
     },
     "execution_count": 17,
     "metadata": {},
     "output_type": "execute_result"
    }
   ],
   "source": [
    "intersection"
   ]
  },
  {
   "cell_type": "code",
   "execution_count": 20,
   "id": "14e67e84",
   "metadata": {},
   "outputs": [],
   "source": [
    "rabbit = examples.download_bunny_coarse()\n",
    "test2=Mesh_BFS_Area(200, rabbit)"
   ]
  },
  {
   "cell_type": "code",
   "execution_count": 23,
   "id": "fef75839",
   "metadata": {
    "scrolled": false
   },
   "outputs": [
    {
     "data": {
      "application/vnd.jupyter.widget-view+json": {
       "model_id": "e2f8b61516b34154806c854356f9f31d",
       "version_major": 2,
       "version_minor": 0
      },
      "text/plain": [
       "Widget(value=\"<iframe src='http://localhost:53737/index.html?ui=P_0x202053b1910_6&reconnect=auto' style='width…"
      ]
     },
     "metadata": {},
     "output_type": "display_data"
    }
   ],
   "source": [
    "p = pv.Plotter()\n",
    "p.add_mesh(rabbit, show_edges=True)\n",
    "p.add_mesh(rabbit.extract_cells(test.selected_face), color=\"red\", show_edges=True)\n",
    "# p.add_mesh(mesh.extract_cells(test.face_queue), color=\"green\", show_edges=True)\n",
    "p.add_mesh(rabbit.points[200], color=\"blue\", point_size=10)\n",
    "p.add_mesh(rabbit.points[test.vertex_queue], color=\"blue\", point_size=10)\n",
    "p.add_mesh(plane)\n",
    "# p.add_mesh(intersection, color='yellow', line_width=10)\n",
    "# p.add_mesh(intersection.points, color=\"green\", point_size=10)\n",
    "# p.add_mesh(mesh.points[191], color=\"green\", point_size=10)\n",
    "# p.add_mesh(mesh.points[], color=\"yellow\", point_size=10)\n",
    "# p.add_mesh(mesh.extract_cells(neighbour), color=\"yellow\", show_edges=True)\n",
    "# pl.camera_position = [(0.02, 0.30, 0.73), (0.02, 0.03, -0.022), (-0.03, 0.94, -0.34)]\n",
    "p.show()"
   ]
  },
  {
   "cell_type": "code",
   "execution_count": null,
   "id": "ad4430c2",
   "metadata": {},
   "outputs": [],
   "source": []
  }
 ],
 "metadata": {
  "kernelspec": {
   "display_name": "Python 3 (ipykernel)",
   "language": "python",
   "name": "python3"
  },
  "language_info": {
   "codemirror_mode": {
    "name": "ipython",
    "version": 3
   },
   "file_extension": ".py",
   "mimetype": "text/x-python",
   "name": "python",
   "nbconvert_exporter": "python",
   "pygments_lexer": "ipython3",
   "version": "3.9.13"
  }
 },
 "nbformat": 4,
 "nbformat_minor": 5
}
