{
 "cells": [
  {
   "cell_type": "markdown",
   "id": "266218d0",
   "metadata": {},
   "source": [
    "# Week 14: Poly Cube Mapping Attempt\n",
    "A naive test on poly-cube mapping"
   ]
  },
  {
   "cell_type": "markdown",
   "id": "a31142a7",
   "metadata": {},
   "source": [
    "## Table of Contents\n",
    "- [0 - Packages and Resources](#0)\n",
    "- [1 - Implementation](#1)\n",
    "    - [*1.0 - The Example](#1-0)\n",
    "    - [1.1 - Area Calculation](#1-1)\n",
    "    - [1.2 - BFS](#1-2)\n",
    "    - [1.3 - Fit a Plane](#1-3)\n",
    "    - [1.4 - Intersection of Plane and Mesh](#1-4)\n",
    "- [2 - Sample Outcome](#2)\n",
    "    - [2.1 - One Round](#2-1)\n",
    "    - [2.2 - Convergence](#2-2)\n",
    "- [3 - Reference](#3)"
   ]
  },
  {
   "cell_type": "markdown",
   "id": "01e53b96",
   "metadata": {},
   "source": [
    "<a name='0'></a>\n",
    "## 0. Packages and Resources"
   ]
  },
  {
   "cell_type": "code",
   "execution_count": 31,
   "id": "7cad8d67",
   "metadata": {},
   "outputs": [],
   "source": [
    "# Packages\n",
    "import numpy as np\n",
    "import random\n",
    "import matplotlib.pyplot as plt\n",
    "from scipy.optimize import minimize\n",
    "\n",
    "# Self-defined functions\n",
    "import sys\n",
    "import os\n",
    "sys.path.append(os.path.abspath(os.path.join('..')))\n",
    "from util.util import distance_euclidean\n",
    "from util.mesh.triangle.R3 import calculate_single_dihedral_angle, calculate_all_dihedral_angles\n",
    "from util.mesh.triangle.common import retrieve_all_edges\n",
    "\n",
    "# Visualization\n",
    "import pyvista as pv\n",
    "from pyvista import examples"
   ]
  },
  {
   "cell_type": "markdown",
   "id": "bde5ef3b",
   "metadata": {},
   "source": [
    "<a name='1'></a>\n",
    "## 1. Implementation\n",
    "\n",
    "<a name='1-0'></a>\n",
    "### *1.0 The Example\n",
    "\n",
    "Here I use the sphere as an example."
   ]
  },
  {
   "cell_type": "code",
   "execution_count": 22,
   "id": "2b76294c",
   "metadata": {},
   "outputs": [
    {
     "data": {
      "application/vnd.jupyter.widget-view+json": {
       "model_id": "0241ae37ed3947e4a66f46d18381feb7",
       "version_major": 2,
       "version_minor": 0
      },
      "text/plain": [
       "Widget(value=\"<iframe src='http://localhost:55106/index.html?ui=P_0x27f5baa4bb0_2&reconnect=auto' style='width…"
      ]
     },
     "metadata": {},
     "output_type": "display_data"
    }
   ],
   "source": [
    "sphere = pv.Sphere(radius=5, theta_resolution=10, phi_resolution=10)\n",
    "\n",
    "faces = sphere.faces.reshape((-1,4))[:, 1:4]\n",
    "vertices = sphere.points\n",
    "angles = calculate_all_dihedral_angles(faces, vertices)\n",
    "edges = retrieve_all_edges(faces)\n",
    "\n",
    "pl = pv.Plotter()\n",
    "pl.add_mesh(sphere, show_edges=True, color=\"white\")\n",
    "pl.add_points(sphere.points, color=\"red\", point_size=5)\n",
    "# For monitor purpose\n",
    "# pl.add_points(sphere.points[55], color=\"blue\", point_size=20)\n",
    "# pl.add_points(sphere.points[64], color=\"blue\", point_size=20)\n",
    "pl.show()"
   ]
  },
  {
   "cell_type": "code",
   "execution_count": 36,
   "id": "6c21a810",
   "metadata": {},
   "outputs": [],
   "source": [
    "class chen_2023:\n",
    "    def __init__(self, vertices, faces, lambda1=1, lambda2=1, max_iter = 30):\n",
    "        self.max_iter = max_iter\n",
    "        self.vertex_num = vertices.shape[0]\n",
    "        self.vertices = vertices\n",
    "        self.faces = faces\n",
    "        self.lambda1=lambda1\n",
    "        self.lambda2=lambda2\n",
    "        \n",
    "        self.solution = self.vertices.copy()\n",
    "        self.edges = retrieve_all_edges(faces)\n",
    "    \n",
    "    def activation(self, angle):\n",
    "        if angle < (np.pi/2):\n",
    "            return np.power(np.cos(angle), 2) / angle\n",
    "        else:\n",
    "            return np.power(np.cos(angle), 2)\n",
    "        \n",
    "    def loss_classification(self, x):\n",
    "        X = x.reshape((self.vertex_num , 3))\n",
    "        \n",
    "        EB = 0\n",
    "        for edge in self.edges:\n",
    "            A, B = X[edge[0]], X[edge[1]]\n",
    "            EB += np.sum(np.absolute(B - A)) - distance_euclidean(A, B)\n",
    "            \n",
    "        EA = 0\n",
    "        dihedral_angles = calculate_all_dihedral_angles(faces, X)\n",
    "        for angle_value in dihedral_angles.values():\n",
    "            EA += self.activation(angle_value)\n",
    "            \n",
    "        return self.lambda1*EB + self.lambda2*EA\n",
    "    \n",
    "    def optimize(self):\n",
    "        x0 = np.ravel(self.solution)\n",
    "        self.res = minimize(self.loss_classification, x0, options = {'maxiter': self.max_iter})\n",
    "        self.solution = self.res.x.reshape((self.vertex_num, 3))\n",
    "    \n",
    "    def optimize_one_round(self):\n",
    "        x0 = np.ravel(self.solution)\n",
    "        self.res = minimize(self.loss_classification, x0, options = {'maxiter': 1})\n",
    "        self.solution = self.res.x.reshape((self.vertex_num, 3))\n",
    "        \n",
    "#     def visualize_initial(self, show_boundary = False):\n",
    "#         plt.plot(self.vertices[:,0], self.vertices[:,1], 'o', color='green')\n",
    "#         plt.triplot(self.vertices[:,0], self.vertices[:,1], self.faces, label='Original Mesh', color='orange')\n",
    "#         if show_boundary:\n",
    "#             for edge in self.boundary_edges:\n",
    "#                 plt.plot(self.vertices[np.array(edge), 0], self.vertices[np.array(edge), 1], 'y-')\n",
    "#         plt.axis('equal')\n",
    "#         plt.legend()\n",
    "        \n",
    "#     def visualize_solution(self, show_boundary = False):\n",
    "#         plt.plot(self.solution[:,0], self.solution[:,1], 'o', color='blue')\n",
    "#         plt.triplot(self.solution[:,0], self.solution[:,1], self.faces, label='Transformed Mesh', color='blue')\n",
    "#         if show_boundary:\n",
    "#             for edge in self.boundary_edges:\n",
    "#                 plt.plot(self.solution[np.array(edge), 0], self.solution[np.array(edge), 1], 'r-')\n",
    "#         plt.axis('equal')\n",
    "#         plt.legend()\n",
    "        \n",
    "#     def visualize(self):\n",
    "#         self.visualize_initial()\n",
    "#         self.visualize_solution()"
   ]
  },
  {
   "cell_type": "code",
   "execution_count": 43,
   "id": "2df6ef23",
   "metadata": {},
   "outputs": [],
   "source": [
    "test = chen_2023(vertices.copy(), faces.copy(), max_iter = 30)"
   ]
  },
  {
   "cell_type": "code",
   "execution_count": 44,
   "id": "4b871baf",
   "metadata": {},
   "outputs": [],
   "source": [
    "test.optimize()"
   ]
  },
  {
   "cell_type": "code",
   "execution_count": 45,
   "id": "b0286cce",
   "metadata": {},
   "outputs": [],
   "source": [
    "mesh_update = pv.PolyData(test.solution, sphere.faces)"
   ]
  },
  {
   "cell_type": "code",
   "execution_count": 50,
   "id": "f3d488f7",
   "metadata": {},
   "outputs": [
    {
     "data": {
      "application/vnd.jupyter.widget-view+json": {
       "model_id": "5084454c4b8f4eecab3804fc13b4919f",
       "version_major": 2,
       "version_minor": 0
      },
      "text/plain": [
       "Widget(value=\"<iframe src='http://localhost:55106/index.html?ui=P_0x27f67563b20_9&reconnect=auto' style='width…"
      ]
     },
     "metadata": {},
     "output_type": "display_data"
    }
   ],
   "source": [
    "p = pv.Plotter()\n",
    "p.add_mesh(mesh_update, show_edges=True, color=\"\")\n",
    "p.add_mesh(sphere, show_edges=True, color=\"white\")\n",
    "p.add_points(mesh_update.points, color=\"red\", point_size=5)\n",
    "p.show()"
   ]
  }
 ],
 "metadata": {
  "kernelspec": {
   "display_name": "Python 3 (ipykernel)",
   "language": "python",
   "name": "python3"
  },
  "language_info": {
   "codemirror_mode": {
    "name": "ipython",
    "version": 3
   },
   "file_extension": ".py",
   "mimetype": "text/x-python",
   "name": "python",
   "nbconvert_exporter": "python",
   "pygments_lexer": "ipython3",
   "version": "3.9.13"
  }
 },
 "nbformat": 4,
 "nbformat_minor": 5
}
