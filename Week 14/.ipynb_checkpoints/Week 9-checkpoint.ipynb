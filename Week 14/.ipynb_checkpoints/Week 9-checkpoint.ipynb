{
 "cells": [
  {
   "cell_type": "markdown",
   "id": "2d0d9b34",
   "metadata": {},
   "source": [
    "# Week 9: Bisector Area of 3D Mesh\n",
    "**Target**: Fit a plane with fixed normal that can bisector the surface area of any given mesh"
   ]
  },
  {
   "cell_type": "markdown",
   "id": "d20128a1",
   "metadata": {},
   "source": [
    "## Table of Contents\n",
    "- [0 - Packages](#0)\n",
    "    - [0.1 - Packages](#0-1)\n",
    "    - [0.2 - Self-defined Functions](#0-2)\n",
    "- [1 - Implementation](#1)\n",
    "    - [1.1 - Problem Description](#1-1)\n",
    "    - [1.2 - Methodology](#1-2)\n",
    "    - [1.3 - The Code](#1-3)\n",
    "- [2 - Forward Propagation](#2)\n",
    "    - [2.1 - Area Calculation](#2-1)\n",
    "- [3 - Backward Propagation](#3)\n",
    "    - [3.1 - Gradients of Cross Product](#3-1)\n",
    "    - [3.2 - Gradients of L2 Norm](#3-2)\n",
    "- [4 - Examples](#4)\n",
    "    - [4.1 - Sphere](#4-1)\n",
    "    - [4.2 - Standford Bunny](#4-2)\n",
    "    - [4.3 - ](#4-2)\n",
    "- [5 - Reference](#5)"
   ]
  },
  {
   "cell_type": "markdown",
   "id": "f6e4b209",
   "metadata": {},
   "source": [
    "<a name='0'></a>\n",
    "## 0 - Package and Tools\n",
    "<a name='0-1'></a>\n",
    "### 0.1 - Packages"
   ]
  },
  {
   "cell_type": "code",
   "execution_count": 1,
   "id": "b651a8b1",
   "metadata": {},
   "outputs": [
    {
     "name": "stderr",
     "output_type": "stream",
     "text": [
      "C:\\Tool\\Env\\Anaconda3\\lib\\site-packages\\paramiko\\transport.py:219: CryptographyDeprecationWarning: Blowfish has been deprecated\n",
      "  \"class\": algorithms.Blowfish,\n"
     ]
    }
   ],
   "source": [
    "# Packages\n",
    "import numpy as np\n",
    "import random\n",
    "# Visualization\n",
    "import pyvista as pv\n",
    "from pyvista import examples"
   ]
  },
  {
   "cell_type": "markdown",
   "id": "e3d6076e",
   "metadata": {},
   "source": [
    "<a name='0-2'></a>\n",
    "### 0.2 - Self-defined Functions"
   ]
  },
  {
   "cell_type": "code",
   "execution_count": 2,
   "id": "cd4b62f9",
   "metadata": {},
   "outputs": [],
   "source": [
    "# Self-defined functions\n",
    "import sys\n",
    "import os\n",
    "sys.path.append(os.path.abspath(os.path.join('..')))\n",
    "from util import util\n",
    "from util import util_3d\n",
    "from util import derivative as dv"
   ]
  },
  {
   "cell_type": "markdown",
   "id": "0bead27e",
   "metadata": {},
   "source": [
    "<a name='1'></a>\n",
    "## 1 - Implementation\n",
    "\n",
    "<a name='1-1'></a>\n",
    "### 1.1 - Problem Description\n",
    "\n",
    "To formalize the problem, I define the problem to be **finding a plane with fixed normal $N = (A, B, C)$ that can bisector the surface area of any given mesh in three dimentional space**. As a result, the plane is represented as $Ax+By+Cz+D=0$, where $D$ is the variable that I try to optimize.\n",
    "\n",
    "<a name='1-2'></a>\n",
    "### 1.2 - Methodology\n",
    "\n",
    "I use gradient descent to find the optimal value of $D$. \n",
    "\n",
    "#### 1.2.1 - Initial Solution\n",
    "I start by calculating the barycenter of the mesh:\n",
    "\n",
    "$$G=\\frac{\\sum_{i=1}^{n} v}{n}$$\n",
    "\n",
    "where $v$ is the coordinate of the vertices. Then I generate the initial $D$ by making the fixed-normal plane passing through the barycenter, which can be done by"
   ]
  },
  {
   "cell_type": "code",
   "execution_count": null,
   "id": "b68ddca6",
   "metadata": {},
   "outputs": [],
   "source": []
  },
  {
   "cell_type": "markdown",
   "id": "0f6adc7a",
   "metadata": {},
   "source": [
    "#### 1.2.2 - The Loss\n",
    "\n",
    "To monitor the optimization, I use the squre of difference between the target ratio of area $S_{target}$, which can be pre-calculated, and the area $S$ the enclosed by my decision boundary. In this case will be the sum area of all triangles and parts of triangles that at the direction of plane's normal.\n",
    "\n",
    "$$L=(S-S_{target})^2$$\n",
    "\n",
    "<a name='1-3'></a>\n",
    "### 1.3 - The code\n",
    "\n",
    "This is the implementation. The following parts will go through details of the implementation concerning some of the crucial parts."
   ]
  },
  {
   "cell_type": "markdown",
   "id": "3a1d7df3",
   "metadata": {},
   "source": [
    "<a name='2'></a>\n",
    "## 2 - Forward Propagation\n",
    "\n",
    "<a name='2-1'></a>\n",
    "### 2.1 - Area Calculation\n",
    "\n",
    "To obtain the correct enclosed by the decision boundary, I apply **directed area** and takes the magnitude.\n",
    "\n",
    "#### 2.1.1 - Local Analysis\n",
    "\n"
   ]
  },
  {
   "cell_type": "markdown",
   "id": "8ac61819",
   "metadata": {},
   "source": [
    "<a name='3'></a>\n",
    "## 3. Backward Propagation\n",
    "\n",
    "When calculating the gradients at each round, it is important to know $\\frac{dS_i}{dD}$. As I mentioned above, the enclosing area of each triangle is calculated by directed area\n",
    "\n",
    "<a name='3-1'></a>\n",
    "### 3.1 Gradients of Cross Product\n",
    "\n",
    "As it is mention above, the directed area is calculated by the cross product of two edge of subdivided triangles, supposing to be $\\vec{AR}$ and $\\vec{AP}$ ($P$ lies on line $AB$ and $R$ lies on $AC$). To obtain the correct gradients of directed area, I apply the conclusion [[1]](#ref1):\n",
    "\n",
    "$$d(a \\times b) = da \\times b + a \\times db$$\n",
    "\n",
    "Specifically, in our case\n",
    "\n",
    "$$\\frac{dS_{ARP}}{dD}=\\frac{d(\\vec{AR} \\times \\vec{AP})}{dD}$$\n",
    "\n",
    "This works similarly as $\\frac{dS_{BPQ}}{dD}$ and $\\frac{dS_{CQR}}{dD}$. Finally, the gradient of directed area gives:\n",
    "\n",
    "$$\\frac{dS_{dir}}{dD}=\\frac{dS_{ARP}}{dD}+\\frac{dS_{BPQ}}{dD}+\\frac{dS_{CQR}}{dD}$$\n",
    "\n",
    "The code is:"
   ]
  },
  {
   "cell_type": "markdown",
   "id": "ffae9f09",
   "metadata": {},
   "source": [
    "<a name='4'></a>\n",
    "## 4 - Examples"
   ]
  },
  {
   "cell_type": "code",
   "execution_count": 2,
   "id": "5eb9f734",
   "metadata": {},
   "outputs": [
    {
     "ename": "NameError",
     "evalue": "name 'util_3d' is not defined",
     "output_type": "error",
     "traceback": [
      "\u001b[1;31m---------------------------------------------------------------------------\u001b[0m",
      "\u001b[1;31mNameError\u001b[0m                                 Traceback (most recent call last)",
      "\u001b[1;32m~\\AppData\\Local\\Temp\\ipykernel_24984\\3235726505.py\u001b[0m in \u001b[0;36m<module>\u001b[1;34m\u001b[0m\n\u001b[0;32m      1\u001b[0m \u001b[0mpoints\u001b[0m \u001b[1;33m=\u001b[0m \u001b[0mnp\u001b[0m\u001b[1;33m.\u001b[0m\u001b[0marray\u001b[0m\u001b[1;33m(\u001b[0m\u001b[1;33m[\u001b[0m\u001b[1;33m[\u001b[0m\u001b[1;36m0\u001b[0m\u001b[1;33m,\u001b[0m \u001b[1;36m1\u001b[0m\u001b[1;33m,\u001b[0m \u001b[1;36m1\u001b[0m\u001b[1;33m]\u001b[0m\u001b[1;33m,\u001b[0m \u001b[1;33m[\u001b[0m\u001b[1;33m-\u001b[0m\u001b[1;36m1\u001b[0m\u001b[1;33m,\u001b[0m \u001b[1;33m-\u001b[0m\u001b[1;36m1\u001b[0m\u001b[1;33m,\u001b[0m \u001b[1;33m-\u001b[0m\u001b[1;36m1\u001b[0m\u001b[1;33m]\u001b[0m\u001b[1;33m,\u001b[0m \u001b[1;33m[\u001b[0m\u001b[1;36m1\u001b[0m\u001b[1;33m,\u001b[0m \u001b[1;36m0.5\u001b[0m\u001b[1;33m,\u001b[0m \u001b[1;36m0\u001b[0m\u001b[1;33m]\u001b[0m\u001b[1;33m,\u001b[0m \u001b[1;33m[\u001b[0m\u001b[1;33m-\u001b[0m\u001b[1;36m2\u001b[0m\u001b[1;33m,\u001b[0m\u001b[1;33m-\u001b[0m\u001b[1;36m3\u001b[0m\u001b[1;33m,\u001b[0m\u001b[1;33m-\u001b[0m\u001b[1;36m4\u001b[0m\u001b[1;33m]\u001b[0m\u001b[1;33m]\u001b[0m\u001b[1;33m)\u001b[0m\u001b[1;33m\u001b[0m\u001b[1;33m\u001b[0m\u001b[0m\n\u001b[0;32m      2\u001b[0m \u001b[0mfaces\u001b[0m \u001b[1;33m=\u001b[0m \u001b[0mnp\u001b[0m\u001b[1;33m.\u001b[0m\u001b[0marray\u001b[0m\u001b[1;33m(\u001b[0m\u001b[1;33m[\u001b[0m\u001b[1;36m3\u001b[0m\u001b[1;33m,\u001b[0m \u001b[1;36m0\u001b[0m\u001b[1;33m,\u001b[0m \u001b[1;36m1\u001b[0m\u001b[1;33m,\u001b[0m \u001b[1;36m2\u001b[0m\u001b[1;33m,\u001b[0m \u001b[1;36m3\u001b[0m\u001b[1;33m,\u001b[0m \u001b[1;36m0\u001b[0m\u001b[1;33m,\u001b[0m \u001b[1;36m3\u001b[0m\u001b[1;33m,\u001b[0m \u001b[1;36m1\u001b[0m\u001b[1;33m]\u001b[0m\u001b[1;33m)\u001b[0m\u001b[1;33m\u001b[0m\u001b[1;33m\u001b[0m\u001b[0m\n\u001b[1;32m----> 3\u001b[1;33m \u001b[0mutil_3d\u001b[0m\u001b[1;33m.\u001b[0m\u001b[0mmake_clockwise_3d\u001b[0m\u001b[1;33m(\u001b[0m\u001b[0mpoints\u001b[0m\u001b[1;33m)\u001b[0m\u001b[1;33m\u001b[0m\u001b[1;33m\u001b[0m\u001b[0m\n\u001b[0m\u001b[0;32m      4\u001b[0m \u001b[0mmesh\u001b[0m \u001b[1;33m=\u001b[0m \u001b[0mpv\u001b[0m\u001b[1;33m.\u001b[0m\u001b[0mPolyData\u001b[0m\u001b[1;33m(\u001b[0m\u001b[0mpoints\u001b[0m\u001b[1;33m,\u001b[0m \u001b[0mfaces\u001b[0m\u001b[1;33m)\u001b[0m\u001b[1;33m\u001b[0m\u001b[1;33m\u001b[0m\u001b[0m\n\u001b[0;32m      5\u001b[0m \u001b[1;33m\u001b[0m\u001b[0m\n",
      "\u001b[1;31mNameError\u001b[0m: name 'util_3d' is not defined"
     ]
    }
   ],
   "source": [
    "points = np.array([[0, 1, 1], [-1, -1, -1], [1, 0.5, 0], [-2,-3,-4]])\n",
    "faces = np.array([3, 0, 1, 2, 3, 0, 3, 1])\n",
    "util_3d.make_clockwise_3d(points)\n",
    "mesh = pv.PolyData(points, faces)\n",
    "\n",
    "plane = pv.Plane(center=(0, 0.5, 0), direction=(0, 1, 0))\n",
    "\n",
    "center = mesh.points.mean(axis=0)\n",
    "normal = mesh.face_normals[0]\n",
    "\n",
    "plotter = pv.Plotter()\n",
    "plotter.add_mesh(mesh, color=\"lightblue\", show_edges=True)\n",
    "plotter.add_mesh(plane, color=\"yellow\", show_edges=True)\n",
    "plotter.view_vector(vector=normal, viewup=[0, 1, 0])\n",
    "plotter.show_axes()\n",
    "plotter.show()"
   ]
  },
  {
   "cell_type": "code",
   "execution_count": 484,
   "id": "2d341246",
   "metadata": {},
   "outputs": [],
   "source": [
    "test = problem_mesh_3D(sphere.points, sphere.faces.reshape((-1,4))[:, 1:4], sphere.face_normals)"
   ]
  },
  {
   "cell_type": "code",
   "execution_count": 35,
   "id": "3aa92014",
   "metadata": {},
   "outputs": [],
   "source": [
    "test = problem_mesh_3D(mesh.points, mesh.faces.reshape((-1,4))[:, 1:4], mesh.face_normals)"
   ]
  },
  {
   "cell_type": "code",
   "execution_count": 54,
   "id": "6448b6b8",
   "metadata": {},
   "outputs": [
    {
     "name": "stdout",
     "output_type": "stream",
     "text": [
      "The loss is:  0.0\n",
      "dL/dS:  0.0\n",
      "The enclosing area is:  1.566799212912266\n",
      "Half area：  1.566799212912266\n",
      "dL/dD is:  0.0\n",
      "D is:  0.05223396330896816\n"
     ]
    }
   ],
   "source": [
    "test.train_one_round()"
   ]
  },
  {
   "cell_type": "code",
   "execution_count": 55,
   "id": "325b794e",
   "metadata": {},
   "outputs": [
    {
     "data": {
      "application/vnd.jupyter.widget-view+json": {
       "model_id": "00371faccecf423793df7942676a9e16",
       "version_major": 2,
       "version_minor": 0
      },
      "text/plain": [
       "Widget(value=\"<iframe src='http://localhost:50245/index.html?ui=P_0x1770a694b10_2&reconnect=auto' style='width…"
      ]
     },
     "metadata": {},
     "output_type": "display_data"
    }
   ],
   "source": [
    "test.visualize()\n"
   ]
  },
  {
   "cell_type": "code",
   "execution_count": 29,
   "id": "007bda0b",
   "metadata": {},
   "outputs": [
    {
     "data": {
      "application/vnd.jupyter.widget-view+json": {
       "model_id": "34bdca81f40c46759b12020b8feb9b50",
       "version_major": 2,
       "version_minor": 0
      },
      "text/plain": [
       "Widget(value=\"<iframe src='http://localhost:61327/index.html?ui=P_0x2ac0fd6ee50_3&reconnect=auto' style='width…"
      ]
     },
     "metadata": {},
     "output_type": "display_data"
    }
   ],
   "source": [
    "sphere = pv.Sphere()\n",
    "\n",
    "pl = pv.Plotter()\n",
    "pl.add_mesh(sphere, show_edges=True, color=\"white\")\n",
    "pl.add_points(sphere.points, color=\"red\", point_size=5)\n",
    "pl.show_axes()\n",
    "pl.show()"
   ]
  }
 ],
 "metadata": {
  "kernelspec": {
   "display_name": "Python 3 (ipykernel)",
   "language": "python",
   "name": "python3"
  },
  "language_info": {
   "codemirror_mode": {
    "name": "ipython",
    "version": 3
   },
   "file_extension": ".py",
   "mimetype": "text/x-python",
   "name": "python",
   "nbconvert_exporter": "python",
   "pygments_lexer": "ipython3",
   "version": "3.9.13"
  }
 },
 "nbformat": 4,
 "nbformat_minor": 5
}
