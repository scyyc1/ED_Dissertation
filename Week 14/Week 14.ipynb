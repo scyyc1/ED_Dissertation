{
 "cells": [
  {
   "cell_type": "markdown",
   "id": "266218d0",
   "metadata": {},
   "source": [
    "# Week 14: Poly Cube Mapping Attempt\n",
    "A naive test on poly-cube mapping"
   ]
  },
  {
   "cell_type": "markdown",
   "id": "a31142a7",
   "metadata": {},
   "source": [
    "## Table of Contents\n",
    "- [0 - Packages and Resources](#0)\n",
    "- [1 - Implementation](#1)\n",
    "    - [*1.0 - The Example](#1-0)\n",
    "    - [1.1 - Area Calculation](#1-1)\n",
    "    - [1.2 - BFS](#1-2)\n",
    "    - [1.3 - Fit a Plane](#1-3)\n",
    "    - [1.4 - Intersection of Plane and Mesh](#1-4)\n",
    "- [2 - Sample Outcome](#2)\n",
    "    - [2.1 - One Round](#2-1)\n",
    "    - [2.2 - Convergence](#2-2)\n",
    "- [3 - Reference](#3)"
   ]
  },
  {
   "cell_type": "markdown",
   "id": "01e53b96",
   "metadata": {},
   "source": [
    "<a name='0'></a>\n",
    "## 0. Packages and Resources"
   ]
  },
  {
   "cell_type": "code",
   "execution_count": 25,
   "id": "7cad8d67",
   "metadata": {},
   "outputs": [],
   "source": [
    "# Packages\n",
    "import numpy as np\n",
    "import random\n",
    "import matplotlib.pyplot as plt\n",
    "from scipy.optimize import minimize\n",
    "\n",
    "# Self-defined functions\n",
    "import sys\n",
    "import os\n",
    "sys.path.append(os.path.abspath(os.path.join('..')))\n",
    "from util.util import distance_euclidean\n",
    "from util.mesh.triangle.R3 import calculate_single_dihedral_angle, calculate_all_dihedral_angles, calculate_face_normals\n",
    "from util.mesh.triangle.common import retrieve_all_edges\n",
    "from util.triangle import calculate_area\n",
    "\n",
    "# Visualization\n",
    "import pyvista as pv\n",
    "from pyvista import examples"
   ]
  },
  {
   "cell_type": "markdown",
   "id": "bde5ef3b",
   "metadata": {},
   "source": [
    "<a name='1'></a>\n",
    "## 1. Implementation\n",
    "\n",
    "<a name='1-0'></a>\n",
    "### *1.0 The Example\n",
    "\n",
    "Here I use the sphere as an example."
   ]
  },
  {
   "cell_type": "code",
   "execution_count": 131,
   "id": "c3cf9015",
   "metadata": {},
   "outputs": [
    {
     "data": {
      "text/plain": [
       "(160, 3)"
      ]
     },
     "execution_count": 131,
     "metadata": {},
     "output_type": "execute_result"
    }
   ],
   "source": [
    "faces.shape"
   ]
  },
  {
   "cell_type": "code",
   "execution_count": 132,
   "id": "1808ad77",
   "metadata": {},
   "outputs": [
    {
     "data": {
      "text/plain": [
       "(82, 3)"
      ]
     },
     "execution_count": 132,
     "metadata": {},
     "output_type": "execute_result"
    }
   ],
   "source": [
    "vertices.shape"
   ]
  },
  {
   "cell_type": "code",
   "execution_count": 129,
   "id": "2b76294c",
   "metadata": {},
   "outputs": [
    {
     "data": {
      "application/vnd.jupyter.widget-view+json": {
       "model_id": "876b8047459b42dcb344a12957a41ec8",
       "version_major": 2,
       "version_minor": 0
      },
      "text/plain": [
       "Widget(value=\"<iframe src='http://localhost:56023/index.html?ui=P_0x2d38462b1c0_15&reconnect=auto' style='widt…"
      ]
     },
     "metadata": {},
     "output_type": "display_data"
    }
   ],
   "source": [
    "sphere = pv.Sphere(radius=5, theta_resolution=10, phi_resolution=10)\n",
    "\n",
    "faces = sphere.faces.reshape((-1,4))[:, 1:4]\n",
    "vertices = sphere.points\n",
    "angles = calculate_all_dihedral_angles(faces, vertices)\n",
    "edges = retrieve_all_edges(faces)\n",
    "\n",
    "pl = pv.Plotter()\n",
    "pl.add_mesh(sphere, show_edges=True, color=\"white\")\n",
    "pl.add_points(sphere.points, color=\"red\", point_size=5)\n",
    "# For monitor purpose\n",
    "# pl.add_points(sphere.points[55], color=\"blue\", point_size=20)\n",
    "# pl.add_points(sphere.points[64], color=\"blue\", point_size=20)\n",
    "pl.show()"
   ]
  },
  {
   "cell_type": "code",
   "execution_count": 123,
   "id": "cfab7df5",
   "metadata": {},
   "outputs": [],
   "source": [
    "class chen_2023:\n",
    "    def __init__(self, vertices, faces, lambda1=1, lambda2=1, max_iter = 30):\n",
    "        self.max_iter = max_iter\n",
    "        self.vertex_num = vertices.shape[0]\n",
    "        self.vertices = vertices\n",
    "        self.faces = faces\n",
    "        self.lambda1=lambda1\n",
    "        self.lambda2=lambda2\n",
    "        \n",
    "        self.solution = self.vertices.copy()\n",
    "        self.edges = retrieve_all_edges(faces)\n",
    "    \n",
    "    def activation(self, angle):\n",
    "        if angle < (np.pi/2):\n",
    "            return np.power(np.cos(angle), 2) / angle\n",
    "        else:\n",
    "            return np.power(np.cos(angle), 2)\n",
    "        \n",
    "    def loss_classification(self, x):\n",
    "        X = x.reshape((self.vertex_num , 3))\n",
    "        \n",
    "        EB = 0\n",
    "        for i, face in enumerate(self.faces):\n",
    "            v1, v2, v3 = X[face[0]], X[face[1]], X[face[2]]\n",
    "            a = v2 - v1\n",
    "            b = v3 - v1\n",
    "            cross_product = np.cross(a, b)\n",
    "#             normal = cross_product / np.linalg.norm(cross_product)\n",
    "            area = np.linalg.norm(cross_product) / 2\n",
    "#             EB += area * (np.abs(normal) - 1)\n",
    "            EB += np.sum(np.abs(cross_product)) - area\n",
    "#         print(EB)\n",
    "            \n",
    "        EA = 0\n",
    "        dihedral_angles = calculate_all_dihedral_angles(faces, X)\n",
    "        for angle_value in dihedral_angles.values():\n",
    "            EA += self.activation(angle_value)\n",
    "            \n",
    "        return self.lambda1*EB + self.lambda2*EA\n",
    "    \n",
    "    def optimize(self):\n",
    "        x0 = np.ravel(self.solution)\n",
    "        self.res = minimize(self.loss_classification, x0, options = {'maxiter': self.max_iter})\n",
    "        self.solution = self.res.x.reshape((self.vertex_num, 3))\n",
    "    \n",
    "    def optimize_one_round(self):\n",
    "        x0 = np.ravel(self.solution)\n",
    "        self.res = minimize(self.loss_classification, x0, options = {'maxiter': 1})\n",
    "        self.solution = self.res.x.reshape((self.vertex_num, 3))\n",
    "    \n",
    "    def optimize_test(self, num_iteration):\n",
    "        for i in range(num_iteration):\n",
    "            self.optimize_one_round()\n",
    "            print(i)"
   ]
  },
  {
   "cell_type": "code",
   "execution_count": 73,
   "id": "dfc832e9",
   "metadata": {},
   "outputs": [],
   "source": [
    "test = chen_2023(vertices.copy(), faces.copy(), max_iter = 50)"
   ]
  },
  {
   "cell_type": "code",
   "execution_count": 74,
   "id": "700fe75a",
   "metadata": {},
   "outputs": [],
   "source": [
    "test.optimize()"
   ]
  },
  {
   "cell_type": "code",
   "execution_count": 75,
   "id": "d1403770",
   "metadata": {},
   "outputs": [
    {
     "data": {
      "text/plain": [
       "      fun: 427.93887090672087\n",
       " hess_inv: array([[ 1.02008689, -0.04347212, -0.10399234, ..., -0.02882962,\n",
       "        -0.01807693,  0.16052585],\n",
       "       [-0.04347212,  1.03181948,  0.09757949, ...,  0.03766918,\n",
       "         0.02814298, -0.22320222],\n",
       "       [-0.10399234,  0.09757949,  1.0394334 , ...,  0.08273077,\n",
       "         0.06032672, -0.46547412],\n",
       "       ...,\n",
       "       [-0.02882962,  0.03766918,  0.08273077, ...,  1.00918357,\n",
       "         0.01440198, -0.10218577],\n",
       "       [-0.01807693,  0.02814298,  0.06032672, ...,  0.01440198,\n",
       "         1.01085815, -0.09077972],\n",
       "       [ 0.16052585, -0.22320222, -0.46547412, ..., -0.10218577,\n",
       "        -0.09077972,  1.67492355]])\n",
       "      jac: array([-2.93841934e+00, -1.20493698e+00,  2.79832840e+00, -3.50543976e-01,\n",
       "       -9.09084320e-01,  8.98387909e-01,  2.54907990e+00,  3.26128006e+00,\n",
       "       -6.83007050e+00, -4.35930634e+00,  1.36554718e-01, -1.90932465e+00,\n",
       "        7.81411362e+00,  1.97052002e-01, -7.76561737e-01,  1.49336128e+01,\n",
       "        1.67890549e+00, -3.67802811e+00,  1.23948555e+01, -1.39074326e+00,\n",
       "        1.62593460e+00,  6.63364029e+00, -1.25059509e+00,  3.12588120e+00,\n",
       "       -7.94637680e+00, -5.31246185e-01,  8.06683731e+00,  9.93770599e-01,\n",
       "        7.43717194e-01, -1.42491531e+00, -5.06409073e+00,  4.29359436e-01,\n",
       "        7.94138718e+00, -9.74652481e+00,  6.58908844e-01,  1.44993362e+01,\n",
       "        5.89011002e+00,  4.91106033e+00, -1.18288460e+01, -1.45007744e+01,\n",
       "        5.46119308e+00,  2.50931931e+00,  5.13293076e+00,  1.34261932e+01,\n",
       "       -5.52194595e+00, -3.34057999e+00, -6.74884796e-01, -6.60581589e+00,\n",
       "        5.63926697e-02,  6.26130295e+00,  8.18111038e+00,  4.08473969e-01,\n",
       "        1.26272202e+00,  1.57407761e+00,  6.43207550e-01, -1.46226501e+00,\n",
       "       -3.80925369e+00, -2.78301239e-01,  6.75799179e+00, -2.55031204e+00,\n",
       "       -2.49811172e+00, -4.39412689e+00, -3.09659958e+00,  8.75701904e-01,\n",
       "       -8.03460312e+00, -2.73502350e-01, -1.43522148e+01, -1.48741112e+01,\n",
       "        3.67421341e+00, -1.40599442e+00, -4.14657593e-01, -2.39141464e+00,\n",
       "       -1.06142807e+00,  3.18213272e+00,  2.72175980e+00,  8.85448456e-01,\n",
       "       -9.97840881e-01, -2.97810745e+00,  7.48060226e+00, -4.56156158e+00,\n",
       "        8.23958588e+00,  2.54839325e+00, -1.85645676e+00, -1.13532219e+01,\n",
       "        2.89312363e+00, -7.90238953e+00,  6.79965973e-01,  2.36012840e+01,\n",
       "       -1.09692116e+01,  1.63862991e+00, -1.55545425e+00,  1.10388184e+00,\n",
       "        4.56150055e-01,  2.80145645e+00, -3.59025192e+00, -5.92357635e+00,\n",
       "        1.98888779e+00, -2.73968124e+00,  5.92720413e+00,  2.81097031e+00,\n",
       "        4.28077698e-01,  3.86206436e+00, -7.79250717e+00,  9.61931229e+00,\n",
       "       -2.49913025e+00, -1.60215378e+00,  3.39326973e+01, -7.42440414e+00,\n",
       "        9.17268372e+00, -2.71408730e+01,  5.49053574e+00, -1.03315849e+01,\n",
       "        1.62219200e+01,  1.69890976e+00,  5.00246811e+00,  8.79017639e+00,\n",
       "       -5.86994171e-01, -8.51105881e+00,  1.14198837e+01, -1.88686752e+00,\n",
       "        1.23194695e+01, -4.92534256e+00,  3.75345993e+00, -3.23374557e+00,\n",
       "        7.32147217e-01, -2.83998871e+00,  1.03854752e+00, -8.68015289e-01,\n",
       "       -6.83771133e+00,  5.38096619e+00,  1.48952484e-01, -1.48097992e-01,\n",
       "       -7.77634048e+00,  1.49489212e+00,  3.57093811e-02, -3.32634354e+00,\n",
       "       -9.21924591e-01, -9.43576813e-01, -2.18090401e+01,  1.69144440e+00,\n",
       "        1.20708466e-01, -2.37982178e+00, -1.31187439e-02, -7.34027863e-01,\n",
       "        4.16305923e+00, -3.93085480e-01, -2.84518051e+00,  8.03222656e-01,\n",
       "        5.56209564e-01,  7.95071030e+00, -2.98522568e+00, -2.70001221e+00,\n",
       "        4.22383118e+00,  5.57432556e+00, -1.16990280e+00,  3.91706467e+00,\n",
       "       -8.07129288e+00, -4.88303375e+00, -8.94275665e+00,  1.06077309e+01,\n",
       "       -4.80002975e+00,  8.40618134e-01, -4.65601730e+00, -1.35673409e+01,\n",
       "       -2.31204987e-01, -8.53984833e-01, -5.76896286e+00,  1.62667465e+00,\n",
       "        7.02317810e+00,  2.54658508e+00, -1.36220932e+00, -1.95476532e+00,\n",
       "       -5.99475861e+00,  2.37992477e+00,  2.56989670e+00,  3.87962341e-01,\n",
       "       -4.37114334e+00,  1.04217529e+00, -7.65663910e+00, -7.09190369e-02,\n",
       "        5.26185989e+00,  2.63283157e+00,  3.01526642e+00, -2.71366501e+00,\n",
       "        1.01874771e+01, -1.17729950e+00,  1.05169525e+01,  5.70079041e+00,\n",
       "        3.73714447e-01,  1.53008652e+00,  7.41402817e+00, -2.25513458e-01,\n",
       "        7.55691528e-03, -4.82371140e+00,  3.42430496e+00,  1.42330170e-01,\n",
       "        2.45695496e+00, -3.05962753e+00, -1.57229614e+00,  4.27634048e+00,\n",
       "       -2.79367447e+00, -1.74667740e+00, -3.20171356e-01, -2.82213211e+00,\n",
       "       -5.48610687e-01,  4.79834366e+00,  3.48080826e+00, -9.04259109e+00,\n",
       "        8.33554459e+00, -9.39311981e-01,  1.87656021e+00,  5.92615509e+00,\n",
       "        1.84456253e+00, -1.40315628e+00, -4.34616089e+00, -2.91304016e+00,\n",
       "        1.33222580e+00,  2.65192032e+00, -2.00211716e+00, -1.94652939e+00,\n",
       "       -1.37395477e+00,  3.23701096e+00,  4.25854874e+00, -7.64325333e+00,\n",
       "       -2.31385803e+00, -7.95344925e+00,  3.26787949e+00, -2.55233002e+00,\n",
       "       -2.17251205e+00, -5.58403397e+00, -1.25944138e+00,  4.91187668e+00,\n",
       "       -1.38641586e+01,  1.50040817e+00, -1.08485413e+01, -7.13960648e+00,\n",
       "        3.87073517e-01,  1.13857994e+01, -4.66269302e+00,  1.56698036e+01,\n",
       "       -1.28293266e+01,  1.83224487e+00, -1.25067940e+01, -1.79825974e+00,\n",
       "        1.39636612e+00,  3.84949112e+00])\n",
       "  message: 'Desired error not necessarily achieved due to precision loss.'\n",
       "     nfev: 15815\n",
       "      nit: 11\n",
       "     njev: 64\n",
       "   status: 2\n",
       "  success: False\n",
       "        x: array([-0.13086451,  0.10360617, -2.41154673,  0.04872404,  0.07882055,\n",
       "        2.93321086, -0.7728855 , -0.10797149, -3.71050418, -2.00536648,\n",
       "       -0.00418585, -2.99264529, -1.79129254, -0.21627386, -1.52234074,\n",
       "       -1.64330231, -0.02241792, -0.39268861, -1.24743977, -0.24160704,\n",
       "        0.46963024, -1.52384457,  0.09615187,  1.18252631, -2.47487917,\n",
       "        0.11869133,  3.05379808, -0.89828686,  0.1439784 ,  3.00699379,\n",
       "       -1.21698021,  0.60764233, -2.75777583, -2.01439419,  1.93314699,\n",
       "       -2.75611109, -2.10612085,  2.39100903, -2.77877618, -2.1517708 ,\n",
       "        1.71270975, -0.96799307, -1.8022964 ,  1.90144677,  1.0970942 ,\n",
       "       -2.60454593,  2.38365378,  2.70956066, -2.35583501,  2.27728417,\n",
       "        2.74331287, -1.22088542,  1.56317388,  2.96853175, -1.01996813,\n",
       "        1.24010291, -3.77074485, -1.16468526,  1.80290369, -2.8493133 ,\n",
       "       -1.32742349,  1.26143054, -2.33022965, -0.83381942,  0.93569202,\n",
       "       -0.9187129 , -1.44307715,  1.14530677,  0.8375942 , -1.4369339 ,\n",
       "        1.25782086,  2.27095579, -0.80503072,  1.73108934,  2.63227829,\n",
       "       -0.19937714,  0.79782693,  2.64930609,  0.4549994 ,  0.55266856,\n",
       "       -2.76785607,  0.76481227,  1.87090585, -2.91278679,  1.17353569,\n",
       "        0.65333489, -2.39331976,  1.49039143,  1.19027182, -0.84243105,\n",
       "        0.44768117,  1.62873695,  0.84761539,  1.39614412,  1.16775792,\n",
       "        2.06302392,  1.06977692,  1.67057501,  2.55753584,  1.09672839,\n",
       "        1.32182041,  3.71467355,  1.1027586 ,  1.53238756, -3.28911844,\n",
       "        2.20212971,  2.1973616 , -2.95855893,  2.41848001,  2.24421181,\n",
       "       -2.87982264,  1.75673632,  1.69484302, -1.02058591,  1.81041191,\n",
       "        1.96986405,  0.93848684,  1.81128677,  1.96056512,  2.9748015 ,\n",
       "        2.13888567,  1.89519982,  2.57572606,  0.96969166,  0.76841603,\n",
       "        2.94144563,  0.8003002 ,  0.1342798 , -3.72433509,  1.9994827 ,\n",
       "        0.04773495, -2.92095677,  1.5053315 ,  0.17018916, -1.44909131,\n",
       "        1.35229904, -0.19213471, -0.66660129,  1.33842873, -0.11457936,\n",
       "        0.64699793,  1.38456365, -0.12728183,  1.5049749 ,  1.88250506,\n",
       "       -0.08460767,  2.88247003,  0.91778246, -0.1484348 ,  3.13372779,\n",
       "        1.09865903, -0.6634724 , -2.78598233,  2.00375909, -1.96795343,\n",
       "       -2.72721824,  1.70591634, -2.55117693, -2.86916918,  2.10127544,\n",
       "       -2.44899445, -0.983126  ,  1.66274877, -2.08559679,  0.97748274,\n",
       "        1.86401424, -2.59697942,  2.91205663,  2.35941143, -2.02851185,\n",
       "        2.63856762,  1.35842224, -1.7383229 ,  3.09771429,  1.12724478,\n",
       "       -1.42055399, -3.65879925,  1.14085983, -2.03301322, -2.7253263 ,\n",
       "        1.4258108 , -1.76497384, -2.14944002,  0.34375889, -1.54314443,\n",
       "       -0.86465954,  1.45761594, -1.83643217,  0.79233799,  1.20819634,\n",
       "       -1.8164162 ,  2.17324677,  0.82184599, -1.98027799,  2.63191361,\n",
       "        0.22774098, -0.84631667,  2.66330067, -0.30786213, -0.69264148,\n",
       "       -2.65416747, -0.78150112, -1.9437761 , -2.70931956, -1.21107472,\n",
       "       -1.62769221, -2.35409587, -1.6367881 , -1.91303607, -0.82815594,\n",
       "       -0.52055703, -1.70595069,  0.80801444, -1.5289083 , -1.83435971,\n",
       "        1.95127948, -1.07348658, -1.94480382,  2.29842543, -1.15909854,\n",
       "       -1.58021483,  3.66823974, -1.09988628, -1.5936119 , -3.27577243,\n",
       "       -2.27677081, -2.26009239, -3.17383721, -2.29785329, -2.491229  ,\n",
       "       -2.6667665 , -2.17075968, -2.51758492, -1.06712802, -2.24627197,\n",
       "       -2.25140454,  0.99860139, -2.23799059, -2.24864637,  2.92727081,\n",
       "       -1.87759525, -1.92366247,  2.61857651, -1.25761646, -0.71559321,\n",
       "        3.15503388])"
      ]
     },
     "execution_count": 75,
     "metadata": {},
     "output_type": "execute_result"
    }
   ],
   "source": [
    "test.res"
   ]
  },
  {
   "cell_type": "code",
   "execution_count": 76,
   "id": "db21b08a",
   "metadata": {},
   "outputs": [],
   "source": [
    "mesh_update = pv.PolyData(test.solution, sphere.faces)"
   ]
  },
  {
   "cell_type": "code",
   "execution_count": 126,
   "id": "fbb33dec",
   "metadata": {
    "scrolled": false
   },
   "outputs": [
    {
     "data": {
      "application/vnd.jupyter.widget-view+json": {
       "model_id": "92d4281c83bb494699773da2589590d4",
       "version_major": 2,
       "version_minor": 0
      },
      "text/plain": [
       "Widget(value=\"<iframe src='http://localhost:56023/index.html?ui=P_0x2d38a4e9ee0_12&reconnect=auto' style='widt…"
      ]
     },
     "metadata": {},
     "output_type": "display_data"
    }
   ],
   "source": [
    "p = pv.Plotter()\n",
    "p.add_mesh(mesh_update, show_edges=True, color=\"green\", opacity=0.5)\n",
    "p.add_mesh(sphere, show_edges=True, color=\"white\", opacity=0.5)\n",
    "p.add_points(mesh_update.points, color=\"red\", point_size=5)\n",
    "p.show()"
   ]
  },
  {
   "cell_type": "code",
   "execution_count": 114,
   "id": "b830dd21",
   "metadata": {},
   "outputs": [
    {
     "data": {
      "text/plain": [
       "True"
      ]
     },
     "execution_count": 114,
     "metadata": {},
     "output_type": "execute_result"
    }
   ],
   "source": [
    "ship.is_all_triangles"
   ]
  },
  {
   "cell_type": "code",
   "execution_count": 108,
   "id": "d1847220",
   "metadata": {},
   "outputs": [],
   "source": [
    "ship = pv.read('input.ply')"
   ]
  },
  {
   "cell_type": "code",
   "execution_count": 115,
   "id": "8c06467d",
   "metadata": {},
   "outputs": [],
   "source": [
    "faces = ship.faces.reshape((-1,4))[:, 1:4]\n",
    "vertices = ship.points\n",
    "angles = calculate_all_dihedral_angles(faces, vertices)\n",
    "edges = retrieve_all_edges(faces)"
   ]
  },
  {
   "cell_type": "code",
   "execution_count": 111,
   "id": "b1cec711",
   "metadata": {},
   "outputs": [
    {
     "data": {
      "text/plain": [
       "(256, 3)"
      ]
     },
     "execution_count": 111,
     "metadata": {},
     "output_type": "execute_result"
    }
   ],
   "source": [
    "vertices.shape"
   ]
  },
  {
   "cell_type": "code",
   "execution_count": 112,
   "id": "7d79fd4d",
   "metadata": {},
   "outputs": [
    {
     "data": {
      "text/plain": [
       "(508, 3)"
      ]
     },
     "execution_count": 112,
     "metadata": {},
     "output_type": "execute_result"
    }
   ],
   "source": [
    "faces.shape"
   ]
  },
  {
   "cell_type": "code",
   "execution_count": 124,
   "id": "f3552f23",
   "metadata": {},
   "outputs": [],
   "source": [
    "test_ship = chen_2023(vertices.copy(), faces.copy(), max_iter = 10)"
   ]
  },
  {
   "cell_type": "code",
   "execution_count": 125,
   "id": "7f9a73a8",
   "metadata": {},
   "outputs": [
    {
     "ename": "KeyboardInterrupt",
     "evalue": "",
     "output_type": "error",
     "traceback": [
      "\u001b[1;31m---------------------------------------------------------------------------\u001b[0m",
      "\u001b[1;31mKeyboardInterrupt\u001b[0m                         Traceback (most recent call last)",
      "\u001b[1;32m~\\AppData\\Local\\Temp\\ipykernel_19352\\155610771.py\u001b[0m in \u001b[0;36m<module>\u001b[1;34m\u001b[0m\n\u001b[1;32m----> 1\u001b[1;33m \u001b[0mtest_ship\u001b[0m\u001b[1;33m.\u001b[0m\u001b[0moptimize_test\u001b[0m\u001b[1;33m(\u001b[0m\u001b[1;36m10\u001b[0m\u001b[1;33m)\u001b[0m\u001b[1;33m\u001b[0m\u001b[1;33m\u001b[0m\u001b[0m\n\u001b[0m",
      "\u001b[1;32m~\\AppData\\Local\\Temp\\ipykernel_19352\\732141292.py\u001b[0m in \u001b[0;36moptimize_test\u001b[1;34m(self, num_iteration)\u001b[0m\n\u001b[0;32m     51\u001b[0m     \u001b[1;32mdef\u001b[0m \u001b[0moptimize_test\u001b[0m\u001b[1;33m(\u001b[0m\u001b[0mself\u001b[0m\u001b[1;33m,\u001b[0m \u001b[0mnum_iteration\u001b[0m\u001b[1;33m)\u001b[0m\u001b[1;33m:\u001b[0m\u001b[1;33m\u001b[0m\u001b[1;33m\u001b[0m\u001b[0m\n\u001b[0;32m     52\u001b[0m         \u001b[1;32mfor\u001b[0m \u001b[0mi\u001b[0m \u001b[1;32min\u001b[0m \u001b[0mrange\u001b[0m\u001b[1;33m(\u001b[0m\u001b[0mnum_iteration\u001b[0m\u001b[1;33m)\u001b[0m\u001b[1;33m:\u001b[0m\u001b[1;33m\u001b[0m\u001b[1;33m\u001b[0m\u001b[0m\n\u001b[1;32m---> 53\u001b[1;33m             \u001b[0mself\u001b[0m\u001b[1;33m.\u001b[0m\u001b[0moptimize_one_round\u001b[0m\u001b[1;33m(\u001b[0m\u001b[1;33m)\u001b[0m\u001b[1;33m\u001b[0m\u001b[1;33m\u001b[0m\u001b[0m\n\u001b[0m\u001b[0;32m     54\u001b[0m             \u001b[0mprint\u001b[0m\u001b[1;33m(\u001b[0m\u001b[0mi\u001b[0m\u001b[1;33m)\u001b[0m\u001b[1;33m\u001b[0m\u001b[1;33m\u001b[0m\u001b[0m\n",
      "\u001b[1;32m~\\AppData\\Local\\Temp\\ipykernel_19352\\732141292.py\u001b[0m in \u001b[0;36moptimize_one_round\u001b[1;34m(self)\u001b[0m\n\u001b[0;32m     46\u001b[0m     \u001b[1;32mdef\u001b[0m \u001b[0moptimize_one_round\u001b[0m\u001b[1;33m(\u001b[0m\u001b[0mself\u001b[0m\u001b[1;33m)\u001b[0m\u001b[1;33m:\u001b[0m\u001b[1;33m\u001b[0m\u001b[1;33m\u001b[0m\u001b[0m\n\u001b[0;32m     47\u001b[0m         \u001b[0mx0\u001b[0m \u001b[1;33m=\u001b[0m \u001b[0mnp\u001b[0m\u001b[1;33m.\u001b[0m\u001b[0mravel\u001b[0m\u001b[1;33m(\u001b[0m\u001b[0mself\u001b[0m\u001b[1;33m.\u001b[0m\u001b[0msolution\u001b[0m\u001b[1;33m)\u001b[0m\u001b[1;33m\u001b[0m\u001b[1;33m\u001b[0m\u001b[0m\n\u001b[1;32m---> 48\u001b[1;33m         \u001b[0mself\u001b[0m\u001b[1;33m.\u001b[0m\u001b[0mres\u001b[0m \u001b[1;33m=\u001b[0m \u001b[0mminimize\u001b[0m\u001b[1;33m(\u001b[0m\u001b[0mself\u001b[0m\u001b[1;33m.\u001b[0m\u001b[0mloss_classification\u001b[0m\u001b[1;33m,\u001b[0m \u001b[0mx0\u001b[0m\u001b[1;33m,\u001b[0m \u001b[0moptions\u001b[0m \u001b[1;33m=\u001b[0m \u001b[1;33m{\u001b[0m\u001b[1;34m'maxiter'\u001b[0m\u001b[1;33m:\u001b[0m \u001b[1;36m1\u001b[0m\u001b[1;33m}\u001b[0m\u001b[1;33m)\u001b[0m\u001b[1;33m\u001b[0m\u001b[1;33m\u001b[0m\u001b[0m\n\u001b[0m\u001b[0;32m     49\u001b[0m         \u001b[0mself\u001b[0m\u001b[1;33m.\u001b[0m\u001b[0msolution\u001b[0m \u001b[1;33m=\u001b[0m \u001b[0mself\u001b[0m\u001b[1;33m.\u001b[0m\u001b[0mres\u001b[0m\u001b[1;33m.\u001b[0m\u001b[0mx\u001b[0m\u001b[1;33m.\u001b[0m\u001b[0mreshape\u001b[0m\u001b[1;33m(\u001b[0m\u001b[1;33m(\u001b[0m\u001b[0mself\u001b[0m\u001b[1;33m.\u001b[0m\u001b[0mvertex_num\u001b[0m\u001b[1;33m,\u001b[0m \u001b[1;36m3\u001b[0m\u001b[1;33m)\u001b[0m\u001b[1;33m)\u001b[0m\u001b[1;33m\u001b[0m\u001b[1;33m\u001b[0m\u001b[0m\n\u001b[0;32m     50\u001b[0m \u001b[1;33m\u001b[0m\u001b[0m\n",
      "\u001b[1;32mC:\\Tool\\Env\\Anaconda3\\lib\\site-packages\\scipy\\optimize\\_minimize.py\u001b[0m in \u001b[0;36mminimize\u001b[1;34m(fun, x0, args, method, jac, hess, hessp, bounds, constraints, tol, callback, options)\u001b[0m\n\u001b[0;32m    692\u001b[0m         \u001b[0mres\u001b[0m \u001b[1;33m=\u001b[0m \u001b[0m_minimize_cg\u001b[0m\u001b[1;33m(\u001b[0m\u001b[0mfun\u001b[0m\u001b[1;33m,\u001b[0m \u001b[0mx0\u001b[0m\u001b[1;33m,\u001b[0m \u001b[0margs\u001b[0m\u001b[1;33m,\u001b[0m \u001b[0mjac\u001b[0m\u001b[1;33m,\u001b[0m \u001b[0mcallback\u001b[0m\u001b[1;33m,\u001b[0m \u001b[1;33m**\u001b[0m\u001b[0moptions\u001b[0m\u001b[1;33m)\u001b[0m\u001b[1;33m\u001b[0m\u001b[1;33m\u001b[0m\u001b[0m\n\u001b[0;32m    693\u001b[0m     \u001b[1;32melif\u001b[0m \u001b[0mmeth\u001b[0m \u001b[1;33m==\u001b[0m \u001b[1;34m'bfgs'\u001b[0m\u001b[1;33m:\u001b[0m\u001b[1;33m\u001b[0m\u001b[1;33m\u001b[0m\u001b[0m\n\u001b[1;32m--> 694\u001b[1;33m         \u001b[0mres\u001b[0m \u001b[1;33m=\u001b[0m \u001b[0m_minimize_bfgs\u001b[0m\u001b[1;33m(\u001b[0m\u001b[0mfun\u001b[0m\u001b[1;33m,\u001b[0m \u001b[0mx0\u001b[0m\u001b[1;33m,\u001b[0m \u001b[0margs\u001b[0m\u001b[1;33m,\u001b[0m \u001b[0mjac\u001b[0m\u001b[1;33m,\u001b[0m \u001b[0mcallback\u001b[0m\u001b[1;33m,\u001b[0m \u001b[1;33m**\u001b[0m\u001b[0moptions\u001b[0m\u001b[1;33m)\u001b[0m\u001b[1;33m\u001b[0m\u001b[1;33m\u001b[0m\u001b[0m\n\u001b[0m\u001b[0;32m    695\u001b[0m     \u001b[1;32melif\u001b[0m \u001b[0mmeth\u001b[0m \u001b[1;33m==\u001b[0m \u001b[1;34m'newton-cg'\u001b[0m\u001b[1;33m:\u001b[0m\u001b[1;33m\u001b[0m\u001b[1;33m\u001b[0m\u001b[0m\n\u001b[0;32m    696\u001b[0m         res = _minimize_newtoncg(fun, x0, args, jac, hess, hessp, callback,\n",
      "\u001b[1;32mC:\\Tool\\Env\\Anaconda3\\lib\\site-packages\\scipy\\optimize\\_optimize.py\u001b[0m in \u001b[0;36m_minimize_bfgs\u001b[1;34m(fun, x0, args, jac, callback, gtol, norm, eps, maxiter, disp, return_all, finite_diff_rel_step, **unknown_options)\u001b[0m\n\u001b[0;32m   1281\u001b[0m         \u001b[0mmaxiter\u001b[0m \u001b[1;33m=\u001b[0m \u001b[0mlen\u001b[0m\u001b[1;33m(\u001b[0m\u001b[0mx0\u001b[0m\u001b[1;33m)\u001b[0m \u001b[1;33m*\u001b[0m \u001b[1;36m200\u001b[0m\u001b[1;33m\u001b[0m\u001b[1;33m\u001b[0m\u001b[0m\n\u001b[0;32m   1282\u001b[0m \u001b[1;33m\u001b[0m\u001b[0m\n\u001b[1;32m-> 1283\u001b[1;33m     sf = _prepare_scalar_function(fun, x0, jac, args=args, epsilon=eps,\n\u001b[0m\u001b[0;32m   1284\u001b[0m                                   finite_diff_rel_step=finite_diff_rel_step)\n\u001b[0;32m   1285\u001b[0m \u001b[1;33m\u001b[0m\u001b[0m\n",
      "\u001b[1;32mC:\\Tool\\Env\\Anaconda3\\lib\\site-packages\\scipy\\optimize\\_optimize.py\u001b[0m in \u001b[0;36m_prepare_scalar_function\u001b[1;34m(fun, x0, jac, args, bounds, epsilon, finite_diff_rel_step, hess)\u001b[0m\n\u001b[0;32m    261\u001b[0m     \u001b[1;31m# ScalarFunction caches. Reuse of fun(x) during grad\u001b[0m\u001b[1;33m\u001b[0m\u001b[1;33m\u001b[0m\u001b[0m\n\u001b[0;32m    262\u001b[0m     \u001b[1;31m# calculation reduces overall function evaluations.\u001b[0m\u001b[1;33m\u001b[0m\u001b[1;33m\u001b[0m\u001b[0m\n\u001b[1;32m--> 263\u001b[1;33m     sf = ScalarFunction(fun, x0, args, grad, hess,\n\u001b[0m\u001b[0;32m    264\u001b[0m                         finite_diff_rel_step, bounds, epsilon=epsilon)\n\u001b[0;32m    265\u001b[0m \u001b[1;33m\u001b[0m\u001b[0m\n",
      "\u001b[1;32mC:\\Tool\\Env\\Anaconda3\\lib\\site-packages\\scipy\\optimize\\_differentiable_functions.py\u001b[0m in \u001b[0;36m__init__\u001b[1;34m(self, fun, x0, args, grad, hess, finite_diff_rel_step, finite_diff_bounds, epsilon)\u001b[0m\n\u001b[0;32m    175\u001b[0m \u001b[1;33m\u001b[0m\u001b[0m\n\u001b[0;32m    176\u001b[0m         \u001b[0mself\u001b[0m\u001b[1;33m.\u001b[0m\u001b[0m_update_grad_impl\u001b[0m \u001b[1;33m=\u001b[0m \u001b[0mupdate_grad\u001b[0m\u001b[1;33m\u001b[0m\u001b[1;33m\u001b[0m\u001b[0m\n\u001b[1;32m--> 177\u001b[1;33m         \u001b[0mself\u001b[0m\u001b[1;33m.\u001b[0m\u001b[0m_update_grad\u001b[0m\u001b[1;33m(\u001b[0m\u001b[1;33m)\u001b[0m\u001b[1;33m\u001b[0m\u001b[1;33m\u001b[0m\u001b[0m\n\u001b[0m\u001b[0;32m    178\u001b[0m \u001b[1;33m\u001b[0m\u001b[0m\n\u001b[0;32m    179\u001b[0m         \u001b[1;31m# Hessian Evaluation\u001b[0m\u001b[1;33m\u001b[0m\u001b[1;33m\u001b[0m\u001b[0m\n",
      "\u001b[1;32mC:\\Tool\\Env\\Anaconda3\\lib\\site-packages\\scipy\\optimize\\_differentiable_functions.py\u001b[0m in \u001b[0;36m_update_grad\u001b[1;34m(self)\u001b[0m\n\u001b[0;32m    254\u001b[0m     \u001b[1;32mdef\u001b[0m \u001b[0m_update_grad\u001b[0m\u001b[1;33m(\u001b[0m\u001b[0mself\u001b[0m\u001b[1;33m)\u001b[0m\u001b[1;33m:\u001b[0m\u001b[1;33m\u001b[0m\u001b[1;33m\u001b[0m\u001b[0m\n\u001b[0;32m    255\u001b[0m         \u001b[1;32mif\u001b[0m \u001b[1;32mnot\u001b[0m \u001b[0mself\u001b[0m\u001b[1;33m.\u001b[0m\u001b[0mg_updated\u001b[0m\u001b[1;33m:\u001b[0m\u001b[1;33m\u001b[0m\u001b[1;33m\u001b[0m\u001b[0m\n\u001b[1;32m--> 256\u001b[1;33m             \u001b[0mself\u001b[0m\u001b[1;33m.\u001b[0m\u001b[0m_update_grad_impl\u001b[0m\u001b[1;33m(\u001b[0m\u001b[1;33m)\u001b[0m\u001b[1;33m\u001b[0m\u001b[1;33m\u001b[0m\u001b[0m\n\u001b[0m\u001b[0;32m    257\u001b[0m             \u001b[0mself\u001b[0m\u001b[1;33m.\u001b[0m\u001b[0mg_updated\u001b[0m \u001b[1;33m=\u001b[0m \u001b[1;32mTrue\u001b[0m\u001b[1;33m\u001b[0m\u001b[1;33m\u001b[0m\u001b[0m\n\u001b[0;32m    258\u001b[0m \u001b[1;33m\u001b[0m\u001b[0m\n",
      "\u001b[1;32mC:\\Tool\\Env\\Anaconda3\\lib\\site-packages\\scipy\\optimize\\_differentiable_functions.py\u001b[0m in \u001b[0;36mupdate_grad\u001b[1;34m()\u001b[0m\n\u001b[0;32m    171\u001b[0m                 \u001b[0mself\u001b[0m\u001b[1;33m.\u001b[0m\u001b[0m_update_fun\u001b[0m\u001b[1;33m(\u001b[0m\u001b[1;33m)\u001b[0m\u001b[1;33m\u001b[0m\u001b[1;33m\u001b[0m\u001b[0m\n\u001b[0;32m    172\u001b[0m                 \u001b[0mself\u001b[0m\u001b[1;33m.\u001b[0m\u001b[0mngev\u001b[0m \u001b[1;33m+=\u001b[0m \u001b[1;36m1\u001b[0m\u001b[1;33m\u001b[0m\u001b[1;33m\u001b[0m\u001b[0m\n\u001b[1;32m--> 173\u001b[1;33m                 self.g = approx_derivative(fun_wrapped, self.x, f0=self.f,\n\u001b[0m\u001b[0;32m    174\u001b[0m                                            **finite_diff_options)\n\u001b[0;32m    175\u001b[0m \u001b[1;33m\u001b[0m\u001b[0m\n",
      "\u001b[1;32mC:\\Tool\\Env\\Anaconda3\\lib\\site-packages\\scipy\\optimize\\_numdiff.py\u001b[0m in \u001b[0;36mapprox_derivative\u001b[1;34m(fun, x0, method, rel_step, abs_step, f0, bounds, sparsity, as_linear_operator, args, kwargs)\u001b[0m\n\u001b[0;32m    503\u001b[0m \u001b[1;33m\u001b[0m\u001b[0m\n\u001b[0;32m    504\u001b[0m         \u001b[1;32mif\u001b[0m \u001b[0msparsity\u001b[0m \u001b[1;32mis\u001b[0m \u001b[1;32mNone\u001b[0m\u001b[1;33m:\u001b[0m\u001b[1;33m\u001b[0m\u001b[1;33m\u001b[0m\u001b[0m\n\u001b[1;32m--> 505\u001b[1;33m             return _dense_difference(fun_wrapped, x0, f0, h,\n\u001b[0m\u001b[0;32m    506\u001b[0m                                      use_one_sided, method)\n\u001b[0;32m    507\u001b[0m         \u001b[1;32melse\u001b[0m\u001b[1;33m:\u001b[0m\u001b[1;33m\u001b[0m\u001b[1;33m\u001b[0m\u001b[0m\n",
      "\u001b[1;32mC:\\Tool\\Env\\Anaconda3\\lib\\site-packages\\scipy\\optimize\\_numdiff.py\u001b[0m in \u001b[0;36m_dense_difference\u001b[1;34m(fun, x0, f0, h, use_one_sided, method)\u001b[0m\n\u001b[0;32m    574\u001b[0m             \u001b[0mx\u001b[0m \u001b[1;33m=\u001b[0m \u001b[0mx0\u001b[0m \u001b[1;33m+\u001b[0m \u001b[0mh_vecs\u001b[0m\u001b[1;33m[\u001b[0m\u001b[0mi\u001b[0m\u001b[1;33m]\u001b[0m\u001b[1;33m\u001b[0m\u001b[1;33m\u001b[0m\u001b[0m\n\u001b[0;32m    575\u001b[0m             \u001b[0mdx\u001b[0m \u001b[1;33m=\u001b[0m \u001b[0mx\u001b[0m\u001b[1;33m[\u001b[0m\u001b[0mi\u001b[0m\u001b[1;33m]\u001b[0m \u001b[1;33m-\u001b[0m \u001b[0mx0\u001b[0m\u001b[1;33m[\u001b[0m\u001b[0mi\u001b[0m\u001b[1;33m]\u001b[0m  \u001b[1;31m# Recompute dx as exactly representable number.\u001b[0m\u001b[1;33m\u001b[0m\u001b[1;33m\u001b[0m\u001b[0m\n\u001b[1;32m--> 576\u001b[1;33m             \u001b[0mdf\u001b[0m \u001b[1;33m=\u001b[0m \u001b[0mfun\u001b[0m\u001b[1;33m(\u001b[0m\u001b[0mx\u001b[0m\u001b[1;33m)\u001b[0m \u001b[1;33m-\u001b[0m \u001b[0mf0\u001b[0m\u001b[1;33m\u001b[0m\u001b[1;33m\u001b[0m\u001b[0m\n\u001b[0m\u001b[0;32m    577\u001b[0m         \u001b[1;32melif\u001b[0m \u001b[0mmethod\u001b[0m \u001b[1;33m==\u001b[0m \u001b[1;34m'3-point'\u001b[0m \u001b[1;32mand\u001b[0m \u001b[0muse_one_sided\u001b[0m\u001b[1;33m[\u001b[0m\u001b[0mi\u001b[0m\u001b[1;33m]\u001b[0m\u001b[1;33m:\u001b[0m\u001b[1;33m\u001b[0m\u001b[1;33m\u001b[0m\u001b[0m\n\u001b[0;32m    578\u001b[0m             \u001b[0mx1\u001b[0m \u001b[1;33m=\u001b[0m \u001b[0mx0\u001b[0m \u001b[1;33m+\u001b[0m \u001b[0mh_vecs\u001b[0m\u001b[1;33m[\u001b[0m\u001b[0mi\u001b[0m\u001b[1;33m]\u001b[0m\u001b[1;33m\u001b[0m\u001b[1;33m\u001b[0m\u001b[0m\n",
      "\u001b[1;32mC:\\Tool\\Env\\Anaconda3\\lib\\site-packages\\scipy\\optimize\\_numdiff.py\u001b[0m in \u001b[0;36mfun_wrapped\u001b[1;34m(x)\u001b[0m\n\u001b[0;32m    454\u001b[0m \u001b[1;33m\u001b[0m\u001b[0m\n\u001b[0;32m    455\u001b[0m     \u001b[1;32mdef\u001b[0m \u001b[0mfun_wrapped\u001b[0m\u001b[1;33m(\u001b[0m\u001b[0mx\u001b[0m\u001b[1;33m)\u001b[0m\u001b[1;33m:\u001b[0m\u001b[1;33m\u001b[0m\u001b[1;33m\u001b[0m\u001b[0m\n\u001b[1;32m--> 456\u001b[1;33m         \u001b[0mf\u001b[0m \u001b[1;33m=\u001b[0m \u001b[0mnp\u001b[0m\u001b[1;33m.\u001b[0m\u001b[0matleast_1d\u001b[0m\u001b[1;33m(\u001b[0m\u001b[0mfun\u001b[0m\u001b[1;33m(\u001b[0m\u001b[0mx\u001b[0m\u001b[1;33m,\u001b[0m \u001b[1;33m*\u001b[0m\u001b[0margs\u001b[0m\u001b[1;33m,\u001b[0m \u001b[1;33m**\u001b[0m\u001b[0mkwargs\u001b[0m\u001b[1;33m)\u001b[0m\u001b[1;33m)\u001b[0m\u001b[1;33m\u001b[0m\u001b[1;33m\u001b[0m\u001b[0m\n\u001b[0m\u001b[0;32m    457\u001b[0m         \u001b[1;32mif\u001b[0m \u001b[0mf\u001b[0m\u001b[1;33m.\u001b[0m\u001b[0mndim\u001b[0m \u001b[1;33m>\u001b[0m \u001b[1;36m1\u001b[0m\u001b[1;33m:\u001b[0m\u001b[1;33m\u001b[0m\u001b[1;33m\u001b[0m\u001b[0m\n\u001b[0;32m    458\u001b[0m             raise RuntimeError(\"`fun` return value has \"\n",
      "\u001b[1;32mC:\\Tool\\Env\\Anaconda3\\lib\\site-packages\\scipy\\optimize\\_differentiable_functions.py\u001b[0m in \u001b[0;36mfun_wrapped\u001b[1;34m(x)\u001b[0m\n\u001b[0;32m    135\u001b[0m             \u001b[1;31m# Overwriting results in undefined behaviour because\u001b[0m\u001b[1;33m\u001b[0m\u001b[1;33m\u001b[0m\u001b[0m\n\u001b[0;32m    136\u001b[0m             \u001b[1;31m# fun(self.x) will change self.x, with the two no longer linked.\u001b[0m\u001b[1;33m\u001b[0m\u001b[1;33m\u001b[0m\u001b[0m\n\u001b[1;32m--> 137\u001b[1;33m             \u001b[0mfx\u001b[0m \u001b[1;33m=\u001b[0m \u001b[0mfun\u001b[0m\u001b[1;33m(\u001b[0m\u001b[0mnp\u001b[0m\u001b[1;33m.\u001b[0m\u001b[0mcopy\u001b[0m\u001b[1;33m(\u001b[0m\u001b[0mx\u001b[0m\u001b[1;33m)\u001b[0m\u001b[1;33m,\u001b[0m \u001b[1;33m*\u001b[0m\u001b[0margs\u001b[0m\u001b[1;33m)\u001b[0m\u001b[1;33m\u001b[0m\u001b[1;33m\u001b[0m\u001b[0m\n\u001b[0m\u001b[0;32m    138\u001b[0m             \u001b[1;31m# Make sure the function returns a true scalar\u001b[0m\u001b[1;33m\u001b[0m\u001b[1;33m\u001b[0m\u001b[0m\n\u001b[0;32m    139\u001b[0m             \u001b[1;32mif\u001b[0m \u001b[1;32mnot\u001b[0m \u001b[0mnp\u001b[0m\u001b[1;33m.\u001b[0m\u001b[0misscalar\u001b[0m\u001b[1;33m(\u001b[0m\u001b[0mfx\u001b[0m\u001b[1;33m)\u001b[0m\u001b[1;33m:\u001b[0m\u001b[1;33m\u001b[0m\u001b[1;33m\u001b[0m\u001b[0m\n",
      "\u001b[1;32m~\\AppData\\Local\\Temp\\ipykernel_19352\\732141292.py\u001b[0m in \u001b[0;36mloss_classification\u001b[1;34m(self, x)\u001b[0m\n\u001b[0;32m     33\u001b[0m \u001b[1;33m\u001b[0m\u001b[0m\n\u001b[0;32m     34\u001b[0m         \u001b[0mEA\u001b[0m \u001b[1;33m=\u001b[0m \u001b[1;36m0\u001b[0m\u001b[1;33m\u001b[0m\u001b[1;33m\u001b[0m\u001b[0m\n\u001b[1;32m---> 35\u001b[1;33m         \u001b[0mdihedral_angles\u001b[0m \u001b[1;33m=\u001b[0m \u001b[0mcalculate_all_dihedral_angles\u001b[0m\u001b[1;33m(\u001b[0m\u001b[0mfaces\u001b[0m\u001b[1;33m,\u001b[0m \u001b[0mX\u001b[0m\u001b[1;33m)\u001b[0m\u001b[1;33m\u001b[0m\u001b[1;33m\u001b[0m\u001b[0m\n\u001b[0m\u001b[0;32m     36\u001b[0m         \u001b[1;32mfor\u001b[0m \u001b[0mangle_value\u001b[0m \u001b[1;32min\u001b[0m \u001b[0mdihedral_angles\u001b[0m\u001b[1;33m.\u001b[0m\u001b[0mvalues\u001b[0m\u001b[1;33m(\u001b[0m\u001b[1;33m)\u001b[0m\u001b[1;33m:\u001b[0m\u001b[1;33m\u001b[0m\u001b[1;33m\u001b[0m\u001b[0m\n\u001b[0;32m     37\u001b[0m             \u001b[0mEA\u001b[0m \u001b[1;33m+=\u001b[0m \u001b[0mself\u001b[0m\u001b[1;33m.\u001b[0m\u001b[0mactivation\u001b[0m\u001b[1;33m(\u001b[0m\u001b[0mangle_value\u001b[0m\u001b[1;33m)\u001b[0m\u001b[1;33m\u001b[0m\u001b[1;33m\u001b[0m\u001b[0m\n",
      "\u001b[1;32m~\\Desktop\\UoE\\OneDrive - University of Edinburgh\\academy\\Dissertation\\Workplace\\ED_Dissertation\\util\\mesh\\triangle\\R3.py\u001b[0m in \u001b[0;36mcalculate_all_dihedral_angles\u001b[1;34m(faces, vertices)\u001b[0m\n\u001b[0;32m     50\u001b[0m         \u001b[0mD\u001b[0m \u001b[1;33m=\u001b[0m \u001b[0mvertices\u001b[0m\u001b[1;33m[\u001b[0m\u001b[0mD\u001b[0m\u001b[1;33m]\u001b[0m\u001b[1;33m\u001b[0m\u001b[1;33m\u001b[0m\u001b[0m\n\u001b[0;32m     51\u001b[0m \u001b[1;33m\u001b[0m\u001b[0m\n\u001b[1;32m---> 52\u001b[1;33m         \u001b[0mangle\u001b[0m \u001b[1;33m=\u001b[0m \u001b[0mcalculate_single_dihedral_angle\u001b[0m\u001b[1;33m(\u001b[0m\u001b[0mA\u001b[0m\u001b[1;33m,\u001b[0m \u001b[0mB\u001b[0m\u001b[1;33m,\u001b[0m \u001b[0mC\u001b[0m\u001b[1;33m,\u001b[0m \u001b[0mD\u001b[0m\u001b[1;33m)\u001b[0m\u001b[1;33m\u001b[0m\u001b[1;33m\u001b[0m\u001b[0m\n\u001b[0m\u001b[0;32m     53\u001b[0m         \u001b[0medge_to_angle\u001b[0m\u001b[1;33m[\u001b[0m\u001b[0medge\u001b[0m\u001b[1;33m]\u001b[0m \u001b[1;33m=\u001b[0m \u001b[0mangle\u001b[0m\u001b[1;33m\u001b[0m\u001b[1;33m\u001b[0m\u001b[0m\n\u001b[0;32m     54\u001b[0m \u001b[1;33m\u001b[0m\u001b[0m\n",
      "\u001b[1;32m~\\Desktop\\UoE\\OneDrive - University of Edinburgh\\academy\\Dissertation\\Workplace\\ED_Dissertation\\util\\mesh\\triangle\\R3.py\u001b[0m in \u001b[0;36mcalculate_single_dihedral_angle\u001b[1;34m(A_common, B_common, C, D)\u001b[0m\n\u001b[0;32m     23\u001b[0m     \u001b[0mcross_product\u001b[0m \u001b[1;33m=\u001b[0m \u001b[0mnp\u001b[0m\u001b[1;33m.\u001b[0m\u001b[0mcross\u001b[0m\u001b[1;33m(\u001b[0m\u001b[0mN1\u001b[0m\u001b[1;33m,\u001b[0m \u001b[0mN2\u001b[0m\u001b[1;33m)\u001b[0m\u001b[1;33m\u001b[0m\u001b[1;33m\u001b[0m\u001b[0m\n\u001b[0;32m     24\u001b[0m \u001b[1;33m\u001b[0m\u001b[0m\n\u001b[1;32m---> 25\u001b[1;33m     \u001b[0mcos_theta\u001b[0m \u001b[1;33m=\u001b[0m \u001b[0mnp\u001b[0m\u001b[1;33m.\u001b[0m\u001b[0mclip\u001b[0m\u001b[1;33m(\u001b[0m\u001b[0mdot_product\u001b[0m \u001b[1;33m/\u001b[0m \u001b[1;33m(\u001b[0m\u001b[0mnp\u001b[0m\u001b[1;33m.\u001b[0m\u001b[0mlinalg\u001b[0m\u001b[1;33m.\u001b[0m\u001b[0mnorm\u001b[0m\u001b[1;33m(\u001b[0m\u001b[0mN1\u001b[0m\u001b[1;33m)\u001b[0m \u001b[1;33m*\u001b[0m \u001b[0mnp\u001b[0m\u001b[1;33m.\u001b[0m\u001b[0mlinalg\u001b[0m\u001b[1;33m.\u001b[0m\u001b[0mnorm\u001b[0m\u001b[1;33m(\u001b[0m\u001b[0mN2\u001b[0m\u001b[1;33m)\u001b[0m\u001b[1;33m)\u001b[0m\u001b[1;33m,\u001b[0m \u001b[1;33m-\u001b[0m\u001b[1;36m1\u001b[0m\u001b[1;33m,\u001b[0m \u001b[1;36m1\u001b[0m\u001b[1;33m)\u001b[0m\u001b[1;33m\u001b[0m\u001b[1;33m\u001b[0m\u001b[0m\n\u001b[0m\u001b[0;32m     26\u001b[0m     \u001b[0mtheta\u001b[0m \u001b[1;33m=\u001b[0m \u001b[0mnp\u001b[0m\u001b[1;33m.\u001b[0m\u001b[0marccos\u001b[0m\u001b[1;33m(\u001b[0m\u001b[0mcos_theta\u001b[0m\u001b[1;33m)\u001b[0m\u001b[1;33m\u001b[0m\u001b[1;33m\u001b[0m\u001b[0m\n\u001b[0;32m     27\u001b[0m \u001b[1;33m\u001b[0m\u001b[0m\n",
      "\u001b[1;32m<__array_function__ internals>\u001b[0m in \u001b[0;36mnorm\u001b[1;34m(*args, **kwargs)\u001b[0m\n",
      "\u001b[1;32mC:\\Tool\\Env\\Anaconda3\\lib\\site-packages\\numpy\\linalg\\linalg.py\u001b[0m in \u001b[0;36mnorm\u001b[1;34m(x, ord, axis, keepdims)\u001b[0m\n\u001b[0;32m   2528\u001b[0m                 \u001b[0msqnorm\u001b[0m \u001b[1;33m=\u001b[0m \u001b[0mdot\u001b[0m\u001b[1;33m(\u001b[0m\u001b[0mx\u001b[0m\u001b[1;33m.\u001b[0m\u001b[0mreal\u001b[0m\u001b[1;33m,\u001b[0m \u001b[0mx\u001b[0m\u001b[1;33m.\u001b[0m\u001b[0mreal\u001b[0m\u001b[1;33m)\u001b[0m \u001b[1;33m+\u001b[0m \u001b[0mdot\u001b[0m\u001b[1;33m(\u001b[0m\u001b[0mx\u001b[0m\u001b[1;33m.\u001b[0m\u001b[0mimag\u001b[0m\u001b[1;33m,\u001b[0m \u001b[0mx\u001b[0m\u001b[1;33m.\u001b[0m\u001b[0mimag\u001b[0m\u001b[1;33m)\u001b[0m\u001b[1;33m\u001b[0m\u001b[1;33m\u001b[0m\u001b[0m\n\u001b[0;32m   2529\u001b[0m             \u001b[1;32melse\u001b[0m\u001b[1;33m:\u001b[0m\u001b[1;33m\u001b[0m\u001b[1;33m\u001b[0m\u001b[0m\n\u001b[1;32m-> 2530\u001b[1;33m                 \u001b[0msqnorm\u001b[0m \u001b[1;33m=\u001b[0m \u001b[0mdot\u001b[0m\u001b[1;33m(\u001b[0m\u001b[0mx\u001b[0m\u001b[1;33m,\u001b[0m \u001b[0mx\u001b[0m\u001b[1;33m)\u001b[0m\u001b[1;33m\u001b[0m\u001b[1;33m\u001b[0m\u001b[0m\n\u001b[0m\u001b[0;32m   2531\u001b[0m             \u001b[0mret\u001b[0m \u001b[1;33m=\u001b[0m \u001b[0msqrt\u001b[0m\u001b[1;33m(\u001b[0m\u001b[0msqnorm\u001b[0m\u001b[1;33m)\u001b[0m\u001b[1;33m\u001b[0m\u001b[1;33m\u001b[0m\u001b[0m\n\u001b[0;32m   2532\u001b[0m             \u001b[1;32mif\u001b[0m \u001b[0mkeepdims\u001b[0m\u001b[1;33m:\u001b[0m\u001b[1;33m\u001b[0m\u001b[1;33m\u001b[0m\u001b[0m\n",
      "\u001b[1;32m<__array_function__ internals>\u001b[0m in \u001b[0;36mdot\u001b[1;34m(*args, **kwargs)\u001b[0m\n",
      "\u001b[1;31mKeyboardInterrupt\u001b[0m: "
     ]
    }
   ],
   "source": [
    "test_ship.optimize_test(10)"
   ]
  },
  {
   "cell_type": "code",
   "execution_count": null,
   "id": "ad861f72",
   "metadata": {},
   "outputs": [],
   "source": [
    "air_plane_update = pv.PolyData(test_air_plane.solution, test_air_plane.faces)"
   ]
  },
  {
   "cell_type": "code",
   "execution_count": 128,
   "id": "bc139fd1",
   "metadata": {},
   "outputs": [
    {
     "data": {
      "application/vnd.jupyter.widget-view+json": {
       "model_id": "8a5a3872f96c4694affc3a744d3348b8",
       "version_major": 2,
       "version_minor": 0
      },
      "text/plain": [
       "Widget(value=\"<iframe src='http://localhost:56023/index.html?ui=P_0x2d384626520_14&reconnect=auto' style='widt…"
      ]
     },
     "metadata": {},
     "output_type": "display_data"
    }
   ],
   "source": [
    "p2 = pv.Plotter()\n",
    "# p2.add_mesh(air_plane_update, show_edges=True, color=\"green\", opacity=0.5)\n",
    "p2.add_mesh(ship, show_edges=True, color=\"white\", opacity=0.5)\n",
    "p2.add_points(ship.points, color=\"red\", point_size=5)\n",
    "p2.show()"
   ]
  }
 ],
 "metadata": {
  "kernelspec": {
   "display_name": "Python 3 (ipykernel)",
   "language": "python",
   "name": "python3"
  },
  "language_info": {
   "codemirror_mode": {
    "name": "ipython",
    "version": 3
   },
   "file_extension": ".py",
   "mimetype": "text/x-python",
   "name": "python",
   "nbconvert_exporter": "python",
   "pygments_lexer": "ipython3",
   "version": "3.9.13"
  }
 },
 "nbformat": 4,
 "nbformat_minor": 5
}
