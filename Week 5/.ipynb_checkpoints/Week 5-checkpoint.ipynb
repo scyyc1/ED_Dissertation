{
 "cells": [
  {
   "cell_type": "markdown",
   "id": "7a3b609d",
   "metadata": {},
   "source": [
    "# Week 5: Directed Area\n",
    "**Target**: "
   ]
  },
  {
   "cell_type": "code",
   "execution_count": 1,
   "id": "3b72197e",
   "metadata": {},
   "outputs": [],
   "source": [
    "# Packages\n",
    "import numpy as np\n",
    "import random\n",
    "import matplotlib.pyplot as plt\n",
    "\n",
    "# Self-defined functions\n",
    "import sys\n",
    "import os\n",
    "sys.path.append(os.path.abspath(os.path.join('..')))\n",
    "from util import util\n",
    "\n",
    "# Visualization\n",
    "import pyvista as pv\n",
    "from pyvista import examples"
   ]
  },
  {
   "cell_type": "code",
   "execution_count": 3,
   "id": "5d2636a1",
   "metadata": {},
   "outputs": [
    {
     "name": "stdout",
     "output_type": "stream",
     "text": [
      "The line equation is: -2x + 2y + -2 = 0\n"
     ]
    }
   ],
   "source": [
    "def line_equation(p1, p2):\n",
    "    x1, y1 = p1\n",
    "    x2, y2 = p2\n",
    "    if x1 == x2:\n",
    "        return np.array([1, 0, -x1])\n",
    "    else:\n",
    "        return np.array([-(y2-y1), x2-x1, x1*(y2-y1)-y1*(x2-x1)])\n",
    "\n",
    "# 测试函数\n",
    "point1 = np.array([1, 2])\n",
    "point2 = np.array([3, 4])\n",
    "a, b, c = line_equation(point1, point2)\n",
    "\n",
    "print(f\"The line equation is: {a}x + {b}y + {c} = 0\")"
   ]
  },
  {
   "cell_type": "code",
   "execution_count": 4,
   "id": "c0271afa",
   "metadata": {},
   "outputs": [
    {
     "ename": "NameError",
     "evalue": "name 'intersection' is not defined",
     "output_type": "error",
     "traceback": [
      "\u001b[1;31m---------------------------------------------------------------------------\u001b[0m",
      "\u001b[1;31mNameError\u001b[0m                                 Traceback (most recent call last)",
      "Cell \u001b[1;32mIn[4], line 15\u001b[0m\n\u001b[0;32m     12\u001b[0m line1 \u001b[38;5;241m=\u001b[39m np\u001b[38;5;241m.\u001b[39marray([\u001b[38;5;241m1\u001b[39m, \u001b[38;5;241m-\u001b[39m\u001b[38;5;241m1\u001b[39m, \u001b[38;5;241m-\u001b[39m\u001b[38;5;241m3\u001b[39m]) \u001b[38;5;66;03m# x - y - 3 = 0\u001b[39;00m\n\u001b[0;32m     13\u001b[0m line2 \u001b[38;5;241m=\u001b[39m np\u001b[38;5;241m.\u001b[39marray([\u001b[38;5;241m1\u001b[39m, \u001b[38;5;241m1\u001b[39m, \u001b[38;5;241m-\u001b[39m\u001b[38;5;241m1\u001b[39m])  \u001b[38;5;66;03m# x + y - 1 = 0\u001b[39;00m\n\u001b[1;32m---> 15\u001b[0m intersection_point \u001b[38;5;241m=\u001b[39m \u001b[43mintersection\u001b[49m(line1, line2)\n\u001b[0;32m     17\u001b[0m \u001b[38;5;28mprint\u001b[39m(\u001b[38;5;124mf\u001b[39m\u001b[38;5;124m\"\u001b[39m\u001b[38;5;124mThe intersection point of the two lines is: \u001b[39m\u001b[38;5;132;01m{\u001b[39;00mintersection_point\u001b[38;5;132;01m}\u001b[39;00m\u001b[38;5;124m\"\u001b[39m)\n",
      "\u001b[1;31mNameError\u001b[0m: name 'intersection' is not defined"
     ]
    }
   ],
   "source": [
    "def line_intersection(l1, l2):\n",
    "    A1, B1, C1 = l1\n",
    "    A2, B2, C2 = l2\n",
    "\n",
    "    coeff_matrix = np.array([[A1, B1], [A2, B2]])\n",
    "    result_vector = np.array([-C1, -C2])\n",
    "\n",
    "    intersection_point = np.linalg.solve(coeff_matrix, result_vector)\n",
    "\n",
    "    return intersection_point\n",
    "\n",
    "line1 = np.array([1, -1, -3]) # x - y - 3 = 0\n",
    "line2 = np.array([1, 1, -1])  # x + y - 1 = 0\n",
    "\n",
    "intersection_point = line_intersection(line1, line2)\n",
    "\n",
    "print(f\"The intersection point of the two lines is: {intersection_point}\")\n"
   ]
  }
 ],
 "metadata": {
  "kernelspec": {
   "display_name": "Python 3 (ipykernel)",
   "language": "python",
   "name": "python3"
  },
  "language_info": {
   "codemirror_mode": {
    "name": "ipython",
    "version": 3
   },
   "file_extension": ".py",
   "mimetype": "text/x-python",
   "name": "python",
   "nbconvert_exporter": "python",
   "pygments_lexer": "ipython3",
   "version": "3.11.0"
  }
 },
 "nbformat": 4,
 "nbformat_minor": 5
}
