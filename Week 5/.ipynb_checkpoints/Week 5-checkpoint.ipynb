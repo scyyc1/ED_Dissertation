{
 "cells": [
  {
   "cell_type": "markdown",
   "id": "4fe73c0e",
   "metadata": {},
   "source": [
    "# Week 5: Directed Area\n",
    "**Target**: "
   ]
  },
  {
   "cell_type": "code",
   "execution_count": 1,
   "id": "d0ee9c6f",
   "metadata": {},
   "outputs": [],
   "source": [
    "# Packages\n",
    "import numpy as np\n",
    "import random\n",
    "import matplotlib.pyplot as plt\n",
    "\n",
    "# Self-defined functions\n",
    "import sys\n",
    "import os\n",
    "sys.path.append(os.path.abspath(os.path.join('..')))\n",
    "from util import util\n",
    "\n",
    "# Visualization\n",
    "import pyvista as pv\n",
    "from pyvista import examples"
   ]
  },
  {
   "cell_type": "code",
   "execution_count": 3,
   "id": "58a9ac05",
   "metadata": {},
   "outputs": [
    {
     "name": "stdout",
     "output_type": "stream",
     "text": [
      "The line equation is: -2x + 2y + -2 = 0\n"
     ]
    }
   ],
   "source": [
    "def line_equation(p1, p2):\n",
    "    x1, y1 = p1\n",
    "    x2, y2 = p2\n",
    "    if x1 == x2:\n",
    "        return np.array([1, 0, -x1])\n",
    "    else:\n",
    "        return np.array([-(y2-y1), x2-x1, x1*(y2-y1)-y1*(x2-x1)])\n",
    "\n",
    "# 测试函数\n",
    "point1 = np.array([1, 2])\n",
    "point2 = np.array([3, 4])\n",
    "a, b, c = line_equation(point1, point2)\n",
    "\n",
    "print(f\"The line equation is: {a}x + {b}y + {c} = 0\")"
   ]
  },
  {
   "cell_type": "code",
   "execution_count": 5,
   "id": "70a27b2b",
   "metadata": {},
   "outputs": [
    {
     "name": "stdout",
     "output_type": "stream",
     "text": [
      "The intersection point of the two lines is: [ 2. -1.]\n"
     ]
    }
   ],
   "source": [
    "def line_intersection(l1, l2):\n",
    "    A1, B1, C1 = l1\n",
    "    A2, B2, C2 = l2\n",
    "\n",
    "    coeff_matrix = np.array([[A1, B1], [A2, B2]])\n",
    "    result_vector = np.array([-C1, -C2])\n",
    "\n",
    "    intersection_point = np.linalg.solve(coeff_matrix, result_vector)\n",
    "\n",
    "    return intersection_point\n",
    "\n",
    "line1 = np.array([1, -1, -3]) # x - y - 3 = 0\n",
    "line2 = np.array([1, 1, -1])  # x + y - 1 = 0\n",
    "\n",
    "intersection_point = line_intersection(line1, line2)\n",
    "\n",
    "print(f\"The intersection point of the two lines is: {intersection_point}\")\n"
   ]
  },
  {
   "cell_type": "code",
   "execution_count": 67,
   "id": "a4714631",
   "metadata": {
    "scrolled": false
   },
   "outputs": [
    {
     "data": {
      "application/vnd.jupyter.widget-view+json": {
       "model_id": "abe91741681647f088d9f0bd242d6725",
       "version_major": 2,
       "version_minor": 0
      },
      "text/plain": [
       "Widget(value=\"<iframe src='http://localhost:49688/index.html?ui=P_0x1fe296430d0_34&reconnect=auto' style='widt…"
      ]
     },
     "metadata": {},
     "output_type": "display_data"
    }
   ],
   "source": [
    "# A random 2D mesh\n",
    "points = np.hstack((np.random.rand(100, 2), np.zeros((100, 1), float)))\n",
    "mesh_2D = pv.PolyData(points).delaunay_2d()\n",
    "\n",
    "# A random 2D line\n",
    "# two_points = np.hstack((np.random.rand(2, 2), np.zeros((2, 1), float)))\n",
    "x=np.array([random.random(), 0, 0])\n",
    "y=np.array([0, random.random(), 0])\n",
    "line=pv.Line(x, y)\n",
    "line_coef=line_equation(x[:2],y[:2])\n",
    "line.field_data[\"coef\"]=line_coef\n",
    "\n",
    "pl = pv.Plotter()\n",
    "pl.add_mesh(mesh_2D,show_edges=True, point_size=15)\n",
    "pl.add_points(points, color=\"red\", point_size=5)\n",
    "pl.add_mesh(line, show_edges=True, color=\"blue\", line_width=8)\n",
    "pl.camera_position = [(2, 2, -3), (0, 0, 1), (1, 0, 0)]\n",
    "pl.show()"
   ]
  },
  {
   "cell_type": "code",
   "execution_count": 59,
   "id": "e7dadab2",
   "metadata": {},
   "outputs": [],
   "source": [
    "mesh_2D=mesh_2D.compute_cell_sizes(area=True, length=False, volume=False)"
   ]
  },
  {
   "cell_type": "code",
   "execution_count": 108,
   "id": "411129b0",
   "metadata": {},
   "outputs": [
    {
     "data": {
      "text/html": [
       "<table><tr><th>Header</th><th>Data Arrays</th></tr><tr><td>\n",
       "<table>\n",
       "<tr><th>PolyData</th><th>Information</th></tr>\n",
       "<tr><td>N Cells</td><td>181</td></tr>\n",
       "<tr><td>N Points</td><td>100</td></tr>\n",
       "<tr><td>N Strips</td><td>0</td></tr>\n",
       "<tr><td>X Bounds</td><td>9.803e-04, 9.884e-01</td></tr>\n",
       "<tr><td>Y Bounds</td><td>3.270e-02, 9.886e-01</td></tr>\n",
       "<tr><td>Z Bounds</td><td>0.000e+00, 0.000e+00</td></tr>\n",
       "<tr><td>N Arrays</td><td>3</td></tr>\n",
       "</table>\n",
       "\n",
       "</td><td>\n",
       "<table>\n",
       "<tr><th>Name</th><th>Field</th><th>Type</th><th>N Comp</th><th>Min</th><th>Max</th></tr>\n",
       "<tr><td><b>directed distance to line</b></td><td>Points</td><td>float64</td><td>1</td><td>-1.043e+00</td><td>1.364e-01</td></tr>\n",
       "<tr><td>vtkOriginalPointIds</td><td>Points</td><td>int64</td><td>1</td><td>0.000e+00</td><td>9.900e+01</td></tr>\n",
       "<tr><td>vtkOriginalCellIds</td><td>Cells</td><td>int64</td><td>1</td><td>0.000e+00</td><td>1.800e+02</td></tr>\n",
       "</table>\n",
       "\n",
       "</td></tr> </table>"
      ],
      "text/plain": [
       "PolyData (0x1fe85833ee0)\n",
       "  N Cells:    181\n",
       "  N Points:   100\n",
       "  N Strips:   0\n",
       "  X Bounds:   9.803e-04, 9.884e-01\n",
       "  Y Bounds:   3.270e-02, 9.886e-01\n",
       "  Z Bounds:   0.000e+00, 0.000e+00\n",
       "  N Arrays:   3"
      ]
     },
     "execution_count": 108,
     "metadata": {},
     "output_type": "execute_result"
    }
   ],
   "source": [
    "mesh_2D"
   ]
  },
  {
   "cell_type": "code",
   "execution_count": 69,
   "id": "4877049c",
   "metadata": {},
   "outputs": [
    {
     "data": {
      "text/plain": [
       "pyvista_ndarray([-0.31134287, -0.54623202,  0.17006545])"
      ]
     },
     "execution_count": 69,
     "metadata": {},
     "output_type": "execute_result"
    }
   ],
   "source": [
    "line.field_data[\"coef\"]"
   ]
  },
  {
   "cell_type": "code",
   "execution_count": 71,
   "id": "26789eb2",
   "metadata": {},
   "outputs": [],
   "source": [
    "def directed_point_to_line_dist(p, line):\n",
    "    x0, y0 = p\n",
    "    A, B, C = line\n",
    "    return (A*x0 + B*y0 + C) / np.sqrt(A**2 + B**2)"
   ]
  },
  {
   "cell_type": "code",
   "execution_count": 83,
   "id": "f37c1ad7",
   "metadata": {},
   "outputs": [
    {
     "data": {
      "text/html": [
       "<table><tr><th>Header</th><th>Data Arrays</th></tr><tr><td>\n",
       "<table>\n",
       "<tr><th>PolyData</th><th>Information</th></tr>\n",
       "<tr><td>N Cells</td><td>181</td></tr>\n",
       "<tr><td>N Points</td><td>100</td></tr>\n",
       "<tr><td>N Strips</td><td>0</td></tr>\n",
       "<tr><td>X Bounds</td><td>9.803e-04, 9.884e-01</td></tr>\n",
       "<tr><td>Y Bounds</td><td>3.270e-02, 9.886e-01</td></tr>\n",
       "<tr><td>Z Bounds</td><td>0.000e+00, 0.000e+00</td></tr>\n",
       "<tr><td>N Arrays</td><td>1</td></tr>\n",
       "</table>\n",
       "\n",
       "</td><td>\n",
       "<table>\n",
       "<tr><th>Name</th><th>Field</th><th>Type</th><th>N Comp</th><th>Min</th><th>Max</th></tr>\n",
       "<tr><td><b>directed distance to line</b></td><td>Points</td><td>float64</td><td>1</td><td>-1.043e+00</td><td>1.364e-01</td></tr>\n",
       "</table>\n",
       "\n",
       "</td></tr> </table>"
      ],
      "text/plain": [
       "PolyData (0x1fe85833ee0)\n",
       "  N Cells:    181\n",
       "  N Points:   100\n",
       "  N Strips:   0\n",
       "  X Bounds:   9.803e-04, 9.884e-01\n",
       "  Y Bounds:   3.270e-02, 9.886e-01\n",
       "  Z Bounds:   0.000e+00, 0.000e+00\n",
       "  N Arrays:   1"
      ]
     },
     "execution_count": 83,
     "metadata": {},
     "output_type": "execute_result"
    }
   ],
   "source": [
    "mesh_2D"
   ]
  },
  {
   "cell_type": "code",
   "execution_count": 86,
   "id": "7c68e182",
   "metadata": {},
   "outputs": [],
   "source": [
    "mesh_2D.point_data[\"directed distance to line\"]=[directed_point_to_line_dist(p, line_coef) for p in mesh_2D.points[:,:2]]"
   ]
  },
  {
   "cell_type": "code",
   "execution_count": 87,
   "id": "829e511c",
   "metadata": {},
   "outputs": [
    {
     "data": {
      "text/plain": [
       "pyvista_ndarray([-3.06798251e-01, -6.85506116e-01, -6.74891684e-01,\n",
       "                 -9.05096715e-01, -4.60058844e-01, -5.80310426e-02,\n",
       "                 -2.90208438e-01, -8.60689107e-01, -4.02075796e-01,\n",
       "                 -2.40877510e-01, -9.14848081e-01, -5.39139028e-01,\n",
       "                 -2.02867865e-01, -3.81928376e-01, -8.31652732e-01,\n",
       "                 -2.68840435e-01, -4.36928717e-01, -7.18815341e-01,\n",
       "                 -2.90486410e-01, -8.05859629e-01, -4.02094539e-01,\n",
       "                  9.21268658e-02, -1.74313044e-01, -3.98709199e-01,\n",
       "                 -5.40812608e-02, -4.63315655e-01, -1.40745752e-01,\n",
       "                 -1.64930258e-01,  3.40307612e-02, -4.67486970e-01,\n",
       "                 -7.08600656e-01, -1.91637663e-02, -1.87810906e-01,\n",
       "                 -6.73585200e-01, -8.88199224e-01, -7.02173464e-01,\n",
       "                 -4.72463635e-01, -7.43473333e-02, -4.09968978e-01,\n",
       "                 -9.06904718e-01, -4.72233520e-01, -5.05793829e-01,\n",
       "                  1.36389265e-01, -4.81347668e-01, -1.04326889e+00,\n",
       "                  2.63710858e-02, -4.83082024e-02, -5.79703425e-01,\n",
       "                 -5.35315275e-01, -5.32422965e-01, -1.51828581e-01,\n",
       "                 -3.03779865e-01, -5.53701491e-01, -4.53174413e-01,\n",
       "                 -5.31577780e-01, -7.41384664e-02, -4.32448890e-01,\n",
       "                 -7.95296938e-01, -9.93534389e-02, -6.27360587e-01,\n",
       "                 -6.29814586e-01, -4.75213525e-01, -7.74857317e-01,\n",
       "                 -4.43358669e-01, -5.63126280e-02, -1.72507365e-01,\n",
       "                 -5.27983603e-01, -7.15360498e-01, -3.04682766e-01,\n",
       "                 -6.64447480e-01, -1.71842575e-01, -4.16214162e-01,\n",
       "                 -9.44970810e-02, -4.70615259e-01, -8.10451500e-01,\n",
       "                 -2.19648125e-01, -1.94928633e-01, -4.88044098e-01,\n",
       "                 -3.13185262e-01, -4.06269210e-01, -1.67797020e-01,\n",
       "                 -1.07875232e-01, -9.36296118e-01, -4.81307203e-01,\n",
       "                 -7.20537380e-03, -5.50592356e-01, -7.44948654e-01,\n",
       "                 -6.03306780e-01, -5.83522839e-01, -4.15937218e-01,\n",
       "                 -5.38792576e-01, -7.37030436e-01, -7.75021199e-01,\n",
       "                 -7.47130499e-01,  3.04525850e-02, -4.14991005e-01,\n",
       "                 -1.49179251e-02, -2.23405929e-04, -7.06278760e-02,\n",
       "                 -1.17350458e-01])"
      ]
     },
     "execution_count": 87,
     "metadata": {},
     "output_type": "execute_result"
    }
   ],
   "source": [
    "mesh_2D.point_data[\"directed distance to line\"]"
   ]
  },
  {
   "cell_type": "code",
   "execution_count": 106,
   "id": "305170e2",
   "metadata": {},
   "outputs": [
    {
     "data": {
      "text/plain": [
       "0"
      ]
     },
     "execution_count": 106,
     "metadata": {},
     "output_type": "execute_result"
    }
   ],
   "source": [
    "np.sum(mesh_2D.extract_cells(1).point_data[\"directed distance to line\"] > 0)"
   ]
  },
  {
   "cell_type": "code",
   "execution_count": 111,
   "id": "e26191f3",
   "metadata": {},
   "outputs": [],
   "source": [
    "mesh_2D.cell_data[\"num of vertex above\"]=[np.sum(mesh_2D.extract_cells(i).point_data[\"directed distance to line\"]>0) for i in range(mesh_2D.n_faces)]"
   ]
  },
  {
   "cell_type": "code",
   "execution_count": 112,
   "id": "b2195e64",
   "metadata": {},
   "outputs": [
    {
     "data": {
      "text/plain": [
       "pyvista_ndarray([0, 0, 0, 0, 1, 0, 0, 0, 0, 0, 0, 0, 0, 0, 0, 0, 0, 0, 0,\n",
       "                 0, 0, 0, 0, 0, 0, 0, 0, 0, 0, 0, 0, 0, 0, 0, 0, 0, 0, 0,\n",
       "                 0, 0, 0, 1, 0, 0, 0, 0, 0, 0, 0, 0, 1, 0, 0, 0, 0, 0, 0,\n",
       "                 0, 2, 0, 0, 0, 0, 0, 0, 0, 0, 0, 0, 0, 0, 0, 0, 0, 0, 0,\n",
       "                 2, 0, 0, 0, 0, 3, 0, 0, 0, 0, 0, 0, 0, 0, 0, 0, 0, 0, 0,\n",
       "                 0, 0, 0, 0, 0, 1, 0, 0, 0, 0, 0, 0, 0, 0, 0, 0, 0, 1, 0,\n",
       "                 0, 0, 0, 0, 0, 0, 0, 0, 0, 0, 0, 0, 0, 2, 0, 0, 0, 0, 0,\n",
       "                 0, 0, 0, 0, 0, 0, 0, 0, 0, 0, 0, 0, 1, 0, 0, 0, 0, 2, 1,\n",
       "                 0, 0, 0, 0, 0, 0, 0, 0, 0, 0, 0, 0, 0, 0, 0, 0, 0, 3, 3,\n",
       "                 0, 0, 0, 0, 0, 1, 1, 0, 0, 0])"
      ]
     },
     "execution_count": 112,
     "metadata": {},
     "output_type": "execute_result"
    }
   ],
   "source": [
    "mesh_2D.cell_data[\"num of vertex above\"]"
   ]
  },
  {
   "cell_type": "code",
   "execution_count": 114,
   "id": "5f74e5ab",
   "metadata": {},
   "outputs": [],
   "source": [
    "intersect_id=[i for i in range(mesh_2D.n_faces) if mesh_2D.cell_data[\"num of vertex above\"][i]>0 and mesh_2D.cell_data[\"num of vertex above\"][i]<3]"
   ]
  },
  {
   "cell_type": "code",
   "execution_count": 118,
   "id": "a8d1b94c",
   "metadata": {},
   "outputs": [],
   "source": [
    "above_id=[i for i in range(mesh_2D.n_faces) if mesh_2D.cell_data[\"num of vertex above\"][i]==0]"
   ]
  },
  {
   "cell_type": "code",
   "execution_count": 120,
   "id": "7c1528db",
   "metadata": {},
   "outputs": [],
   "source": [
    "under_id=[i for i in range(mesh_2D.n_faces) if mesh_2D.cell_data[\"num of vertex above\"][i]==3]"
   ]
  },
  {
   "cell_type": "code",
   "execution_count": 121,
   "id": "d65b6f35",
   "metadata": {},
   "outputs": [
    {
     "data": {
      "application/vnd.jupyter.widget-view+json": {
       "model_id": "6f7620f17eba46b78f0358151e08718d",
       "version_major": 2,
       "version_minor": 0
      },
      "text/plain": [
       "Widget(value=\"<iframe src='http://localhost:49688/index.html?ui=P_0x1fe8588d350_39&reconnect=auto' style='widt…"
      ]
     },
     "metadata": {},
     "output_type": "display_data"
    }
   ],
   "source": [
    "pl = pv.Plotter()\n",
    "pl.add_mesh(mesh_2D,show_edges=True, point_size=15, color='white')\n",
    "pl.add_mesh(mesh_2D.extract_cells(intersect_id),show_edges=True, point_size=15, color='green')\n",
    "pl.add_mesh(mesh_2D.extract_cells(above_id),show_edges=True, point_size=15, color='red')\n",
    "pl.add_mesh(mesh_2D.extract_cells(under_id),show_edges=True, point_size=15, color='blue')\n",
    "pl.add_points(points, color=\"red\", point_size=5)\n",
    "pl.add_mesh(line, show_edges=True, color=\"blue\", line_width=8)\n",
    "pl.camera_position = [(2, 2, -3), (0, 0, 1), (1, 0, 0)]\n",
    "pl.show()"
   ]
  },
  {
   "cell_type": "code",
   "execution_count": 103,
   "id": "11d7635e",
   "metadata": {},
   "outputs": [
    {
     "data": {
      "text/plain": [
       "pyvista_ndarray([[0.98171326, 0.21458628, 0.        ],\n",
       "                 [0.89960254, 0.27047331, 0.        ],\n",
       "                 [0.89821318, 0.27813487, 0.        ]])"
      ]
     },
     "execution_count": 103,
     "metadata": {},
     "output_type": "execute_result"
    }
   ],
   "source": [
    "mesh_2D.extract_cells(0).points"
   ]
  },
  {
   "cell_type": "code",
   "execution_count": 101,
   "id": "4c89c0c9",
   "metadata": {},
   "outputs": [
    {
     "name": "stdout",
     "output_type": "stream",
     "text": [
      "[True, False, False]\n"
     ]
    }
   ],
   "source": [
    "print([True,False,False]or[True, True, True])"
   ]
  }
 ],
 "metadata": {
  "kernelspec": {
   "display_name": "Python 3 (ipykernel)",
   "language": "python",
   "name": "python3"
  },
  "language_info": {
   "codemirror_mode": {
    "name": "ipython",
    "version": 3
   },
   "file_extension": ".py",
   "mimetype": "text/x-python",
   "name": "python",
   "nbconvert_exporter": "python",
   "pygments_lexer": "ipython3",
   "version": "3.11.0"
  }
 },
 "nbformat": 4,
 "nbformat_minor": 5
}
