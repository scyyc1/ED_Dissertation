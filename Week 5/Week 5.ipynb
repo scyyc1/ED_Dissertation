{
 "cells": [
  {
   "cell_type": "markdown",
   "id": "2d0d9b34",
   "metadata": {},
   "source": [
    "# Week 5: Directed Area\n",
    "**Target**: "
   ]
  },
  {
   "cell_type": "code",
   "execution_count": 1,
   "id": "cd4b62f9",
   "metadata": {},
   "outputs": [],
   "source": [
    "# Packages\n",
    "import numpy as np\n",
    "import random\n",
    "import matplotlib.pyplot as plt\n",
    "\n",
    "# Self-defined functions\n",
    "import sys\n",
    "import os\n",
    "sys.path.append(os.path.abspath(os.path.join('..')))\n",
    "from util import util\n",
    "\n",
    "# Visualization\n",
    "import pyvista as pv\n",
    "from pyvista import examples"
   ]
  },
  {
   "cell_type": "code",
   "execution_count": 2,
   "id": "6b48d94b",
   "metadata": {},
   "outputs": [
    {
     "name": "stdout",
     "output_type": "stream",
     "text": [
      "The line equation is: -2x + 2y + -2 = 0\n"
     ]
    }
   ],
   "source": [
    "def line_equation(p1, p2):\n",
    "    x1, y1 = p1\n",
    "    x2, y2 = p2\n",
    "    if x1 == x2:\n",
    "        return np.array([1, 0, -x1])\n",
    "    else:\n",
    "        return np.array([-(y2-y1), x2-x1, x1*(y2-y1)-y1*(x2-x1)])\n",
    "\n",
    "# 测试函数\n",
    "point1 = np.array([1, 2])\n",
    "point2 = np.array([3, 4])\n",
    "a, b, c = line_equation(point1, point2)\n",
    "\n",
    "print(f\"The line equation is: {a}x + {b}y + {c} = 0\")"
   ]
  },
  {
   "cell_type": "code",
   "execution_count": 3,
   "id": "a4d9aaba",
   "metadata": {},
   "outputs": [
    {
     "name": "stdout",
     "output_type": "stream",
     "text": [
      "The intersection point of the two lines is: [ 2. -1.]\n"
     ]
    }
   ],
   "source": [
    "def line_intersection(l1, l2):\n",
    "    A1, B1, C1 = l1\n",
    "    A2, B2, C2 = l2\n",
    "\n",
    "    coeff_matrix = np.array([[A1, B1], [A2, B2]])\n",
    "    result_vector = np.array([-C1, -C2])\n",
    "\n",
    "    intersection_point = np.linalg.solve(coeff_matrix, result_vector)\n",
    "\n",
    "    return intersection_point\n",
    "\n",
    "line1 = np.array([1, -1, -3]) # x - y - 3 = 0\n",
    "line2 = np.array([1, 1, -1])  # x + y - 1 = 0\n",
    "\n",
    "intersection_point = line_intersection(line1, line2)\n",
    "\n",
    "print(f\"The intersection point of the two lines is: {intersection_point}\")\n"
   ]
  },
  {
   "cell_type": "code",
   "execution_count": 4,
   "id": "eb9deb4a",
   "metadata": {
    "scrolled": false
   },
   "outputs": [
    {
     "data": {
      "application/vnd.jupyter.widget-view+json": {
       "model_id": "336e606591fb40de9a4ba081f8deb113",
       "version_major": 2,
       "version_minor": 0
      },
      "text/plain": [
       "Widget(value=\"<iframe src='http://localhost:63248/index.html?ui=P_0x225c191dd10_0&reconnect=auto' style='width…"
      ]
     },
     "metadata": {},
     "output_type": "display_data"
    }
   ],
   "source": [
    "# A random 2D mesh\n",
    "points = np.hstack((np.random.rand(100, 2), np.zeros((100, 1), float)))\n",
    "mesh_2D = pv.PolyData(points).delaunay_2d()\n",
    "\n",
    "# A random 2D line\n",
    "# two_points = np.hstack((np.random.rand(2, 2), np.zeros((2, 1), float)))\n",
    "x=np.array([random.random(), 0, 0])\n",
    "y=np.array([0, random.random(), 0])\n",
    "line=pv.Line(x, y)\n",
    "line_coef=line_equation(x[:2],y[:2])\n",
    "line.field_data[\"coef\"]=line_coef\n",
    "\n",
    "pl = pv.Plotter()\n",
    "pl.add_mesh(mesh_2D,show_edges=True, point_size=15)\n",
    "pl.add_points(points, color=\"red\", point_size=5)\n",
    "pl.add_mesh(line, show_edges=True, color=\"blue\", line_width=8)\n",
    "pl.camera_position = [(2, 2, -3), (0, 0, 1), (1, 0, 0)]\n",
    "pl.show()"
   ]
  },
  {
   "cell_type": "code",
   "execution_count": 5,
   "id": "335b5867",
   "metadata": {},
   "outputs": [],
   "source": [
    "mesh_2D=mesh_2D.compute_cell_sizes(area=True, length=False, volume=False)"
   ]
  },
  {
   "cell_type": "code",
   "execution_count": 6,
   "id": "c1ab3e14",
   "metadata": {},
   "outputs": [
    {
     "data": {
      "text/html": [
       "<table><tr><th>Header</th><th>Data Arrays</th></tr><tr><td>\n",
       "<table>\n",
       "<tr><th>PolyData</th><th>Information</th></tr>\n",
       "<tr><td>N Cells</td><td>183</td></tr>\n",
       "<tr><td>N Points</td><td>100</td></tr>\n",
       "<tr><td>N Strips</td><td>0</td></tr>\n",
       "<tr><td>X Bounds</td><td>1.192e-02, 9.937e-01</td></tr>\n",
       "<tr><td>Y Bounds</td><td>3.442e-02, 9.592e-01</td></tr>\n",
       "<tr><td>Z Bounds</td><td>0.000e+00, 0.000e+00</td></tr>\n",
       "<tr><td>N Arrays</td><td>1</td></tr>\n",
       "</table>\n",
       "\n",
       "</td><td>\n",
       "<table>\n",
       "<tr><th>Name</th><th>Field</th><th>Type</th><th>N Comp</th><th>Min</th><th>Max</th></tr>\n",
       "<tr><td>Area</td><td>Cells</td><td>float64</td><td>1</td><td>8.865e-05</td><td>1.795e-02</td></tr>\n",
       "</table>\n",
       "\n",
       "</td></tr> </table>"
      ],
      "text/plain": [
       "PolyData (0x225c6c9cc40)\n",
       "  N Cells:    183\n",
       "  N Points:   100\n",
       "  N Strips:   0\n",
       "  X Bounds:   1.192e-02, 9.937e-01\n",
       "  Y Bounds:   3.442e-02, 9.592e-01\n",
       "  Z Bounds:   0.000e+00, 0.000e+00\n",
       "  N Arrays:   1"
      ]
     },
     "execution_count": 6,
     "metadata": {},
     "output_type": "execute_result"
    }
   ],
   "source": [
    "mesh_2D"
   ]
  },
  {
   "cell_type": "code",
   "execution_count": 7,
   "id": "bc00faed",
   "metadata": {},
   "outputs": [
    {
     "data": {
      "text/plain": [
       "pyvista_ndarray([-0.75936266, -0.64434223,  0.48928943])"
      ]
     },
     "execution_count": 7,
     "metadata": {},
     "output_type": "execute_result"
    }
   ],
   "source": [
    "line.field_data[\"coef\"]"
   ]
  },
  {
   "cell_type": "code",
   "execution_count": 8,
   "id": "e13da591",
   "metadata": {},
   "outputs": [],
   "source": [
    "def directed_point_to_line_dist(p, line):\n",
    "    x0, y0 = p\n",
    "    A, B, C = line\n",
    "    return (A*x0 + B*y0 + C) / np.sqrt(A**2 + B**2)"
   ]
  },
  {
   "cell_type": "code",
   "execution_count": 9,
   "id": "154d6ad5",
   "metadata": {},
   "outputs": [
    {
     "data": {
      "text/html": [
       "<table><tr><th>Header</th><th>Data Arrays</th></tr><tr><td>\n",
       "<table>\n",
       "<tr><th>PolyData</th><th>Information</th></tr>\n",
       "<tr><td>N Cells</td><td>183</td></tr>\n",
       "<tr><td>N Points</td><td>100</td></tr>\n",
       "<tr><td>N Strips</td><td>0</td></tr>\n",
       "<tr><td>X Bounds</td><td>1.192e-02, 9.937e-01</td></tr>\n",
       "<tr><td>Y Bounds</td><td>3.442e-02, 9.592e-01</td></tr>\n",
       "<tr><td>Z Bounds</td><td>0.000e+00, 0.000e+00</td></tr>\n",
       "<tr><td>N Arrays</td><td>1</td></tr>\n",
       "</table>\n",
       "\n",
       "</td><td>\n",
       "<table>\n",
       "<tr><th>Name</th><th>Field</th><th>Type</th><th>N Comp</th><th>Min</th><th>Max</th></tr>\n",
       "<tr><td>Area</td><td>Cells</td><td>float64</td><td>1</td><td>8.865e-05</td><td>1.795e-02</td></tr>\n",
       "</table>\n",
       "\n",
       "</td></tr> </table>"
      ],
      "text/plain": [
       "PolyData (0x225c6c9cc40)\n",
       "  N Cells:    183\n",
       "  N Points:   100\n",
       "  N Strips:   0\n",
       "  X Bounds:   1.192e-02, 9.937e-01\n",
       "  Y Bounds:   3.442e-02, 9.592e-01\n",
       "  Z Bounds:   0.000e+00, 0.000e+00\n",
       "  N Arrays:   1"
      ]
     },
     "execution_count": 9,
     "metadata": {},
     "output_type": "execute_result"
    }
   ],
   "source": [
    "mesh_2D"
   ]
  },
  {
   "cell_type": "code",
   "execution_count": 10,
   "id": "7d7f3d93",
   "metadata": {},
   "outputs": [],
   "source": [
    "mesh_2D.point_data[\"directed distance to line\"]=[directed_point_to_line_dist(p, line_coef) for p in mesh_2D.points[:,:2]]"
   ]
  },
  {
   "cell_type": "code",
   "execution_count": 11,
   "id": "61a019c6",
   "metadata": {},
   "outputs": [
    {
     "data": {
      "text/plain": [
       "pyvista_ndarray([ 0.15852886, -0.22422421, -0.07877916, -0.34470303,\n",
       "                 -0.44522403, -0.42528854,  0.16387958, -0.11460139,\n",
       "                 -0.13143757,  0.02606832, -0.52032773, -0.4991277 ,\n",
       "                 -0.32041391, -0.27330233, -0.27044519, -0.31630559,\n",
       "                 -0.55053449, -0.6745497 , -0.18068536, -0.70543119,\n",
       "                  0.29493141,  0.15073741, -0.16892354, -0.61284229,\n",
       "                 -0.10636869,  0.40624533,  0.02673643,  0.06170719,\n",
       "                 -0.56997165, -0.28385018, -0.62829629, -0.85562432,\n",
       "                 -0.03210004, -0.17412838, -0.43566476, -0.09208174,\n",
       "                 -0.37420525, -0.62283886,  0.18368403, -0.45782664,\n",
       "                 -0.39827516, -0.09270292, -0.32609135, -0.63766761,\n",
       "                 -0.1062335 , -0.16684216, -0.03851252, -0.26413191,\n",
       "                  0.06438321, -0.12442932, -0.199898  , -0.25942982,\n",
       "                  0.37501721, -0.34460214, -0.20659854,  0.17014455,\n",
       "                 -0.48718183, -0.15153419, -0.19858015, -0.39285325,\n",
       "                  0.00860329, -0.08072477, -0.00456494, -0.58673052,\n",
       "                  0.09896445, -0.25737033, -0.03409398,  0.10917173,\n",
       "                 -0.1848512 , -0.17725583,  0.03118953, -0.3282413 ,\n",
       "                 -0.44820783, -0.5281201 , -0.32800746,  0.3792052 ,\n",
       "                 -0.00734565, -0.21492173,  0.29772045, -0.56425205,\n",
       "                 -0.03800407, -0.14557914,  0.05735099,  0.34547404,\n",
       "                 -0.51002087, -0.33740604, -0.17755157, -0.09445146,\n",
       "                 -0.4611539 , -0.20561833, -0.10324392,  0.0586021 ,\n",
       "                 -0.05024678, -0.156412  , -0.13102985, -0.30357832,\n",
       "                  0.08874482, -0.37708627, -0.18034399, -0.02482737])"
      ]
     },
     "execution_count": 11,
     "metadata": {},
     "output_type": "execute_result"
    }
   ],
   "source": [
    "mesh_2D.point_data[\"directed distance to line\"]"
   ]
  },
  {
   "cell_type": "code",
   "execution_count": 12,
   "id": "df97d3e7",
   "metadata": {},
   "outputs": [
    {
     "data": {
      "text/plain": [
       "0"
      ]
     },
     "execution_count": 12,
     "metadata": {},
     "output_type": "execute_result"
    }
   ],
   "source": [
    "np.sum(mesh_2D.extract_cells(1).point_data[\"directed distance to line\"] > 0)"
   ]
  },
  {
   "cell_type": "code",
   "execution_count": 13,
   "id": "a9b2afce",
   "metadata": {},
   "outputs": [],
   "source": [
    "mesh_2D.cell_data[\"num of vertex above\"]=[np.sum(mesh_2D.extract_cells(i).point_data[\"directed distance to line\"]>0) for i in range(mesh_2D.n_faces)]"
   ]
  },
  {
   "cell_type": "code",
   "execution_count": 14,
   "id": "1f2ca305",
   "metadata": {},
   "outputs": [
    {
     "data": {
      "text/plain": [
       "pyvista_ndarray([0, 0, 3, 3, 0, 0, 3, 0, 0, 0, 0, 0, 3, 0, 0, 0, 0, 0, 1,\n",
       "                 3, 0, 0, 0, 0, 0, 0, 0, 0, 0, 0, 0, 0, 0, 0, 0, 0, 0, 3,\n",
       "                 0, 3, 3, 3, 3, 0, 0, 0, 0, 0, 1, 3, 1, 2, 1, 0, 0, 0, 0,\n",
       "                 0, 0, 0, 0, 0, 0, 0, 0, 1, 0, 0, 0, 0, 3, 3, 0, 0, 0, 0,\n",
       "                 0, 2, 0, 0, 0, 0, 0, 2, 0, 0, 0, 0, 0, 0, 3, 0, 0, 0, 0,\n",
       "                 0, 0, 0, 0, 0, 0, 2, 0, 0, 2, 0, 0, 0, 0, 0, 1, 1, 0, 0,\n",
       "                 2, 0, 0, 0, 3, 0, 0, 0, 3, 3, 2, 0, 0, 0, 0, 3, 2, 0, 0,\n",
       "                 0, 0, 0, 0, 3, 3, 0, 1, 0, 0, 3, 3, 0, 0, 1, 0, 0, 3, 2,\n",
       "                 3, 3, 0, 0, 0, 0, 0, 0, 2, 0, 0, 0, 0, 0, 3, 1, 1, 0, 0,\n",
       "                 0, 0, 0, 0, 0, 3, 0, 0, 0, 0, 1, 0])"
      ]
     },
     "execution_count": 14,
     "metadata": {},
     "output_type": "execute_result"
    }
   ],
   "source": [
    "mesh_2D.cell_data[\"num of vertex above\"]"
   ]
  },
  {
   "cell_type": "code",
   "execution_count": 15,
   "id": "27bcbbd4",
   "metadata": {},
   "outputs": [],
   "source": [
    "intersect_id=[i for i in range(mesh_2D.n_faces) if mesh_2D.cell_data[\"num of vertex above\"][i]>0 and mesh_2D.cell_data[\"num of vertex above\"][i]<3]"
   ]
  },
  {
   "cell_type": "code",
   "execution_count": 16,
   "id": "ec6c9b2b",
   "metadata": {},
   "outputs": [],
   "source": [
    "above_id=[i for i in range(mesh_2D.n_faces) if mesh_2D.cell_data[\"num of vertex above\"][i]==0]"
   ]
  },
  {
   "cell_type": "code",
   "execution_count": 17,
   "id": "dd519356",
   "metadata": {},
   "outputs": [],
   "source": [
    "under_id=[i for i in range(mesh_2D.n_faces) if mesh_2D.cell_data[\"num of vertex above\"][i]==3]"
   ]
  },
  {
   "cell_type": "code",
   "execution_count": 18,
   "id": "0aee2dcb",
   "metadata": {},
   "outputs": [
    {
     "data": {
      "application/vnd.jupyter.widget-view+json": {
       "model_id": "65a0c4785f1c4ed7954a3d8b1bf1f000",
       "version_major": 2,
       "version_minor": 0
      },
      "text/plain": [
       "Widget(value=\"<iframe src='http://localhost:63248/index.html?ui=P_0x225c6cfda90_1&reconnect=auto' style='width…"
      ]
     },
     "metadata": {},
     "output_type": "display_data"
    }
   ],
   "source": [
    "pl = pv.Plotter()\n",
    "pl.add_mesh(mesh_2D,show_edges=True, point_size=15, color='white')\n",
    "pl.add_mesh(mesh_2D.extract_cells(intersect_id),show_edges=True, point_size=15, color='green')\n",
    "pl.add_mesh(mesh_2D.extract_cells(above_id),show_edges=True, point_size=15, color='red')\n",
    "pl.add_mesh(mesh_2D.extract_cells(under_id),show_edges=True, point_size=15, color='blue')\n",
    "pl.add_points(points, color=\"red\", point_size=5)\n",
    "pl.add_mesh(line, show_edges=True, color=\"blue\", line_width=8)\n",
    "pl.camera_position = [(2, 2, -3), (0, 0, 1), (1, 0, 0)]\n",
    "pl.show()"
   ]
  },
  {
   "cell_type": "code",
   "execution_count": 19,
   "id": "74a421a9",
   "metadata": {},
   "outputs": [
    {
     "data": {
      "text/plain": [
       "pyvista_ndarray([[0.57225125, 0.77309842, 0.        ],\n",
       "                 [0.49472715, 0.68032965, 0.        ],\n",
       "                 [0.45356611, 0.73179982, 0.        ]])"
      ]
     },
     "execution_count": 19,
     "metadata": {},
     "output_type": "execute_result"
    }
   ],
   "source": [
    "mesh_2D.extract_cells(0).points"
   ]
  },
  {
   "cell_type": "code",
   "execution_count": 101,
   "id": "c0e57d86",
   "metadata": {},
   "outputs": [
    {
     "name": "stdout",
     "output_type": "stream",
     "text": [
      "[True, False, False]\n"
     ]
    }
   ],
   "source": [
    "print([True,False,False]or[True, True, True])"
   ]
  }
 ],
 "metadata": {
  "kernelspec": {
   "display_name": "Python 3 (ipykernel)",
   "language": "python",
   "name": "python3"
  },
  "language_info": {
   "codemirror_mode": {
    "name": "ipython",
    "version": 3
   },
   "file_extension": ".py",
   "mimetype": "text/x-python",
   "name": "python",
   "nbconvert_exporter": "python",
   "pygments_lexer": "ipython3",
   "version": "3.11.0"
  }
 },
 "nbformat": 4,
 "nbformat_minor": 5
}
