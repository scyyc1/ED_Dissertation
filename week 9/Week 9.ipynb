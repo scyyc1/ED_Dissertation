{
 "cells": [
  {
   "cell_type": "markdown",
   "id": "2d0d9b34",
   "metadata": {},
   "source": [
    "# Week 9: Bisector Area of 3D Mesh\n",
    "**Target**: Fit a plane with fixed normal that can bisector the surface area of any given mesh"
   ]
  },
  {
   "cell_type": "markdown",
   "id": "d20128a1",
   "metadata": {},
   "source": [
    "## Table of Contents\n",
    "- [0 - Packages](#0)\n",
    "    - [0.1 - Packages](#0-1)\n",
    "    - [0.2 - Self-defined Functions](#0-2)\n",
    "- [1 - Implementation](#1)\n",
    "    - [1.1 - Problem Description](#1-1)\n",
    "    - [1.2 - Methodology](#1-2)\n",
    "    - [1.3 - The Code](#1-3)\n",
    "- [2 - Forward Propagation](#2)\n",
    "    - [2.1 - Area Calculation](#2-1)\n",
    "- [3 - Backward Propagation](#3)\n",
    "    - [3.1 - Gradients of Cross Product](#3-1)\n",
    "    - [3.2 - Gradients of L2 Norm](#3-2)\n",
    "- [4 - Examples](#4)\n",
    "    - [4.1 - Sphere](#4-1)\n",
    "    - [4.2 - Standford Bunny](#4-2)\n",
    "    - [4.3 - ](#4-2)\n",
    "- [5 - Reference](#5)"
   ]
  },
  {
   "cell_type": "markdown",
   "id": "f6e4b209",
   "metadata": {},
   "source": [
    "<a name='0'></a>\n",
    "## 0 - Package and Tools\n",
    "<a name='0-1'></a>\n",
    "### 0.1 - Packages"
   ]
  },
  {
   "cell_type": "code",
   "execution_count": 1,
   "id": "b651a8b1",
   "metadata": {},
   "outputs": [],
   "source": [
    "# Packages\n",
    "import numpy as np\n",
    "import random\n",
    "# Visualization\n",
    "import pyvista as pv\n",
    "from pyvista import examples"
   ]
  },
  {
   "cell_type": "markdown",
   "id": "e3d6076e",
   "metadata": {},
   "source": [
    "<a name='0-2'></a>\n",
    "### 0.2 - Self-defined Functions"
   ]
  },
  {
   "cell_type": "code",
   "execution_count": 2,
   "id": "cd4b62f9",
   "metadata": {},
   "outputs": [],
   "source": [
    "# Self-defined functions\n",
    "import sys\n",
    "import os\n",
    "sys.path.append(os.path.abspath(os.path.join('..')))\n",
    "from util.mesh.triangle.R3 import make_clockwise_3d"
   ]
  },
  {
   "cell_type": "markdown",
   "id": "0bead27e",
   "metadata": {},
   "source": [
    "<a name='1'></a>\n",
    "## 1 - Implementation\n",
    "\n",
    "<a name='1-1'></a>\n",
    "### 1.1 - Problem Description\n",
    "\n",
    "To formalize the problem, I define the problem to be **finding a plane with fixed normal $N = (A, B, C)$ that can bisector the surface area of any given mesh in three dimentional space**. As a result, the plane is represented as $Ax+By+Cz+D=0$, where $D$ is the variable that I try to optimize.\n",
    "\n",
    "<a name='1-2'></a>\n",
    "### 1.2 - Methodology\n",
    "\n",
    "I use gradient descent to find the optimal value of $D$. \n",
    "\n",
    "#### 1.2.1 - Initial Solution\n",
    "I start by calculating the barycenter of the mesh:\n",
    "\n",
    "$$G=\\frac{\\sum_{i=1}^{n} v}{n}$$\n",
    "\n",
    "where $v$ is the coordinate of the vertices. Then I generate the initial $D$ by making the fixed-normal plane passing through the barycenter, which can be done by"
   ]
  },
  {
   "cell_type": "code",
   "execution_count": null,
   "id": "b68ddca6",
   "metadata": {},
   "outputs": [],
   "source": []
  },
  {
   "cell_type": "markdown",
   "id": "0f6adc7a",
   "metadata": {},
   "source": [
    "#### 1.2.2 - The Loss\n",
    "\n",
    "To monitor the optimization, I use the squre of difference between the target ratio of area $S_{target}$, which can be pre-calculated, and the area $S$ the enclosed by my decision boundary. In this case will be the sum area of all triangles and parts of triangles that at the direction of plane's normal.\n",
    "\n",
    "$$L=(S-S_{target})^2$$\n",
    "\n",
    "<a name='1-3'></a>\n",
    "### 1.3 - The code\n",
    "\n",
    "This is the implementation. The following parts will go through details of the implementation concerning some of the crucial parts."
   ]
  },
  {
   "cell_type": "code",
   "execution_count": 3,
   "id": "d7bee563",
   "metadata": {},
   "outputs": [],
   "source": [
    "class problem_mesh_3D:\n",
    "    def __init__(self, points, faces, normals, n=[0,1,0], ratio=0.5, learning_rate=0.05, num_iteration=1000):\n",
    "        if len(points) < 3:\n",
    "            A = np.array([6,9])\n",
    "            B = np.array([10,14])\n",
    "            C = np.array([8,28])\n",
    "            self.vertices = np.array([A, B, C])\n",
    "        else:\n",
    "            self.vertices = points\n",
    "        self.faces = faces\n",
    "        self.normals = normals\n",
    "        util_3d.make_clockwise_3d(self.vertices)\n",
    "        \n",
    "        # Initialize variable \"D\" and define the plane\n",
    "        self.D = 0.5\n",
    "        self.plane=np.array(n + [self.D])\n",
    "        self.N=n\n",
    "    \n",
    "        # Area realted\n",
    "        self.ratio = ratio\n",
    "        self.compute_mesh_area()\n",
    "        \n",
    "        # Learning realted\n",
    "        self.lr = learning_rate\n",
    "        self.num_iteration = num_iteration\n",
    "        \n",
    "    def compute_mesh_area(self):\n",
    "        self.area = 0\n",
    "        for face in self.faces:\n",
    "            index_A, index_B, index_C = face\n",
    "            A = self.vertices[index_A]\n",
    "            B = self.vertices[index_B]\n",
    "            C = self.vertices[index_C]\n",
    "            self.area += util.triangle_area(A, B, C)\n",
    "        return self.area\n",
    "    \n",
    "    def forward_propagate(self):\n",
    "        self.S = 0\n",
    "        self.dS_dD = 0\n",
    "        \n",
    "        for idx, face in enumerate(self.faces):\n",
    "            index_A, index_B, index_C = face\n",
    "            A = self.vertices[index_A]\n",
    "            B = self.vertices[index_B]\n",
    "            C = self.vertices[index_C]\n",
    "            \n",
    "            # Edges\n",
    "            line_AC = util_3d.line_3D(A, C-A)\n",
    "            line_AB = util_3d.line_3D(A, B-A)\n",
    "            line_BA = util_3d.line_3D(B, A-B)\n",
    "            line_BC = util_3d.line_3D(B, C-B)\n",
    "            line_CB = util_3d.line_3D(C, B-C)\n",
    "            line_CA = util_3d.line_3D(C, C-A)\n",
    "            \n",
    "            SA=np.array([0,0,0])\n",
    "            SB=np.array([0,0,0])\n",
    "            SC=np.array([0,0,0])\n",
    "            dSA_dD=np.array([0,0,0])\n",
    "            dSB_dD=np.array([0,0,0])\n",
    "            dSC_dD=np.array([0,0,0])\n",
    "            \n",
    "            if (np.dot(self.N, A) + self.D) > 0:\n",
    "                if not np.isclose(np.dot(line_AC.n, self.N), 0) and not np.isclose(np.dot(line_AB.n, self.N), 0):\n",
    "                    # The area\n",
    "                    AC = line_AC.intersection_plane_t(self.plane) * line_AC.n\n",
    "                    AB = line_AB.intersection_plane_t(self.plane) * line_AB.n\n",
    "                    # Directed area\n",
    "                    SA = np.cross(AC, AB) / 2\n",
    "                    # The gradients\n",
    "                    # dt/dD\n",
    "                    dAC_dD = line_AC.n / np.dot(line_AC.n, self.N)\n",
    "                    dAB_dD = line_AB.n / np.dot(line_AB.n, self.N)\n",
    "                    dSA_dD = dv.derivative_cross_product(AC, AB, dAC_dD, dAB_dD) / 2\n",
    "                \n",
    "            if (np.dot(self.N, B) + self.D) > 0:\n",
    "                if not np.isclose(np.dot(line_BA.n, self.N), 0) and not np.isclose(np.dot(line_BC.n, self.N), 0):\n",
    "                    # The area\n",
    "                    BA = line_BA.intersection_plane_t(self.plane) * line_BA.n\n",
    "                    BC = line_BC.intersection_plane_t(self.plane) * line_BC.n\n",
    "                    # Directed area\n",
    "                    SB = np.cross(BA, BC) / 2\n",
    "                    # The gradients\n",
    "                    # dt/dD\n",
    "                    dBA_dD = line_BA.n / np.dot(line_BA.n, self.N)\n",
    "                    dBC_dD = line_BC.n / np.dot(line_BC.n, self.N)\n",
    "                    dSB_dD = dv.derivative_cross_product(BA, BC, dBA_dD, dBC_dD) / 2\n",
    "                    \n",
    "            if (np.dot(self.N, C) + self.D) > 0:\n",
    "                if not np.isclose(np.dot(line_CB.n, self.N), 0) and not np.isclose(np.dot(line_CA.n, self.N), 0):\n",
    "                    # The area\n",
    "                    CB = line_CB.intersection_plane_t(self.plane) * line_CB.n\n",
    "                    CA = line_CA.intersection_plane_t(self.plane) * line_CA.n\n",
    "                    # Directed area\n",
    "                    SC = np.cross(CB, CA) / 2\n",
    "                    # The gradients\n",
    "                    # dt/dD\n",
    "                    dCB_dD = line_BA.n / np.dot(line_CB.n, self.N)\n",
    "                    dCA_dD = line_BC.n / np.dot(line_CA.n, self.N)\n",
    "                    dSC_dD = dv.derivative_cross_product(CB, CA, dCB_dD, dCA_dD) / 2\n",
    "\n",
    "            self.S += np.linalg.norm(SA + SB + SC)\n",
    "            self.dS_dD += dv.derivative_L2_norm(-(SA + SB + SC), dSA_dD+dSB_dD+dSC_dD)\n",
    "    \n",
    "    def loss_MSE(self):\n",
    "        return np.power(self.S-self.ratio*self.area, 2)\n",
    "    \n",
    "    def backward_propagate(self):\n",
    "        dL_dS = 2*self.S-2*self.ratio*self.area\n",
    "        print(\"dL/dS: \", dL_dS)\n",
    "        self.dL_dD=dL_dS*self.dS_dD\n",
    "        \n",
    "    def update_parameters(self):\n",
    "        A, B, C, D = self.plane\n",
    "        self.pre_D = D\n",
    "        D -= self.lr * self.dL_dD\n",
    "        self.D = D\n",
    "        self.plane = np.array([A, B, C, D])\n",
    "        \n",
    "    def visualize(self):\n",
    "        A, B, C, D = self.plane\n",
    "#         plane_pre = pv.Plane(center=(0, -self.pre_D, 0), direction=(0, 1, 0))\n",
    "        plane = pv.Plane(center=(0, -self.D, 0), direction=(0, 1, 0), i_size=2, j_size=2, i_resolution=1, j_resolution=1)\n",
    "        \n",
    "        plotter = pv.Plotter()\n",
    "#         plotter.add_mesh(mesh.points[0], color=\"red\", show_edges=True)\n",
    "        plotter.add_mesh(mesh, color=\"lightblue\", show_edges=True)\n",
    "        plotter.add_mesh(plane, color=\"yellow\", show_edges=True)\n",
    "#         plotter.add_mesh(plane_pre, color=\"orange\", show_edges=True)\n",
    "        plotter.view_vector(vector=normal, viewup=[0, 1, 0])\n",
    "        plotter.show_axes()\n",
    "        plotter.show()\n",
    "        \n",
    "    def train_one_round(self):\n",
    "        self.forward_propagate()\n",
    "        print(\"The loss is: \", self.loss_MSE())\n",
    "        self.backward_propagate()\n",
    "        self.update_parameters()\n",
    "        \n",
    "        print(\"The enclosing area is: \", self.S)\n",
    "        print(\"Half area： \", self.ratio*self.area)\n",
    "        print(\"dL/dD is: \", self.dL_dD)\n",
    "        print(\"D is: \", self.plane[3])\n",
    "        \n",
    "    def train(self):\n",
    "        for i in range(self.num_iteration):\n",
    "            self.forward_propagate()\n",
    "            self.backward_propagate()\n",
    "            self.update_parameters()\n",
    "        \n",
    "        print(\"The loss is: \", self.loss_MSE())\n",
    "        print(\"The enclosing area is: \", self.S)"
   ]
  },
  {
   "cell_type": "markdown",
   "id": "3a1d7df3",
   "metadata": {},
   "source": [
    "<a name='2'></a>\n",
    "## 2 - Forward Propagation\n",
    "\n",
    "<a name='2-1'></a>\n",
    "### 2.1 - Area Calculation\n",
    "\n",
    "To obtain the correct enclosed by the decision boundary, I apply **directed area** and takes the magnitude.\n",
    "\n",
    "#### 2.1.1 - Local Analysis\n",
    "\n"
   ]
  },
  {
   "cell_type": "markdown",
   "id": "8ac61819",
   "metadata": {},
   "source": [
    "<a name='3'></a>\n",
    "## 3. Backward Propagation\n",
    "\n",
    "When calculating the gradients at each round, it is important to know $\\frac{dS_i}{dD}$. As I mentioned above, the enclosing area of each triangle is calculated by directed area\n",
    "\n",
    "<a name='3-1'></a>\n",
    "### 3.1 Gradients of Cross Product\n",
    "\n",
    "As it is mention above, the directed area is calculated by the cross product of two edge of subdivided triangles, supposing to be $\\vec{AR}$ and $\\vec{AP}$ ($P$ lies on line $AB$ and $R$ lies on $AC$). To obtain the correct gradients of directed area, I apply the conclusion [[1]](#ref1):\n",
    "\n",
    "$$d(a \\times b) = da \\times b + a \\times db$$\n",
    "\n",
    "Specifically, in our case\n",
    "\n",
    "$$\\frac{dS_{ARP}}{dD}=\\frac{d(\\vec{AR} \\times \\vec{AP})}{dD}$$\n",
    "\n",
    "This works similarly as $\\frac{dS_{BPQ}}{dD}$ and $\\frac{dS_{CQR}}{dD}$. Finally, the gradient of directed area gives:\n",
    "\n",
    "$$\\frac{dS_{dir}}{dD}=\\frac{dS_{ARP}}{dD}+\\frac{dS_{BPQ}}{dD}+\\frac{dS_{CQR}}{dD}$$\n",
    "\n",
    "The code is:"
   ]
  },
  {
   "cell_type": "code",
   "execution_count": 4,
   "id": "f981f030",
   "metadata": {},
   "outputs": [],
   "source": [
    "def derivative_cross_product(A, B, dA, dB):\n",
    "    return np.cross(dA, B) + np.cross(A, dB)"
   ]
  },
  {
   "cell_type": "markdown",
   "id": "1aa99a77",
   "metadata": {},
   "source": [
    "<a name='3-2'></a>\n",
    "### 3.2 Gradients of L2 Norm\n",
    "\n",
    "As the directed area is a vector, but the desired area is a scalar. So we have to take the magnitude of the directed area. This gives the gradients of each components:\n",
    "\n",
    "$$\\frac{d||v||_2}{dv_i} = \\frac{1}{2} * (v1^2 + v2^2 + ... + vn^2)^{(- \\frac{1}{2})} * 2*v_i = \\frac{v_i} {||v||_2}$$\n",
    "\n",
    "In our case, components of directed area $dS_{dir}$ is a function about variable $D$. So:\n",
    "\n",
    "$$\\frac{dS_i}{dD}=\\frac{dS_{dir}^x}{dD}+\\frac{dS_{dir}^y}{dD}+\\frac{dS_{dir}^z}{dD}$$\n",
    "\n",
    "The code is:"
   ]
  },
  {
   "cell_type": "code",
   "execution_count": 5,
   "id": "a49d3012",
   "metadata": {},
   "outputs": [],
   "source": [
    "def derivative_L2_norm(v, dv_dt):\n",
    "    v_norm = np.linalg.norm(v)\n",
    "    if v_norm == 0:\n",
    "        return 0\n",
    "    else:\n",
    "        df_dt = np.dot(v, dv_dt) / v_norm\n",
    "        return df_dt"
   ]
  },
  {
   "cell_type": "markdown",
   "id": "ffae9f09",
   "metadata": {},
   "source": [
    "<a name='4'></a>\n",
    "## 4 - Examples"
   ]
  },
  {
   "cell_type": "code",
   "execution_count": 6,
   "id": "5eb9f734",
   "metadata": {},
   "outputs": [
    {
     "name": "stdout",
     "output_type": "stream",
     "text": [
      "\n",
      "--------------------------------------------------------------------------------\n",
      "   !!! You are currently using trame@3 which may break your application !!!\n",
      "--------------------------------------------------------------------------------\n",
      "\n",
      " 1. trame@3 only provides by default trame.widgets.[html,client] and remove\n",
      "    everything else as implicit dependency. Those other widgets will still\n",
      "    exist and will be supported, but they will need to be defined as a\n",
      "    dependency of your application.\n",
      "\n",
      "       $ pip install trame-vtk trame-vuetify trame-plotly\n",
      "\n",
      "    Import paths are remaining the same.\n",
      "\n",
      "    For libraries like vuetify since they offer different API between\n",
      "    their vue2 and vue3 implementation, the widget name will reflect\n",
      "    which vue version they are referencing. But original naming will remain.\n",
      "\n",
      "       from trame.widgets import vuetify2, vuetify3\n",
      "\n",
      "\n",
      " 2. trame@3 aims to use vue3 as a new default. But to smooth the transition\n",
      "    we will maintain the server.client_type = 'vue2' default until\n",
      "    December 2023 which is the vue2 EOL.\n",
      "\n",
      "    After that time, the new default will be switched to 'vue3'.\n",
      "    Vue2 will still work 'forever' and many of the new widgets will be\n",
      "    written to support both versions.\n",
      "\n",
      "    If you have a 'vue2' application and don't need or want to update your code,\n",
      "    you can still use trame@3 with vue2 by setting `server.client_type='vue2'.\n",
      "\n",
      " Actions items\n",
      " ~~~~~~~~~~~~~\n",
      "   a. Make sure you set `server.client_type` to either 'vue2' or 'vue3'.\n",
      "   b. List the expected dependencies or have a 'trame<3' dependency\n",
      "\n",
      "--------------------------------------------------------------------------------\n",
      " => Current client_type default: vue2\n",
      "--------------------------------------------------------------------------------\n",
      "\n"
     ]
    },
    {
     "data": {
      "application/vnd.jupyter.widget-view+json": {
       "model_id": "b3872d8b62854f24b493ed7ea9ae58af",
       "version_major": 2,
       "version_minor": 0
      },
      "text/plain": [
       "Widget(value=\"<iframe src='http://localhost:63273/index.html?ui=P_0x14ee891e820_0&reconnect=auto' style='width…"
      ]
     },
     "metadata": {},
     "output_type": "display_data"
    }
   ],
   "source": [
    "points = np.array([[0, 1, 1], [-1, -1, -1], [1, 0.5, 0], [-2,-3,-4]])\n",
    "faces = np.array([3, 0, 1, 2, 3, 0, 3, 1])\n",
    "make_clockwise_3d(points)\n",
    "mesh = pv.PolyData(points, faces)\n",
    "\n",
    "plane = pv.Plane(center=(0, 0.5, 0), direction=(0, 1, 0))\n",
    "\n",
    "center = mesh.points.mean(axis=0)\n",
    "normal = mesh.face_normals[0]\n",
    "\n",
    "plotter = pv.Plotter()\n",
    "plotter.add_mesh(mesh, color=\"lightblue\", show_edges=True)\n",
    "plotter.add_mesh(plane, color=\"yellow\", show_edges=True)\n",
    "plotter.view_vector(vector=normal, viewup=[0, 1, 0])\n",
    "plotter.show_axes()\n",
    "plotter.show()"
   ]
  },
  {
   "cell_type": "code",
   "execution_count": 484,
   "id": "2d341246",
   "metadata": {},
   "outputs": [],
   "source": [
    "test = problem_mesh_3D(sphere.points, sphere.faces.reshape((-1,4))[:, 1:4], sphere.face_normals)"
   ]
  },
  {
   "cell_type": "code",
   "execution_count": 35,
   "id": "3aa92014",
   "metadata": {},
   "outputs": [],
   "source": [
    "test = problem_mesh_3D(mesh.points, mesh.faces.reshape((-1,4))[:, 1:4], mesh.face_normals)"
   ]
  },
  {
   "cell_type": "code",
   "execution_count": 54,
   "id": "6448b6b8",
   "metadata": {},
   "outputs": [
    {
     "name": "stdout",
     "output_type": "stream",
     "text": [
      "The loss is:  0.0\n",
      "dL/dS:  0.0\n",
      "The enclosing area is:  1.566799212912266\n",
      "Half area：  1.566799212912266\n",
      "dL/dD is:  0.0\n",
      "D is:  0.05223396330896816\n"
     ]
    }
   ],
   "source": [
    "test.train_one_round()"
   ]
  },
  {
   "cell_type": "code",
   "execution_count": 55,
   "id": "325b794e",
   "metadata": {},
   "outputs": [
    {
     "data": {
      "application/vnd.jupyter.widget-view+json": {
       "model_id": "00371faccecf423793df7942676a9e16",
       "version_major": 2,
       "version_minor": 0
      },
      "text/plain": [
       "Widget(value=\"<iframe src='http://localhost:50245/index.html?ui=P_0x1770a694b10_2&reconnect=auto' style='width…"
      ]
     },
     "metadata": {},
     "output_type": "display_data"
    }
   ],
   "source": [
    "test.visualize()\n"
   ]
  },
  {
   "cell_type": "code",
   "execution_count": 29,
   "id": "007bda0b",
   "metadata": {},
   "outputs": [
    {
     "data": {
      "application/vnd.jupyter.widget-view+json": {
       "model_id": "34bdca81f40c46759b12020b8feb9b50",
       "version_major": 2,
       "version_minor": 0
      },
      "text/plain": [
       "Widget(value=\"<iframe src='http://localhost:61327/index.html?ui=P_0x2ac0fd6ee50_3&reconnect=auto' style='width…"
      ]
     },
     "metadata": {},
     "output_type": "display_data"
    }
   ],
   "source": [
    "sphere = pv.Sphere()\n",
    "\n",
    "pl = pv.Plotter()\n",
    "pl.add_mesh(sphere, show_edges=True, color=\"white\")\n",
    "pl.add_points(sphere.points, color=\"red\", point_size=5)\n",
    "pl.show_axes()\n",
    "pl.show()"
   ]
  }
 ],
 "metadata": {
  "kernelspec": {
   "display_name": "Python 3 (ipykernel)",
   "language": "python",
   "name": "python3"
  },
  "language_info": {
   "codemirror_mode": {
    "name": "ipython",
    "version": 3
   },
   "file_extension": ".py",
   "mimetype": "text/x-python",
   "name": "python",
   "nbconvert_exporter": "python",
   "pygments_lexer": "ipython3",
   "version": "3.9.17"
  }
 },
 "nbformat": 4,
 "nbformat_minor": 5
}
