{
 "cells": [
  {
   "cell_type": "markdown",
   "id": "2d0d9b34",
   "metadata": {},
   "source": [
    "# Week 9: Bisector Area of 3D Mesh\n",
    "**Target**: Fit a plane with fixed normal that can bisector the surface area of any given mesh"
   ]
  },
  {
   "cell_type": "markdown",
   "id": "057ed16b",
   "metadata": {},
   "source": [
    "## Table of Contents\n",
    "- [0 - Packages](#0)\n",
    "    - [0.1 - Packages](#0-1)\n",
    "    - [0.2 - Self-defined Functions](#0-2)\n",
    "- [1 - Implementation](#1)\n",
    "    - [1.1 - Problem Description](#1-1)\n",
    "    - [1.2 - The Loss](#1-2)\n",
    "    - [1.3 - The ](#1-2)\n",
    "- [2 - Forward Propagation](#2)\n",
    "    - [2.1 - Directed Area](#2-1)\n",
    "- [3 - Backward Propagation](#3)\n",
    "    - [3.1 - Gradients of Cross Product](#2-1)\n",
    "    - [3.2 - Gradients of L2 Norm](#2-2)\n",
    "- [4 - Others](#4)\n",
    "- [5 - Reference](#5)"
   ]
  },
  {
   "cell_type": "code",
   "execution_count": null,
   "id": "d14437c8",
   "metadata": {},
   "outputs": [],
   "source": [
    "# Packages\n",
    "import numpy as np\n",
    "import random\n",
    "# Visualization\n",
    "import pyvista as pv\n",
    "from pyvista import examples"
   ]
  },
  {
   "cell_type": "code",
   "execution_count": null,
   "id": "cd4b62f9",
   "metadata": {},
   "outputs": [],
   "source": [
    "# Self-defined functions\n",
    "import sys\n",
    "import os\n",
    "sys.path.append(os.path.abspath(os.path.join('..')))\n",
    "from util import util\n",
    "from util import util_3d\n",
    "from util import derivative as dv"
   ]
  },
  {
   "cell_type": "code",
   "execution_count": null,
   "id": "7b22a12a",
   "metadata": {},
   "outputs": [],
   "source": [
    "points = np.array([[0, 1, 1], [-1, -1, -1], [1, 0.5, 0], [-2,-3,-4]])\n",
    "faces = np.array([3, 0, 1, 2, 3, 0, 3, 1])\n",
    "util_3d.make_clockwise_3d(points)\n",
    "mesh = pv.PolyData(points, faces)\n",
    "\n",
    "plane = pv.Plane(center=(0, 0.5, 0), direction=(0, 1, 0))\n",
    "\n",
    "center = mesh.points.mean(axis=0)\n",
    "normal = mesh.face_normals[0]\n",
    "\n",
    "plotter = pv.Plotter()\n",
    "plotter.add_mesh(mesh, color=\"lightblue\", show_edges=True)\n",
    "plotter.add_mesh(plane, color=\"yellow\", show_edges=True)\n",
    "plotter.view_vector(vector=normal, viewup=[0, 1, 0])\n",
    "plotter.show_axes()\n",
    "plotter.show()"
   ]
  },
  {
   "cell_type": "code",
   "execution_count": 87,
   "id": "3126d121",
   "metadata": {},
   "outputs": [],
   "source": [
    "def derivative_cross_product(A, B, dA, dB):\n",
    "    return np.cross(dA, B) + np.cross(A, dB)\n",
    "\n",
    "def derivative_L2_norm(v, dv_dt):\n",
    "    v_norm = np.linalg.norm(v)\n",
    "    if v_norm == 0:\n",
    "        return 0\n",
    "    else:\n",
    "        df_dt = np.dot(v, dv_dt) / v_norm\n",
    "        return df_dt"
   ]
  },
  {
   "cell_type": "code",
   "execution_count": 484,
   "id": "86ac1be1",
   "metadata": {},
   "outputs": [],
   "source": [
    "test = problem_mesh_3D(sphere.points, sphere.faces.reshape((-1,4))[:, 1:4], sphere.face_normals)"
   ]
  },
  {
   "cell_type": "code",
   "execution_count": 7,
   "id": "d7000a02",
   "metadata": {},
   "outputs": [],
   "source": [
    "test = problem_mesh_3D(mesh.points, mesh.faces.reshape((-1,4))[:, 1:4], mesh.face_normals)"
   ]
  },
  {
   "cell_type": "code",
   "execution_count": 8,
   "id": "81ddce8c",
   "metadata": {},
   "outputs": [
    {
     "ename": "NameError",
     "evalue": "name 'np' is not defined",
     "output_type": "error",
     "traceback": [
      "\u001b[1;31m---------------------------------------------------------------------------\u001b[0m",
      "\u001b[1;31mNameError\u001b[0m                                 Traceback (most recent call last)",
      "Cell \u001b[1;32mIn[8], line 1\u001b[0m\n\u001b[1;32m----> 1\u001b[0m \u001b[43mtest\u001b[49m\u001b[38;5;241;43m.\u001b[39;49m\u001b[43mtrain_one_round\u001b[49m\u001b[43m(\u001b[49m\u001b[43m)\u001b[49m\n",
      "Cell \u001b[1;32mIn[2], line 136\u001b[0m, in \u001b[0;36mproblem_mesh_3D.train_one_round\u001b[1;34m(self)\u001b[0m\n\u001b[0;32m    135\u001b[0m \u001b[38;5;28;01mdef\u001b[39;00m \u001b[38;5;21mtrain_one_round\u001b[39m(\u001b[38;5;28mself\u001b[39m):\n\u001b[1;32m--> 136\u001b[0m     \u001b[38;5;28;43mself\u001b[39;49m\u001b[38;5;241;43m.\u001b[39;49m\u001b[43mforward_propagate\u001b[49m\u001b[43m(\u001b[49m\u001b[43m)\u001b[49m\n\u001b[0;32m    137\u001b[0m     \u001b[38;5;28mprint\u001b[39m(\u001b[38;5;124m\"\u001b[39m\u001b[38;5;124mThe loss is: \u001b[39m\u001b[38;5;124m\"\u001b[39m, \u001b[38;5;28mself\u001b[39m\u001b[38;5;241m.\u001b[39mloss_MSE())\n\u001b[0;32m    138\u001b[0m     \u001b[38;5;28mself\u001b[39m\u001b[38;5;241m.\u001b[39mbackward_propagation()\n",
      "Cell \u001b[1;32mIn[2], line 73\u001b[0m, in \u001b[0;36mproblem_mesh_3D.forward_propagate\u001b[1;34m(self)\u001b[0m\n\u001b[0;32m     71\u001b[0m         dAC_dD \u001b[38;5;241m=\u001b[39m line_AC\u001b[38;5;241m.\u001b[39mn \u001b[38;5;241m/\u001b[39m np\u001b[38;5;241m.\u001b[39mdot(line_AC\u001b[38;5;241m.\u001b[39mn, \u001b[38;5;28mself\u001b[39m\u001b[38;5;241m.\u001b[39mN)\n\u001b[0;32m     72\u001b[0m         dAB_dD \u001b[38;5;241m=\u001b[39m line_AB\u001b[38;5;241m.\u001b[39mn \u001b[38;5;241m/\u001b[39m np\u001b[38;5;241m.\u001b[39mdot(line_AB\u001b[38;5;241m.\u001b[39mn, \u001b[38;5;28mself\u001b[39m\u001b[38;5;241m.\u001b[39mN)\n\u001b[1;32m---> 73\u001b[0m         dSA_dD \u001b[38;5;241m=\u001b[39m \u001b[43mdv\u001b[49m\u001b[38;5;241;43m.\u001b[39;49m\u001b[43mderivative_cross_product\u001b[49m\u001b[43m(\u001b[49m\u001b[43mAC\u001b[49m\u001b[43m,\u001b[49m\u001b[43m \u001b[49m\u001b[43mAB\u001b[49m\u001b[43m,\u001b[49m\u001b[43m \u001b[49m\u001b[43mdAC_dD\u001b[49m\u001b[43m,\u001b[49m\u001b[43m \u001b[49m\u001b[43mdAB_dD\u001b[49m\u001b[43m)\u001b[49m \u001b[38;5;241m/\u001b[39m \u001b[38;5;241m2\u001b[39m\n\u001b[0;32m     75\u001b[0m \u001b[38;5;28;01mif\u001b[39;00m (np\u001b[38;5;241m.\u001b[39mdot(\u001b[38;5;28mself\u001b[39m\u001b[38;5;241m.\u001b[39mN, B) \u001b[38;5;241m+\u001b[39m \u001b[38;5;28mself\u001b[39m\u001b[38;5;241m.\u001b[39mD) \u001b[38;5;241m>\u001b[39m \u001b[38;5;241m0\u001b[39m:\n\u001b[0;32m     76\u001b[0m     \u001b[38;5;28;01mif\u001b[39;00m \u001b[38;5;129;01mnot\u001b[39;00m np\u001b[38;5;241m.\u001b[39misclose(np\u001b[38;5;241m.\u001b[39mdot(line_BA\u001b[38;5;241m.\u001b[39mn, \u001b[38;5;28mself\u001b[39m\u001b[38;5;241m.\u001b[39mN), \u001b[38;5;241m0\u001b[39m) \u001b[38;5;129;01mand\u001b[39;00m \u001b[38;5;129;01mnot\u001b[39;00m np\u001b[38;5;241m.\u001b[39misclose(np\u001b[38;5;241m.\u001b[39mdot(line_BC\u001b[38;5;241m.\u001b[39mn, \u001b[38;5;28mself\u001b[39m\u001b[38;5;241m.\u001b[39mN), \u001b[38;5;241m0\u001b[39m):\n\u001b[0;32m     77\u001b[0m         \u001b[38;5;66;03m# The area\u001b[39;00m\n",
      "File \u001b[1;32m~\\Desktop\\UoE\\OneDrive - University of Edinburgh\\academy\\Dissertation\\Workplace\\ED_Dissertation\\util\\derivative.py:2\u001b[0m, in \u001b[0;36mderivative_cross_product\u001b[1;34m(A, B, dA, dB)\u001b[0m\n\u001b[0;32m      1\u001b[0m \u001b[38;5;28;01mdef\u001b[39;00m \u001b[38;5;21mderivative_cross_product\u001b[39m(A, B, dA, dB):\n\u001b[1;32m----> 2\u001b[0m     \u001b[38;5;28;01mreturn\u001b[39;00m \u001b[43mnp\u001b[49m\u001b[38;5;241m.\u001b[39mcross(dA, B) \u001b[38;5;241m+\u001b[39m np\u001b[38;5;241m.\u001b[39mcross(A, dB)\n",
      "\u001b[1;31mNameError\u001b[0m: name 'np' is not defined"
     ]
    }
   ],
   "source": [
    "test.train_one_round()"
   ]
  },
  {
   "cell_type": "code",
   "execution_count": 116,
   "id": "e313a7ea",
   "metadata": {},
   "outputs": [
    {
     "data": {
      "application/vnd.jupyter.widget-view+json": {
       "model_id": "9dd9584183b041369f4d5175617d2cfb",
       "version_major": 2,
       "version_minor": 0
      },
      "text/plain": [
       "Widget(value=\"<iframe src='http://localhost:61327/index.html?ui=P_0x2ac190c6e50_7&reconnect=auto' style='width…"
      ]
     },
     "metadata": {},
     "output_type": "display_data"
    }
   ],
   "source": [
    "test.visualize()\n"
   ]
  },
  {
   "cell_type": "code",
   "execution_count": 2,
   "id": "a4932909",
   "metadata": {},
   "outputs": [],
   "source": [
    "class problem_mesh_3D:\n",
    "    def __init__(self, points, faces, normals, n=[0,1,0], ratio=0.5, learning_rate=0.05, num_iteration=1000):\n",
    "        if len(points) < 3:\n",
    "            A = np.array([6,9])\n",
    "            B = np.array([10,14])\n",
    "            C = np.array([8,28])\n",
    "            self.vertices = np.array([A, B, C])\n",
    "        else:\n",
    "            self.vertices = points\n",
    "        self.faces = faces\n",
    "        self.normals = normals\n",
    "        util_3d.make_clockwise_3d(self.vertices)\n",
    "        \n",
    "        # Initialize variable \"D\" and define the plane\n",
    "        self.D = 0.5\n",
    "        self.plane=np.array(n + [self.D])\n",
    "        self.N=n\n",
    "    \n",
    "        # Area realted\n",
    "        self.ratio = ratio\n",
    "        self.compute_mesh_area()\n",
    "        \n",
    "        # Learning realted\n",
    "        self.lr = learning_rate\n",
    "        self.num_iteration = num_iteration\n",
    "        \n",
    "    def compute_mesh_area(self):\n",
    "        self.area = 0\n",
    "        for face in self.faces:\n",
    "            index_A, index_B, index_C = face\n",
    "            A = self.vertices[index_A]\n",
    "            B = self.vertices[index_B]\n",
    "            C = self.vertices[index_C]\n",
    "            self.area += util.triangle_area(A, B, C)\n",
    "        return self.area\n",
    "    \n",
    "    def forward_propagate(self):\n",
    "        self.S = 0\n",
    "        self.dS_dD = 0\n",
    "        \n",
    "        for idx, face in enumerate(self.faces):\n",
    "            index_A, index_B, index_C = face\n",
    "            A = self.vertices[index_A]\n",
    "            B = self.vertices[index_B]\n",
    "            C = self.vertices[index_C]\n",
    "            \n",
    "            # Edges\n",
    "            line_AC = util_3d.line_3D(A, C-A)\n",
    "            line_AB = util_3d.line_3D(A, B-A)\n",
    "            line_BA = util_3d.line_3D(B, A-B)\n",
    "            line_BC = util_3d.line_3D(B, C-B)\n",
    "            line_CB = util_3d.line_3D(C, B-C)\n",
    "            line_CA = util_3d.line_3D(C, C-A)\n",
    "            \n",
    "            SA=np.array([0,0,0])\n",
    "            SB=np.array([0,0,0])\n",
    "            SC=np.array([0,0,0])\n",
    "            dSA_dD=np.array([0,0,0])\n",
    "            dSB_dD=np.array([0,0,0])\n",
    "            dSC_dD=np.array([0,0,0])\n",
    "            \n",
    "            if (np.dot(self.N, A) + self.D) > 0:\n",
    "                if not np.isclose(np.dot(line_AC.n, self.N), 0) and not np.isclose(np.dot(line_AB.n, self.N), 0):\n",
    "                    # The area\n",
    "                    AC = line_AC.intersection_plane_t(self.plane) * line_AC.n\n",
    "                    AB = line_AB.intersection_plane_t(self.plane) * line_AB.n\n",
    "                    # Directed area\n",
    "                    SA = np.cross(AC, AB) / 2\n",
    "                    # The gradients\n",
    "                    # dt/dD\n",
    "                    dAC_dD = line_AC.n / np.dot(line_AC.n, self.N)\n",
    "                    dAB_dD = line_AB.n / np.dot(line_AB.n, self.N)\n",
    "                    dSA_dD = dv.derivative_cross_product(AC, AB, dAC_dD, dAB_dD) / 2\n",
    "                \n",
    "            if (np.dot(self.N, B) + self.D) > 0:\n",
    "                if not np.isclose(np.dot(line_BA.n, self.N), 0) and not np.isclose(np.dot(line_BC.n, self.N), 0):\n",
    "                    # The area\n",
    "                    BA = line_BA.intersection_plane_t(self.plane) * line_BA.n\n",
    "                    BC = line_BC.intersection_plane_t(self.plane) * line_BC.n\n",
    "                    # Directed area\n",
    "                    SB = np.cross(BA, BC) / 2\n",
    "                    # The gradients\n",
    "                    # dt/dD\n",
    "                    dBA_dD = line_BA.n / np.dot(line_BA.n, self.N)\n",
    "                    dBC_dD = line_BC.n / np.dot(line_BC.n, self.N)\n",
    "                    dSB_dD = dv.derivative_cross_product(BA, BC, dBA_dD, dBC_dD) / 2\n",
    "                    \n",
    "            if (np.dot(self.N, C) + self.D) > 0:\n",
    "                if not np.isclose(np.dot(line_CB.n, self.N), 0) and not np.isclose(np.dot(line_CA.n, self.N), 0):\n",
    "                    # The area\n",
    "                    CB = line_CB.intersection_plane_t(self.plane) * line_CB.n\n",
    "                    CA = line_CA.intersection_plane_t(self.plane) * line_CA.n\n",
    "                    # Directed area\n",
    "                    SC = np.cross(CB, CA) / 2\n",
    "                    # The gradients\n",
    "                    # dt/dD\n",
    "                    dCB_dD = line_BA.n / np.dot(line_CB.n, self.N)\n",
    "                    dCA_dD = line_BC.n / np.dot(line_CA.n, self.N)\n",
    "                    dSC_dD = dv.derivative_cross_product(CB, CA, dCB_dD, dCA_dD) / 2\n",
    "\n",
    "            self.S += np.linalg.norm(SA + SB + SC)\n",
    "            self.dS_dD += dv.derivative_L2_norm(-(SA + SB + SC), dSA_dD+dSB_dD+dSC_dD)\n",
    "    \n",
    "    def loss_MSE(self):\n",
    "        return np.power(self.S-self.ratio*self.area, 2)\n",
    "    \n",
    "#     def forward_propagation(self):\n",
    "        \n",
    "    def backward_propagation(self):\n",
    "        dL_dS = 2*self.S-2*self.ratio*self.area\n",
    "        print(\"dL/dS: \", dL_dS)\n",
    "        self.dL_dD=dL_dS*self.dS_dD\n",
    "        \n",
    "    def update_parameters(self):\n",
    "        A, B, C, D = self.plane\n",
    "        self.pre_D = D\n",
    "        D -= self.lr * self.dL_dD\n",
    "        self.D = D\n",
    "        self.plane = np.array([A, B, C, D])\n",
    "        \n",
    "    def visualize(self):\n",
    "        A, B, C, D = self.plane\n",
    "#         plane_pre = pv.Plane(center=(0, -self.pre_D, 0), direction=(0, 1, 0))\n",
    "        plane = pv.Plane(center=(0, -self.D, 0), direction=(0, 1, 0), i_size=2, j_size=2, i_resolution=1, j_resolution=1)\n",
    "        \n",
    "        plotter = pv.Plotter()\n",
    "#         plotter.add_mesh(mesh.points[0], color=\"red\", show_edges=True)\n",
    "        plotter.add_mesh(mesh, color=\"lightblue\", show_edges=True)\n",
    "        plotter.add_mesh(plane, color=\"yellow\", show_edges=True)\n",
    "#         plotter.add_mesh(plane_pre, color=\"orange\", show_edges=True)\n",
    "        plotter.view_vector(vector=normal, viewup=[0, 1, 0])\n",
    "        plotter.show_axes()\n",
    "        plotter.show()\n",
    "        \n",
    "    def train_one_round(self):\n",
    "        self.forward_propagate()\n",
    "        print(\"The loss is: \", self.loss_MSE())\n",
    "        self.backward_propagation()\n",
    "        self.update_parameters()\n",
    "        \n",
    "        print(\"The enclosing area is: \", self.S)\n",
    "        print(\"Half area： \", self.ratio*self.area)\n",
    "        print(\"dL/dD is: \", self.dL_dD)\n",
    "        print(\"D is: \", self.plane[3])\n",
    "#         self.visualize()\n",
    "        \n",
    "    def train(self):\n",
    "        for i in range(self.num_iteration):\n",
    "            self.forward_propagate()\n",
    "            self.backward_propagation()\n",
    "            self.update_parameters()\n",
    "        \n",
    "        print(\"The loss is: \", self.loss_MSE())\n",
    "        print(\"The enclosing area is: \", self.S)\n",
    "#         self.visualize()"
   ]
  },
  {
   "cell_type": "code",
   "execution_count": 29,
   "id": "84fa0129",
   "metadata": {},
   "outputs": [
    {
     "data": {
      "application/vnd.jupyter.widget-view+json": {
       "model_id": "34bdca81f40c46759b12020b8feb9b50",
       "version_major": 2,
       "version_minor": 0
      },
      "text/plain": [
       "Widget(value=\"<iframe src='http://localhost:61327/index.html?ui=P_0x2ac0fd6ee50_3&reconnect=auto' style='width…"
      ]
     },
     "metadata": {},
     "output_type": "display_data"
    }
   ],
   "source": [
    "sphere = pv.Sphere()\n",
    "\n",
    "pl = pv.Plotter()\n",
    "pl.add_mesh(sphere, show_edges=True, color=\"white\")\n",
    "pl.add_points(sphere.points, color=\"red\", point_size=5)\n",
    "pl.show_axes()\n",
    "pl.show()"
   ]
  }
 ],
 "metadata": {
  "kernelspec": {
   "display_name": "Python 3 (ipykernel)",
   "language": "python",
   "name": "python3"
  },
  "language_info": {
   "codemirror_mode": {
    "name": "ipython",
    "version": 3
   },
   "file_extension": ".py",
   "mimetype": "text/x-python",
   "name": "python",
   "nbconvert_exporter": "python",
   "pygments_lexer": "ipython3",
   "version": "3.11.0"
  }
 },
 "nbformat": 4,
 "nbformat_minor": 5
}
