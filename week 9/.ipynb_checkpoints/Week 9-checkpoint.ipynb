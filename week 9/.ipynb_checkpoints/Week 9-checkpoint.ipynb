{
 "cells": [
  {
   "cell_type": "markdown",
   "id": "2d0d9b34",
   "metadata": {},
   "source": [
    "# Week 9: Bisector Area of 3D Mesh\n",
    "**Target**: Fit a plane with fixed normal that can bisector the surface area of any given mesh"
   ]
  },
  {
   "cell_type": "markdown",
   "id": "2d55ae9b",
   "metadata": {},
   "source": [
    "## Table of Contents\n",
    "- [0 - Packages](#0)\n",
    "    - [0.1 - Packages](#0-1)\n",
    "    - [0.2 - Self-defined Functions](#0-2)\n",
    "- [1 - Implementation](#1)\n",
    "    - [1.1 - Target](#1-1)\n",
    "    - [1.2 - The Loss](#1-2)\n",
    "- [2 - Forward Propagation](#2)\n",
    "    - [2.1 - Directed Area](#2-1)\n",
    "    - [2.2 - Gradient Descence](#2-2)\n",
    "- [3 - Backward Propagation](#3)\n",
    "    - [3.1 - Gradients of Cross Product](#2-1)\n",
    "    - [3.2 - Gradients of L2 Norm](#2-2)\n",
    "- [4 - Others](#4)\n",
    "- [5 - Reference](#5)"
   ]
  },
  {
   "cell_type": "code",
   "execution_count": 117,
   "id": "f775e96c",
   "metadata": {},
   "outputs": [],
   "source": [
    "# Packages\n",
    "import numpy as np\n",
    "import random\n",
    "# Visualization\n",
    "import pyvista as pv\n",
    "from pyvista import examples"
   ]
  },
  {
   "cell_type": "code",
   "execution_count": 1,
   "id": "cd4b62f9",
   "metadata": {},
   "outputs": [],
   "source": [
    "# Self-defined functions\n",
    "import sys\n",
    "import os\n",
    "sys.path.append(os.path.abspath(os.path.join('..')))\n",
    "from util import util\n",
    "from util import util_3d\n",
    "from util import derivative as dv"
   ]
  },
  {
   "cell_type": "code",
   "execution_count": 3,
   "id": "d2a84031",
   "metadata": {},
   "outputs": [
    {
     "data": {
      "application/vnd.jupyter.widget-view+json": {
       "model_id": "d5672b285fc14bc69baf7c039fe231ee",
       "version_major": 2,
       "version_minor": 0
      },
      "text/plain": [
       "Widget(value=\"<iframe src='http://localhost:61327/index.html?ui=P_0x2ac0a34ec10_0&reconnect=auto' style='width…"
      ]
     },
     "metadata": {},
     "output_type": "display_data"
    }
   ],
   "source": [
    "points = np.array([[0, 1, 1], [-1, -1, -1], [1, 0.5, 0], [-2,-3,-4]])\n",
    "faces = np.array([3, 0, 1, 2, 3, 0, 3, 1])\n",
    "util_3d.make_clockwise_3d(points)\n",
    "mesh = pv.PolyData(points, faces)\n",
    "\n",
    "plane = pv.Plane(center=(0, 0.5, 0), direction=(0, 1, 0))\n",
    "\n",
    "center = mesh.points.mean(axis=0)\n",
    "normal = mesh.face_normals[0]\n",
    "\n",
    "plotter = pv.Plotter()\n",
    "plotter.add_mesh(mesh, color=\"lightblue\", show_edges=True)\n",
    "plotter.add_mesh(plane, color=\"yellow\", show_edges=True)\n",
    "plotter.view_vector(vector=normal, viewup=[0, 1, 0])\n",
    "plotter.show_axes()\n",
    "plotter.show()"
   ]
  },
  {
   "cell_type": "code",
   "execution_count": 87,
   "id": "9a942eea",
   "metadata": {},
   "outputs": [],
   "source": [
    "def derivative_cross_product(A, B, dA, dB):\n",
    "    return np.cross(dA, B) + np.cross(A, dB)\n",
    "\n",
    "def derivative_L2_norm(v, dv_dt):\n",
    "    v_norm = np.linalg.norm(v)\n",
    "    if v_norm == 0:\n",
    "        return 0\n",
    "    else:\n",
    "        df_dt = np.dot(v, dv_dt) / v_norm\n",
    "        return df_dt"
   ]
  },
  {
   "cell_type": "code",
   "execution_count": 484,
   "id": "d499d4ed",
   "metadata": {},
   "outputs": [],
   "source": [
    "test = problem_mesh_3D(sphere.points, sphere.faces.reshape((-1,4))[:, 1:4], sphere.face_normals)"
   ]
  },
  {
   "cell_type": "code",
   "execution_count": 88,
   "id": "701353ca",
   "metadata": {},
   "outputs": [],
   "source": [
    "test = problem_mesh_3D(mesh.points, mesh.faces.reshape((-1,4))[:, 1:4], mesh.face_normals)"
   ]
  },
  {
   "cell_type": "code",
   "execution_count": 115,
   "id": "ff38c152",
   "metadata": {},
   "outputs": [
    {
     "name": "stdout",
     "output_type": "stream",
     "text": [
      "The loss is:  0.0\n",
      "dL/dS:  0.0\n",
      "The enclosing area is:  1.566799212912266\n",
      "Half area：  1.566799212912266\n",
      "dL/dD is:  0.0\n",
      "D is:  0.05223396330896816\n"
     ]
    }
   ],
   "source": [
    "test.train_one_round()"
   ]
  },
  {
   "cell_type": "code",
   "execution_count": 116,
   "id": "7c1abcd7",
   "metadata": {},
   "outputs": [
    {
     "data": {
      "application/vnd.jupyter.widget-view+json": {
       "model_id": "9dd9584183b041369f4d5175617d2cfb",
       "version_major": 2,
       "version_minor": 0
      },
      "text/plain": [
       "Widget(value=\"<iframe src='http://localhost:61327/index.html?ui=P_0x2ac190c6e50_7&reconnect=auto' style='width…"
      ]
     },
     "metadata": {},
     "output_type": "display_data"
    }
   ],
   "source": [
    "test.visualize()\n"
   ]
  },
  {
   "cell_type": "code",
   "execution_count": 86,
   "id": "a4932909",
   "metadata": {},
   "outputs": [],
   "source": [
    "class problem_mesh_3D:\n",
    "    def __init__(self, points, faces, normals, n=[0,1,0], ratio=0.5, learning_rate=0.05, num_iteration=1000):\n",
    "        if len(points) < 3:\n",
    "            A = np.array([6,9])\n",
    "            B = np.array([10,14])\n",
    "            C = np.array([8,28])\n",
    "            self.vertices = np.array([A, B, C])\n",
    "        else:\n",
    "            self.vertices = points\n",
    "        self.faces = faces\n",
    "        self.normals = normals\n",
    "        util_3d.make_clockwise_3d(self.vertices)\n",
    "        \n",
    "        # Initialize variable \"D\" and define the plane\n",
    "        self.D = 0.5\n",
    "        self.plane=np.array(n + [self.D])\n",
    "        self.N=n\n",
    "    \n",
    "        # Area realted\n",
    "        self.ratio = ratio\n",
    "        self.compute_mesh_area()\n",
    "        \n",
    "        # Learning realted\n",
    "        self.lr = learning_rate\n",
    "        self.num_iteration = num_iteration\n",
    "        \n",
    "    def compute_mesh_area(self):\n",
    "        self.area = 0\n",
    "        for face in self.faces:\n",
    "            index_A, index_B, index_C = face\n",
    "            A = self.vertices[index_A]\n",
    "            B = self.vertices[index_B]\n",
    "            C = self.vertices[index_C]\n",
    "            self.area += util.triangle_area(A, B, C)\n",
    "        return self.area\n",
    "    \n",
    "    def forward_propagate(self):\n",
    "        self.S = 0\n",
    "        self.dS_dD = 0\n",
    "        \n",
    "        for idx, face in enumerate(self.faces):\n",
    "            index_A, index_B, index_C = face\n",
    "            A = self.vertices[index_A]\n",
    "            B = self.vertices[index_B]\n",
    "            C = self.vertices[index_C]\n",
    "            \n",
    "            # Edges\n",
    "            line_AC = util_3d.line_3D(A, C-A)\n",
    "            line_AB = util_3d.line_3D(A, B-A)\n",
    "            line_BA = util_3d.line_3D(B, A-B)\n",
    "            line_BC = util_3d.line_3D(B, C-B)\n",
    "            line_CB = util_3d.line_3D(C, B-C)\n",
    "            line_CA = util_3d.line_3D(C, C-A)\n",
    "            \n",
    "            SA=np.array([0,0,0])\n",
    "            SB=np.array([0,0,0])\n",
    "            SC=np.array([0,0,0])\n",
    "            dSA_dD=np.array([0,0,0])\n",
    "            dSB_dD=np.array([0,0,0])\n",
    "            dSC_dD=np.array([0,0,0])\n",
    "            \n",
    "            if (np.dot(self.N, A) + self.D) > 0:\n",
    "                if not np.isclose(np.dot(line_AC.n, self.N), 0) and not np.isclose(np.dot(line_AB.n, self.N), 0):\n",
    "                    # The area\n",
    "                    AC = line_AC.intersection_plane_t(self.plane) * line_AC.n\n",
    "                    AB = line_AB.intersection_plane_t(self.plane) * line_AB.n\n",
    "                    # Directed area\n",
    "                    SA = np.cross(AC, AB) / 2\n",
    "                    # The gradients\n",
    "                    # dt/dD\n",
    "                    dAC_dD = line_AC.n / np.dot(line_AC.n, self.N)\n",
    "                    dAB_dD = line_AB.n / np.dot(line_AB.n, self.N)\n",
    "                    dSA_dD = dv.derivative_cross_product(AC, AB, dAC_dD, dAB_dD) / 2\n",
    "                \n",
    "            if (np.dot(self.N, B) + self.D) > 0:\n",
    "                if not np.isclose(np.dot(line_BA.n, self.N), 0) and not np.isclose(np.dot(line_BC.n, self.N), 0):\n",
    "                    # The area\n",
    "                    BA = line_BA.intersection_plane_t(self.plane) * line_BA.n\n",
    "                    BC = line_BC.intersection_plane_t(self.plane) * line_BC.n\n",
    "                    # Directed area\n",
    "                    SB = np.cross(BA, BC) / 2\n",
    "                    # The gradients\n",
    "                    # dt/dD\n",
    "                    dBA_dD = line_BA.n / np.dot(line_BA.n, self.N)\n",
    "                    dBC_dD = line_BC.n / np.dot(line_BC.n, self.N)\n",
    "                    dSB_dD = dv.derivative_cross_product(BA, BC, dBA_dD, dBC_dD) / 2\n",
    "                    \n",
    "            if (np.dot(self.N, C) + self.D) > 0:\n",
    "                if not np.isclose(np.dot(line_CB.n, self.N), 0) and not np.isclose(np.dot(line_CA.n, self.N), 0):\n",
    "                    # The area\n",
    "                    CB = line_CB.intersection_plane_t(self.plane) * line_CB.n\n",
    "                    CA = line_CA.intersection_plane_t(self.plane) * line_CA.n\n",
    "                    # Directed area\n",
    "                    SC = np.cross(CB, CA) / 2\n",
    "                    # The gradients\n",
    "                    # dt/dD\n",
    "                    dCB_dD = line_BA.n / np.dot(line_CB.n, self.N)\n",
    "                    dCA_dD = line_BC.n / np.dot(line_CA.n, self.N)\n",
    "                    dSC_dD = dv.derivative_cross_product(CB, CA, dCB_dD, dCA_dD) / 2\n",
    "\n",
    "            self.S += np.linalg.norm(SA + SB + SC)\n",
    "            self.dS_dD += dv.derivative_L2_norm(-(SA + SB + SC), dSA_dD+dSB_dD+dSC_dD)\n",
    "    \n",
    "    def loss_MSE(self):\n",
    "        return np.power(self.S-self.ratio*self.area, 2)\n",
    "    \n",
    "#     def forward_propagation(self):\n",
    "        \n",
    "    def backward_propagation(self):\n",
    "        dL_dS = 2*self.S-2*self.ratio*self.area\n",
    "        print(\"dL/dS: \", dL_dS)\n",
    "        self.dL_dD=dL_dS*self.dS_dD\n",
    "        \n",
    "    def update_parameters(self):\n",
    "        A, B, C, D = self.plane\n",
    "        self.pre_D = D\n",
    "        D -= self.lr * self.dL_dD\n",
    "        self.D = D\n",
    "        self.plane = np.array([A, B, C, D])\n",
    "        \n",
    "    def visualize(self):\n",
    "        A, B, C, D = self.plane\n",
    "#         plane_pre = pv.Plane(center=(0, -self.pre_D, 0), direction=(0, 1, 0))\n",
    "        plane = pv.Plane(center=(0, -self.D, 0), direction=(0, 1, 0), i_size=2, j_size=2, i_resolution=1, j_resolution=1)\n",
    "        \n",
    "        plotter = pv.Plotter()\n",
    "#         plotter.add_mesh(mesh.points[0], color=\"red\", show_edges=True)\n",
    "        plotter.add_mesh(mesh, color=\"lightblue\", show_edges=True)\n",
    "        plotter.add_mesh(plane, color=\"yellow\", show_edges=True)\n",
    "#         plotter.add_mesh(plane_pre, color=\"orange\", show_edges=True)\n",
    "        plotter.view_vector(vector=normal, viewup=[0, 1, 0])\n",
    "        plotter.show_axes()\n",
    "        plotter.show()\n",
    "        \n",
    "    def train_one_round(self):\n",
    "        self.forward_propagate()\n",
    "        print(\"The loss is: \", self.loss_MSE())\n",
    "        self.backward_propagation()\n",
    "        self.update_parameters()\n",
    "        \n",
    "        print(\"The enclosing area is: \", self.S)\n",
    "        print(\"Half area： \", self.ratio*self.area)\n",
    "        print(\"dL/dD is: \", self.dL_dD)\n",
    "        print(\"D is: \", self.plane[3])\n",
    "#         self.visualize()\n",
    "        \n",
    "    def train(self):\n",
    "        for i in range(self.num_iteration):\n",
    "            self.forward_propagate()\n",
    "            self.backward_propagation()\n",
    "            self.update_parameters()\n",
    "        \n",
    "        print(\"The loss is: \", self.loss_MSE())\n",
    "        print(\"The enclosing area is: \", self.S)\n",
    "#         self.visualize()"
   ]
  },
  {
   "cell_type": "code",
   "execution_count": 29,
   "id": "c184eff1",
   "metadata": {},
   "outputs": [
    {
     "data": {
      "application/vnd.jupyter.widget-view+json": {
       "model_id": "34bdca81f40c46759b12020b8feb9b50",
       "version_major": 2,
       "version_minor": 0
      },
      "text/plain": [
       "Widget(value=\"<iframe src='http://localhost:61327/index.html?ui=P_0x2ac0fd6ee50_3&reconnect=auto' style='width…"
      ]
     },
     "metadata": {},
     "output_type": "display_data"
    }
   ],
   "source": [
    "sphere = pv.Sphere()\n",
    "\n",
    "pl = pv.Plotter()\n",
    "pl.add_mesh(sphere, show_edges=True, color=\"white\")\n",
    "pl.add_points(sphere.points, color=\"red\", point_size=5)\n",
    "pl.show_axes()\n",
    "pl.show()"
   ]
  }
 ],
 "metadata": {
  "kernelspec": {
   "display_name": "Python 3 (ipykernel)",
   "language": "python",
   "name": "python3"
  },
  "language_info": {
   "codemirror_mode": {
    "name": "ipython",
    "version": 3
   },
   "file_extension": ".py",
   "mimetype": "text/x-python",
   "name": "python",
   "nbconvert_exporter": "python",
   "pygments_lexer": "ipython3",
   "version": "3.11.0"
  }
 },
 "nbformat": 4,
 "nbformat_minor": 5
}
