{
 "cells": [
  {
   "cell_type": "markdown",
   "id": "2d0d9b34",
   "metadata": {},
   "source": [
    "# Week 9: Bisector Area of 3D Mesh\n",
    "**Target**: "
   ]
  },
  {
   "cell_type": "code",
   "execution_count": 1,
   "id": "cd4b62f9",
   "metadata": {},
   "outputs": [],
   "source": [
    "# Packages\n",
    "import numpy as np\n",
    "import random\n",
    "import matplotlib.pyplot as plt\n",
    "\n",
    "# Self-defined functions\n",
    "import sys\n",
    "import os\n",
    "sys.path.append(os.path.abspath(os.path.join('..')))\n",
    "from util import util\n",
    "\n",
    "# Visualization\n",
    "import pyvista as pv\n",
    "from pyvista import examples\n",
    "from util import util_3d"
   ]
  },
  {
   "cell_type": "code",
   "execution_count": 2,
   "id": "0c395ad6",
   "metadata": {},
   "outputs": [
    {
     "name": "stderr",
     "output_type": "stream",
     "text": [
      "C:\\Env\\Python\\Python311\\Lib\\site-packages\\pyvista\\utilities\\helpers.py:507: UserWarning: Points is not a float type. This can cause issues when transforming or applying filters. Casting to ``np.float32``. Disable this by passing ``force_float=False``.\n",
      "  warnings.warn(\n"
     ]
    },
    {
     "data": {
      "application/vnd.jupyter.widget-view+json": {
       "model_id": "1a07e5bb11e8400bb3e1acf902f7c3ff",
       "version_major": 2,
       "version_minor": 0
      },
      "text/plain": [
       "Widget(value=\"<iframe src='http://localhost:57778/index.html?ui=P_0x1b62e4b2a90_0&reconnect=auto' style='width…"
      ]
     },
     "metadata": {},
     "output_type": "display_data"
    }
   ],
   "source": [
    "points = np.array([[0, 1, 0], [-1, -1, -2], [1, 0, -1]])\n",
    "faces = np.array([3, 0, 1, 2])\n",
    "util_3d.make_clockwise_3d(points)\n",
    "mesh = pv.PolyData(points, faces)\n",
    "\n",
    "plane = pv.Plane(center=(0, 0.5, 0), direction=(0, 1, 0))\n",
    "\n",
    "center = mesh.points.mean(axis=0)\n",
    "normal = mesh.face_normals[0]\n",
    "\n",
    "plotter = pv.Plotter()\n",
    "plotter.add_mesh(mesh, color=\"lightblue\", show_edges=True)\n",
    "plotter.add_mesh(plane, color=\"yellow\", show_edges=True)\n",
    "plotter.view_vector(vector=normal, viewup=[0, 1, 0])\n",
    "plotter.show_axes()\n",
    "plotter.show()"
   ]
  },
  {
   "cell_type": "code",
   "execution_count": 51,
   "id": "06ae7482",
   "metadata": {},
   "outputs": [],
   "source": [
    "def cross_product_derivative(A, B, A_dot, B_dot):\n",
    "    C_dot = np.cross(A_dot, B) + np.cross(A, B_dot)\n",
    "    return C_dot\n",
    "\n",
    "\n",
    "def derivative_of_magnitude(v, dv_dt):\n",
    "    v_norm = np.linalg.norm(v)\n",
    "    if v_norm == 0:\n",
    "        return 0\n",
    "    else:\n",
    "        df_dt = np.dot(v, dv_dt) / v_norm\n",
    "        return df_dt"
   ]
  },
  {
   "cell_type": "code",
   "execution_count": 17,
   "id": "0f96a9ec",
   "metadata": {},
   "outputs": [
    {
     "data": {
      "text/plain": [
       "842"
      ]
     },
     "execution_count": 17,
     "metadata": {},
     "output_type": "execute_result"
    }
   ],
   "source": [
    "len(sphere.points)"
   ]
  },
  {
   "cell_type": "code",
   "execution_count": 18,
   "id": "578fadb5",
   "metadata": {},
   "outputs": [],
   "source": [
    "test = problem_mesh_3D(sphere.points, sphere.faces.reshape((-1,4))[:, 1:4], sphere.face_normals)"
   ]
  },
  {
   "cell_type": "code",
   "execution_count": 116,
   "id": "1f0fae11",
   "metadata": {},
   "outputs": [],
   "source": [
    "test = problem_mesh_3D(mesh.points, mesh.faces.reshape((-1,4))[:, 1:4], mesh.face_normals)"
   ]
  },
  {
   "cell_type": "code",
   "execution_count": 117,
   "id": "ff3eaa02",
   "metadata": {},
   "outputs": [
    {
     "name": "stdout",
     "output_type": "stream",
     "text": [
      "S:  4.242640687119285\n",
      "The loss is:  10.125000305182148\n",
      "The enclosing area is:  4.242640687119285\n",
      "一半面积：  1.0606601238250732\n",
      "dL/dD is:  -38.02270441555395\n",
      "D is:  2.4011352207776975\n"
     ]
    },
    {
     "data": {
      "application/vnd.jupyter.widget-view+json": {
       "model_id": "b9b862df9a94497bb6859230b9e0cdbc",
       "version_major": 2,
       "version_minor": 0
      },
      "text/plain": [
       "Widget(value=\"<iframe src='http://localhost:57778/index.html?ui=P_0x1b642dce510_6&reconnect=auto' style='width…"
      ]
     },
     "metadata": {},
     "output_type": "display_data"
    }
   ],
   "source": [
    "test.train_one_round()"
   ]
  },
  {
   "cell_type": "code",
   "execution_count": 115,
   "id": "a4932909",
   "metadata": {},
   "outputs": [],
   "source": [
    "class problem_mesh_3D:\n",
    "    def __init__(self, points, faces, normals, n=[0,1,0], ratio=0.5, learning_rate=0.05, num_iteration=1000):\n",
    "        if len(points) < 3:\n",
    "            A = np.array([6,9])\n",
    "            B = np.array([10,14])\n",
    "            C = np.array([8,28])\n",
    "            self.vertices = np.array([A, B, C])\n",
    "        else:\n",
    "            self.vertices = points\n",
    "        self.faces = faces\n",
    "        self.normals = normals\n",
    "#         self.make_clockwise_3d()\n",
    "        \n",
    "        # Initialize variable \"D\" and define the plane\n",
    "        D = 0.5\n",
    "        self.plane=np.array(n + [D])\n",
    "        self.N=n\n",
    "    \n",
    "        # Area realted\n",
    "        self.ratio = ratio\n",
    "        self.compute_mesh_area()\n",
    "        \n",
    "        # Learning realted\n",
    "        self.lr = learning_rate\n",
    "        self.num_iteration = num_iteration\n",
    "        \n",
    "    def compute_mesh_area(self):\n",
    "        self.area = 0\n",
    "        for face in self.faces:\n",
    "            index_A, index_B, index_C = face\n",
    "            A = self.vertices[index_A]\n",
    "            B = self.vertices[index_B]\n",
    "            C = self.vertices[index_C]\n",
    "            self.area += util.triangle_area(A, B, C)\n",
    "        return self.area\n",
    "    \n",
    "    def forward_propagate(self):\n",
    "        self.S = 0\n",
    "        self.dS_dD = 0\n",
    "        \n",
    "        for idx, face in enumerate(self.faces):\n",
    "            index_A, index_B, index_C = face\n",
    "            A = points[index_A]\n",
    "            B = points[index_B]\n",
    "            C = points[index_C]\n",
    "            \n",
    "            # Edges\n",
    "            line_AC = util_3d.line_3D(A, C-A)\n",
    "            line_AB = util_3d.line_3D(A, B-A)\n",
    "            line_BA = util_3d.line_3D(B, A-B)\n",
    "            line_BC = util_3d.line_3D(B, C-B)\n",
    "            line_CB = util_3d.line_3D(C, B-C)\n",
    "            line_CA = util_3d.line_3D(C, C-A)\n",
    "            \n",
    "            if not np.isclose(np.dot(line_AC.n, self.N), 0) and not np.isclose(np.dot(line_AB.n, self.N), 0):\n",
    "                # The area\n",
    "                AC = line_AC.intersection_plane_t(self.plane) * line_AC.n\n",
    "                AB = line_AB.intersection_plane_t(self.plane) * line_AB.n\n",
    "                # Directed area\n",
    "                SA = np.cross(AC, AB)\n",
    "                # The gradients\n",
    "                # dt/dD\n",
    "                dAC_dD = line_AC.n / np.dot(line_AC.n, self.N)\n",
    "                dAB_dD = line_AB.n / np.dot(line_AB.n, self.N)\n",
    "                dSA_dD = cross_product_derivative(AC, AB, dAC_dD, dAB_dD)\n",
    "                \n",
    "            if not np.isclose(np.dot(line_BA.n, self.N), 0) and not np.isclose(np.dot(line_BC.n, self.N), 0):\n",
    "                # The area\n",
    "                BA = line_BA.intersection_plane_t(self.plane) * line_BA.n\n",
    "                BC = line_BC.intersection_plane_t(self.plane) * line_BC.n\n",
    "                # Directed area\n",
    "                SB = np.cross(BA, BC)\n",
    "                # The gradients\n",
    "                # dt/dD\n",
    "                dBA_dD = line_BA.n / np.dot(line_BA.n, self.N)\n",
    "                dBC_dD = line_BC.n / np.dot(line_BC.n, self.N)\n",
    "                dSB_dD = cross_product_derivative(BA, BC, dBA_dD, dBC_dD)\n",
    "                \n",
    "            if not np.isclose(np.dot(line_CB.n, self.N), 0) and not np.isclose(np.dot(line_CA.n, self.N), 0):\n",
    "                # The area\n",
    "                CB = line_CB.intersection_plane_t(self.plane) * line_CB.n\n",
    "                CA = line_CA.intersection_plane_t(self.plane) * line_CA.n\n",
    "                # Directed area\n",
    "                SC = np.cross(CB, CA)\n",
    "                # The gradients\n",
    "                # dt/dD\n",
    "                dCB_dD = line_BA.n / np.dot(line_CB.n, self.N)\n",
    "                dCA_dD = line_BC.n / np.dot(line_CA.n, self.N)\n",
    "                dSC_dD = cross_product_derivative(CB, CA, dCB_dD, dCA_dD)\n",
    "\n",
    "            self.S += np.linalg.norm(SA + SB + SC)\n",
    "            self.dS_dD += derivative_of_magnitude(SA + SB + SC, dSA_dD+dSB_dD+dSC_dD)\n",
    "            print(\"S: \", self.S)\n",
    "    \n",
    "    def loss_MSE(self):\n",
    "        return np.power(self.S-self.ratio*self.area, 2)\n",
    "    \n",
    "#     def forward_propagation(self):\n",
    "        \n",
    "    def backward_propagation(self):\n",
    "        dL_dS = 2*self.S-2*self.ratio*self.area\n",
    "        self.dL_dD=dL_dS*self.dS_dD\n",
    "        \n",
    "    def update_parameters(self):\n",
    "        A, B, C, D = self.plane\n",
    "        D -= self.lr * self.dL_dD\n",
    "        self.plane = np.array([A, B, C, D])\n",
    "        \n",
    "    def visualize(self):\n",
    "        A, B, C, D = self.plane\n",
    "        plane = pv.Plane(center=(0, D, 0), direction=(0, 1, 0))\n",
    "        \n",
    "        plotter = pv.Plotter()\n",
    "        plotter.add_mesh(mesh, color=\"lightblue\", show_edges=True)\n",
    "        plotter.add_mesh(plane, color=\"yellow\", show_edges=True)\n",
    "        plotter.view_vector(vector=normal, viewup=[0, 1, 0])\n",
    "        plotter.show_axes()\n",
    "        plotter.show()\n",
    "        \n",
    "    def train_one_round(self):\n",
    "        self.forward_propagate()\n",
    "        print(\"The loss is: \", self.loss_MSE())\n",
    "        self.backward_propagation()\n",
    "        self.update_parameters()\n",
    "        \n",
    "        print(\"The enclosing area is: \", self.S)\n",
    "        print(\"一半面积： \", self.ratio*self.area)\n",
    "        print(\"dL/dD is: \", self.dL_dD)\n",
    "        print(\"D is: \", self.plane[3])\n",
    "        self.visualize()\n",
    "        \n",
    "    def train(self):\n",
    "        for i in range(self.num_iteration):\n",
    "            self.forward_propagate()\n",
    "            self.backward_propagation()\n",
    "            self.update_parameters()\n",
    "        \n",
    "        print(\"The loss is: \", self.loss_MSE())\n",
    "        print(\"The enclosing area is: \", self.S)\n",
    "        self.visualize()"
   ]
  },
  {
   "cell_type": "code",
   "execution_count": 4,
   "id": "31dc8510",
   "metadata": {},
   "outputs": [
    {
     "data": {
      "application/vnd.jupyter.widget-view+json": {
       "model_id": "1fae034b7a21479e85bd41b574557543",
       "version_major": 2,
       "version_minor": 0
      },
      "text/plain": [
       "Widget(value=\"<iframe src='http://localhost:57778/index.html?ui=P_0x1b631014650_1&reconnect=auto' style='width…"
      ]
     },
     "metadata": {},
     "output_type": "display_data"
    }
   ],
   "source": [
    "sphere = pv.Sphere()\n",
    "\n",
    "pl = pv.Plotter()\n",
    "pl.add_mesh(sphere, show_edges=True, color=\"white\")\n",
    "pl.add_points(sphere.points, color=\"red\", point_size=5)\n",
    "pl.show_axes()\n",
    "pl.show()"
   ]
  },
  {
   "cell_type": "code",
   "execution_count": null,
   "id": "ce1e9421",
   "metadata": {},
   "outputs": [],
   "source": [
    "test = problem_mesh_3D(sphere.points, sphere.faces.reshape((-1,4))[:, 1:4], sphere.face_normals)"
   ]
  }
 ],
 "metadata": {
  "kernelspec": {
   "display_name": "Python 3 (ipykernel)",
   "language": "python",
   "name": "python3"
  },
  "language_info": {
   "codemirror_mode": {
    "name": "ipython",
    "version": 3
   },
   "file_extension": ".py",
   "mimetype": "text/x-python",
   "name": "python",
   "nbconvert_exporter": "python",
   "pygments_lexer": "ipython3",
   "version": "3.11.0"
  }
 },
 "nbformat": 4,
 "nbformat_minor": 5
}
