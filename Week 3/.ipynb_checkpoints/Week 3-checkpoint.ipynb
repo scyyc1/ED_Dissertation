{
 "cells": [
  {
   "cell_type": "markdown",
   "id": "125985ec",
   "metadata": {},
   "source": [
    "# Week 2: Dijkstra on Mesh\n",
    "**Target**: Find the shortest path along edges between two given vertices"
   ]
  },
  {
   "cell_type": "markdown",
   "id": "2808dd62",
   "metadata": {},
   "source": [
    "## Table of Contents\n",
    "- [0 - Packages and Resources](#0)\n",
    "<!-- - [1 - Triangle Area Bisection Line Passing throught a Fixed Point](#1)\n",
    "    - [1.1 - Problem Representation](#1-1)\n",
    "    - [1.2 - Method](#1-2)\n",
    "    - [1.3 - Result](#1-3)\n",
    "    - [1.4 - Vertices Classification](#1-4)\n",
    "    - [1.5 - \\*Interactive Plot](#1-5)\n",
    "- [2 - More General](#2)\n",
    "    - [2.1 - Established Conclusion](#2-1)\n",
    "    - [2.2 - Mathmatical Derivation](#2-2)\n",
    "    - [2.3 - Plot](#2-3) -->\n",
    "- [3 - Reference](#3)"
   ]
  },
  {
   "cell_type": "markdown",
   "id": "b20f302d",
   "metadata": {},
   "source": [
    "<a name='0'></a>\n",
    "## 0. Packages and Resources"
   ]
  },
  {
   "cell_type": "code",
   "execution_count": 2,
   "id": "80e29e76",
   "metadata": {},
   "outputs": [],
   "source": [
    "# Packages\n",
    "import numpy as np\n",
    "import random\n",
    "import matplotlib.pyplot as plt\n",
    "\n",
    "# Self-defined functions\n",
    "import sys\n",
    "import os\n",
    "sys.path.append(os.path.abspath(os.path.join('..')))\n",
    "from util import util\n",
    "\n",
    "# Rendering\n",
    "import drjit as dr\n",
    "import mitsuba as mi"
   ]
  },
  {
   "cell_type": "markdown",
   "id": "37c9a98a",
   "metadata": {},
   "source": []
  },
  {
   "cell_type": "markdown",
   "id": "fd197d45",
   "metadata": {},
   "source": [
    "<a name='3'></a>\n",
    "## 5. Reference\n",
    "\n",
    "<a name='ref-1'></a>\n",
    "1. [Craizer, Marcos. \"Envelopes of Bisection Lines of Polygons.\" arXiv preprint arXiv:2203.10559 (2022).](https://arxiv.org/abs/2203.10559)\n",
    "<a name='ref-2'></a>\n",
    "1. [Burdette, A. C. (Albert Clark). Analytic Geometry [by] A.C. Burdette. New York: Academic Press, 1971. Print.](https://www-sciencedirect-com.ezproxy.is.ed.ac.uk/book/9780121422561/analytic-geometry)"
   ]
  }
 ],
 "metadata": {
  "kernelspec": {
   "display_name": "Python 3 (ipykernel)",
   "language": "python",
   "name": "python3"
  },
  "language_info": {
   "codemirror_mode": {
    "name": "ipython",
    "version": 3
   },
   "file_extension": ".py",
   "mimetype": "text/x-python",
   "name": "python",
   "nbconvert_exporter": "python",
   "pygments_lexer": "ipython3",
   "version": "3.11.0"
  }
 },
 "nbformat": 4,
 "nbformat_minor": 5
}
