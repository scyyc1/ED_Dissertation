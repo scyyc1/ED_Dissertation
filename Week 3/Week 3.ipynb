{
 "cells": [
  {
   "cell_type": "markdown",
   "id": "125985ec",
   "metadata": {},
   "source": [
    "# Week 3: Dijkstra on Mesh\n",
    "**Target**: Find the shortest path along edges between two given vertices"
   ]
  },
  {
   "cell_type": "markdown",
   "id": "2808dd62",
   "metadata": {},
   "source": [
    "## Table of Contents\n",
    "- [0 - Packages and Resources](#0)\n",
    "- [1 - Shortest Path along Edges](#1)\n",
    "<!--     - [1.1 - Problem Representation](#1-1)\n",
    "    - [1.2 - Method](#1-2)\n",
    "    - [1.3 - Result](#1-3)\n",
    "    - [1.4 - Vertices Classification](#1-4)\n",
    "    - [1.5 - \\*Interactive Plot](#1-5) -->\n",
    "- [2 - An Idea](#2)\n",
    "<!--     - [2.1 - Established Conclusion](#2-1)\n",
    "    - [2.2 - Mathmatical Derivation](#2-2)\n",
    "    - [2.3 - Plot](#2-3) -->\n",
    "- [3 - Reference](#3)"
   ]
  },
  {
   "cell_type": "markdown",
   "id": "b20f302d",
   "metadata": {},
   "source": [
    "<a name='0'></a>\n",
    "## 0. Packages and Resources"
   ]
  },
  {
   "cell_type": "code",
   "execution_count": 1,
   "id": "80e29e76",
   "metadata": {},
   "outputs": [],
   "source": [
    "# Packages\n",
    "import numpy as np\n",
    "import random\n",
    "import matplotlib.pyplot as plt\n",
    "\n",
    "# Self-defined functions\n",
    "import sys\n",
    "import os\n",
    "sys.path.append(os.path.abspath(os.path.join('..')))\n",
    "from util import util\n",
    "\n",
    "# Visualization\n",
    "import pyvista as pv\n",
    "from pyvista import examples"
   ]
  },
  {
   "cell_type": "markdown",
   "id": "1bc7cb87",
   "metadata": {},
   "source": [
    "## 1. Dijkstra Algorithm\n",
    "\n",
    "### 1.1 The code"
   ]
  },
  {
   "cell_type": "code",
   "execution_count": 4,
   "id": "7452d5c5",
   "metadata": {},
   "outputs": [],
   "source": [
    "import numpy as np\n",
    "import heapq\n",
    "\n",
    "class Dijkstra:\n",
    "    def __init__(self, graph):\n",
    "        self.graph = np.array(graph)\n",
    "        self.num_nodes = len(graph)\n",
    "\n",
    "    def shortest_path(self, start_node, end_node):\n",
    "        queue = []\n",
    "        distances = [np.inf] * self.num_nodes\n",
    "        distances[start_node] = 0\n",
    "        heapq.heappush(queue, (0, start_node))\n",
    "\n",
    "        while queue:\n",
    "            _, current_node = heapq.heappop(queue)\n",
    "\n",
    "            for neighbour, distance in enumerate(self.graph[current_node]):\n",
    "                if distance > 0:\n",
    "                    alternative_path_dist = distances[current_node] + distance\n",
    "                    if alternative_path_dist < distances[neighbour]:\n",
    "                        distances[neighbour] = alternative_path_dist\n",
    "                        heapq.heappush(queue, (distances[neighbour], neighbour))\n",
    "\n",
    "        return distances[end_node]\n"
   ]
  },
  {
   "cell_type": "code",
   "execution_count": 5,
   "id": "fcd22bde",
   "metadata": {},
   "outputs": [
    {
     "name": "stdout",
     "output_type": "stream",
     "text": [
      "11\n"
     ]
    }
   ],
   "source": [
    "graph = [[0, 7, 9, 0, 0, 14], [7, 0, 10, 15, 0, 0], [9, 10, 0, 11, 0, 2], [0, 15, 11, 0, 6, 0], [0, 0, 0, 6, 0, 9], [14, 0, 2, 0, 9, 0]]\n",
    "\n",
    "dijkstra = Dijkstra(graph)\n",
    "\n",
    "print(dijkstra.shortest_path(2, 4))  # 输出最短路径长度\n"
   ]
  },
  {
   "cell_type": "code",
   "execution_count": 6,
   "id": "cca988a2",
   "metadata": {},
   "outputs": [
    {
     "ename": "NameError",
     "evalue": "name 'mesh' is not defined",
     "output_type": "error",
     "traceback": [
      "\u001b[1;31m---------------------------------------------------------------------------\u001b[0m",
      "\u001b[1;31mNameError\u001b[0m                                 Traceback (most recent call last)",
      "Cell \u001b[1;32mIn[6], line 1\u001b[0m\n\u001b[1;32m----> 1\u001b[0m \u001b[43mmesh\u001b[49m\u001b[38;5;241m.\u001b[39mpoints\n",
      "\u001b[1;31mNameError\u001b[0m: name 'mesh' is not defined"
     ]
    }
   ],
   "source": [
    "mesh.points"
   ]
  },
  {
   "cell_type": "code",
   "execution_count": 16,
   "id": "51fb17da",
   "metadata": {},
   "outputs": [
    {
     "data": {
      "text/html": [
       "<table><tr><th>Header</th><th>Data Arrays</th></tr><tr><td>\n",
       "<table>\n",
       "<tr><th>PolyData</th><th>Information</th></tr>\n",
       "<tr><td>N Cells</td><td>1000</td></tr>\n",
       "<tr><td>N Points</td><td>872</td></tr>\n",
       "<tr><td>N Strips</td><td>0</td></tr>\n",
       "<tr><td>X Bounds</td><td>-1.316e-01, 1.802e-01</td></tr>\n",
       "<tr><td>Y Bounds</td><td>-1.205e-01, 1.877e-01</td></tr>\n",
       "<tr><td>Z Bounds</td><td>-1.430e-01, 9.851e-02</td></tr>\n",
       "<tr><td>N Arrays</td><td>1</td></tr>\n",
       "</table>\n",
       "\n",
       "</td><td>\n",
       "<table>\n",
       "<tr><th>Name</th><th>Field</th><th>Type</th><th>N Comp</th><th>Min</th><th>Max</th></tr>\n",
       "<tr><td>Normals</td><td>Points</td><td>float32</td><td>3</td><td>-9.998e-01</td><td>9.977e-01</td></tr>\n",
       "</table>\n",
       "\n",
       "</td></tr> </table>"
      ],
      "text/plain": [
       "PolyData (0x262635b00a0)\n",
       "  N Cells:    1000\n",
       "  N Points:   872\n",
       "  N Strips:   0\n",
       "  X Bounds:   -1.316e-01, 1.802e-01\n",
       "  Y Bounds:   -1.205e-01, 1.877e-01\n",
       "  Z Bounds:   -1.430e-01, 9.851e-02\n",
       "  N Arrays:   1"
      ]
     },
     "execution_count": 16,
     "metadata": {},
     "output_type": "execute_result"
    }
   ],
   "source": [
    "mesh"
   ]
  },
  {
   "cell_type": "code",
   "execution_count": 15,
   "id": "41c7c30c",
   "metadata": {},
   "outputs": [
    {
     "data": {
      "application/vnd.jupyter.widget-view+json": {
       "model_id": "24e0f91779f6485393fa84189abd9d4f",
       "version_major": 2,
       "version_minor": 0
      },
      "text/plain": [
       "Widget(value=\"<iframe src='http://localhost:53804/index.html?ui=P_0x26241a01d90_1&reconnect=auto' style='width…"
      ]
     },
     "metadata": {},
     "output_type": "display_data"
    }
   ],
   "source": [
    "mesh = examples.download_bunny_coarse()\n",
    "\n",
    "pl = pv.Plotter()\n",
    "pl.add_mesh(mesh, show_edges=True, color=\"white\")\n",
    "pl.add_points(mesh.points, color=\"red\", point_size=10)\n",
    "pl.add_mesh(single_cell, color=\"pink\", edge_color=\"blue\", line_width=5, show_edges=True)\n",
    "pl.camera_position = [(0.02, 0.30, 0.73), (0.02, 0.03, -0.022), (-0.03, 0.94, -0.34)]\n",
    "pl.show()"
   ]
  },
  {
   "cell_type": "code",
   "execution_count": 9,
   "id": "ea56ef3e",
   "metadata": {},
   "outputs": [
    {
     "ename": "AttributeError",
     "evalue": "'PolyData' object has no attribute 'cells'",
     "output_type": "error",
     "traceback": [
      "\u001b[1;31m---------------------------------------------------------------------------\u001b[0m",
      "\u001b[1;31mAttributeError\u001b[0m                            Traceback (most recent call last)",
      "Cell \u001b[1;32mIn[9], line 42\u001b[0m\n\u001b[0;32m     40\u001b[0m \u001b[38;5;66;03m# 使用方式：\u001b[39;00m\n\u001b[0;32m     41\u001b[0m mesh \u001b[38;5;241m=\u001b[39m examples\u001b[38;5;241m.\u001b[39mdownload_bunny_coarse()\n\u001b[1;32m---> 42\u001b[0m graph \u001b[38;5;241m=\u001b[39m \u001b[43mcalculate_weights\u001b[49m\u001b[43m(\u001b[49m\u001b[43mmesh\u001b[49m\u001b[43m)\u001b[49m\n\u001b[0;32m     44\u001b[0m dijkstra \u001b[38;5;241m=\u001b[39m Dijkstra(graph)\n\u001b[0;32m     45\u001b[0m \u001b[38;5;28mprint\u001b[39m(dijkstra\u001b[38;5;241m.\u001b[39mshortest_path(\u001b[38;5;241m0\u001b[39m, \u001b[38;5;241m4\u001b[39m))  \u001b[38;5;66;03m# 输出从顶点0到顶点4的最短路径长度\u001b[39;00m\n",
      "Cell \u001b[1;32mIn[9], line 30\u001b[0m, in \u001b[0;36mcalculate_weights\u001b[1;34m(mesh)\u001b[0m\n\u001b[0;32m     28\u001b[0m \u001b[38;5;28;01mdef\u001b[39;00m \u001b[38;5;21mcalculate_weights\u001b[39m(mesh):\n\u001b[0;32m     29\u001b[0m     points \u001b[38;5;241m=\u001b[39m mesh\u001b[38;5;241m.\u001b[39mpoints\n\u001b[1;32m---> 30\u001b[0m     triangles \u001b[38;5;241m=\u001b[39m \u001b[43mmesh\u001b[49m\u001b[38;5;241;43m.\u001b[39;49m\u001b[43mcells\u001b[49m\u001b[38;5;241m.\u001b[39mreshape(\u001b[38;5;241m-\u001b[39m\u001b[38;5;241m1\u001b[39m, \u001b[38;5;241m4\u001b[39m)[:, \u001b[38;5;241m1\u001b[39m:]\n\u001b[0;32m     31\u001b[0m     edges \u001b[38;5;241m=\u001b[39m np\u001b[38;5;241m.\u001b[39mvstack({\u001b[38;5;28mtuple\u001b[39m(\u001b[38;5;28msorted\u001b[39m(edge)) \u001b[38;5;28;01mfor\u001b[39;00m triangle \u001b[38;5;129;01min\u001b[39;00m triangles \u001b[38;5;28;01mfor\u001b[39;00m edge \u001b[38;5;129;01min\u001b[39;00m scipy\u001b[38;5;241m.\u001b[39mspatial\u001b[38;5;241m.\u001b[39mdistance\u001b[38;5;241m.\u001b[39mpdist(triangle, \u001b[38;5;124m'\u001b[39m\u001b[38;5;124meuclidean\u001b[39m\u001b[38;5;124m'\u001b[39m)})\n\u001b[0;32m     33\u001b[0m     graph \u001b[38;5;241m=\u001b[39m np\u001b[38;5;241m.\u001b[39mzeros((\u001b[38;5;28mlen\u001b[39m(points), \u001b[38;5;28mlen\u001b[39m(points)))\n",
      "File \u001b[1;32mC:\\Env\\Python\\Python311\\Lib\\site-packages\\pyvista\\core\\dataset.py:132\u001b[0m, in \u001b[0;36mDataSet.__getattr__\u001b[1;34m(self, item)\u001b[0m\n\u001b[0;32m    130\u001b[0m \u001b[38;5;28;01mdef\u001b[39;00m \u001b[38;5;21m__getattr__\u001b[39m(\u001b[38;5;28mself\u001b[39m, item) \u001b[38;5;241m-\u001b[39m\u001b[38;5;241m>\u001b[39m Any:\n\u001b[0;32m    131\u001b[0m     \u001b[38;5;124;03m\"\"\"Get attribute from base class if not found.\"\"\"\u001b[39;00m\n\u001b[1;32m--> 132\u001b[0m     \u001b[38;5;28;01mreturn\u001b[39;00m \u001b[38;5;28;43msuper\u001b[39;49m\u001b[43m(\u001b[49m\u001b[43m)\u001b[49m\u001b[38;5;241;43m.\u001b[39;49m\u001b[38;5;21;43m__getattribute__\u001b[39;49m\u001b[43m(\u001b[49m\u001b[43mitem\u001b[49m\u001b[43m)\u001b[49m\n",
      "\u001b[1;31mAttributeError\u001b[0m: 'PolyData' object has no attribute 'cells'"
     ]
    }
   ],
   "source": [
    "import pyvista as pv\n",
    "import numpy as np\n",
    "import scipy.spatial.distance\n",
    "\n",
    "class Dijkstra:\n",
    "    def __init__(self, graph):\n",
    "        self.graph = np.array(graph)\n",
    "        self.num_nodes = len(graph)\n",
    "\n",
    "    def shortest_path(self, start_node, end_node):\n",
    "        queue = []\n",
    "        distances = [np.inf] * self.num_nodes\n",
    "        distances[start_node] = 0\n",
    "        heapq.heappush(queue, (0, start_node))\n",
    "\n",
    "        while queue:\n",
    "            _, current_node = heapq.heappop(queue)\n",
    "\n",
    "            for neighbour, distance in enumerate(self.graph[current_node]):\n",
    "                if distance > 0:\n",
    "                    alternative_path_dist = distances[current_node] + distance\n",
    "                    if alternative_path_dist < distances[neighbour]:\n",
    "                        distances[neighbour] = alternative_path_dist\n",
    "                        heapq.heappush(queue, (distances[neighbour], neighbour))\n",
    "\n",
    "        return distances[end_node]\n",
    "\n",
    "def calculate_weights(mesh):\n",
    "    points = mesh.points\n",
    "    triangles = mesh.cells.reshape(-1, 4)[:, 1:]\n",
    "    edges = np.vstack({tuple(sorted(edge)) for triangle in triangles for edge in scipy.spatial.distance.pdist(triangle, 'euclidean')})\n",
    "    \n",
    "    graph = np.zeros((len(points), len(points)))\n",
    "    for edge in edges:\n",
    "        graph[edge[0], edge[1]] = np.linalg.norm(points[edge[0]] - points[edge[1]])\n",
    "        graph[edge[1], edge[0]] = graph[edge[0], edge[1]]  # Make the graph undirected\n",
    "    \n",
    "    return graph\n",
    "\n",
    "# 使用方式：\n",
    "mesh = examples.download_bunny_coarse()\n",
    "graph = calculate_weights(mesh)\n",
    "\n",
    "dijkstra = Dijkstra(graph)\n",
    "print(dijkstra.shortest_path(0, 4))  # 输出从顶点0到顶点4的最短路径长度"
   ]
  },
  {
   "cell_type": "code",
   "execution_count": 53,
   "id": "e203bae9",
   "metadata": {},
   "outputs": [
    {
     "data": {
      "text/plain": [
       "pyvista DataSetAttributes\n",
       "Association     : CELL\n",
       "Active Scalars  : Area\n",
       "Active Vectors  : None\n",
       "Active Texture  : None\n",
       "Active Normals  : None\n",
       "Contains arrays :\n",
       "    Area                    float64    (2452,)              SCALARS"
      ]
     },
     "execution_count": 53,
     "metadata": {},
     "output_type": "execute_result"
    }
   ],
   "source": [
    "surf.cell_data"
   ]
  },
  {
   "cell_type": "code",
   "execution_count": 19,
   "id": "03d007d4",
   "metadata": {},
   "outputs": [
    {
     "data": {
      "application/vnd.jupyter.widget-view+json": {
       "model_id": "e4df340dc318416eb311339841af243b",
       "version_major": 2,
       "version_minor": 0
      },
      "text/plain": [
       "Widget(value=\"<iframe src='http://localhost:53804/index.html?ui=P_0x26263b419d0_2&reconnect=auto' style='width…"
      ]
     },
     "metadata": {},
     "output_type": "display_data"
    }
   ],
   "source": [
    "surf = examples.load_airplane()\n",
    "surf = surf.compute_cell_sizes(length=False, volume=False)\n",
    "surf.plot(show_edges=True, scalars='Area')"
   ]
  },
  {
   "cell_type": "code",
   "execution_count": 18,
   "id": "58314d15",
   "metadata": {},
   "outputs": [
    {
     "name": "stdout",
     "output_type": "stream",
     "text": [
      "PolyData (0x2626b9b5600)\n",
      "  N Cells:    4\n",
      "  N Points:   4\n",
      "  N Strips:   0\n",
      "  X Bounds:   0.000e+00, 1.000e+00\n",
      "  Y Bounds:   0.000e+00, 8.660e-01\n",
      "  Z Bounds:   0.000e+00, 9.570e-01\n",
      "  N Arrays:   1\n"
     ]
    }
   ],
   "source": [
    "points = np.array([[0, 0, 0],\n",
    "                   [1, 0, 0],\n",
    "                   [0.5, 0.866, 0],\n",
    "                   [0.5, 0.289, 0.957]])\n",
    "triangles = np.array([[3, 0, 1, 2],\n",
    "                      [3, 0, 3, 1],\n",
    "                      [3, 1, 3, 2],\n",
    "                      [3, 2, 3, 0]])\n",
    "mesh3 = pv.PolyData(points, triangles)\n",
    "\n",
    "# 计算每个单元的面积，并将结果保存到Cell Data中\n",
    "test=mesh3.compute_cell_sizes(length=False, area=True, volume=False)\n",
    "\n",
    "# 打印结果\n",
    "print(test)\n"
   ]
  },
  {
   "cell_type": "code",
   "execution_count": 10,
   "id": "e34e3826",
   "metadata": {},
   "outputs": [],
   "source": [
    "single_cell = mesh.extract_cells(mesh.n_cells - 1)"
   ]
  },
  {
   "cell_type": "code",
   "execution_count": 11,
   "id": "2d4c299b",
   "metadata": {},
   "outputs": [],
   "source": [
    "[A,B,C]=single_cell.points"
   ]
  },
  {
   "cell_type": "code",
   "execution_count": 27,
   "id": "5a6e3232",
   "metadata": {
    "scrolled": false
   },
   "outputs": [
    {
     "data": {
      "application/vnd.jupyter.widget-view+json": {
       "model_id": "c7fe348cbca74d32b1959f64bd6d7b29",
       "version_major": 2,
       "version_minor": 0
      },
      "text/plain": [
       "Widget(value=\"<iframe src='http://localhost:53804/index.html?ui=P_0x2626b9d3810_4&reconnect=auto' style='width…"
      ]
     },
     "metadata": {},
     "output_type": "display_data"
    }
   ],
   "source": [
    "mesh.cell_data[\"Area\"]\n",
    "mesh.plot(show_edges=True, scalars='Area')"
   ]
  },
  {
   "cell_type": "code",
   "execution_count": 49,
   "id": "f0bac811",
   "metadata": {
    "scrolled": false
   },
   "outputs": [
    {
     "data": {
      "application/vnd.jupyter.widget-view+json": {
       "model_id": "50531cbd038b48119e42c1ea02b51799",
       "version_major": 2,
       "version_minor": 0
      },
      "text/plain": [
       "Widget(value=\"<iframe src='http://localhost:53804/index.html?ui=P_0x2626b97b3d0_6&reconnect=auto' style='width…"
      ]
     },
     "metadata": {},
     "output_type": "display_data"
    }
   ],
   "source": [
    "grid = examples.load_explicit_structured()\n",
    "cell = grid.extract_cells(0)\n",
    "ind = grid.neighbors(0)\n",
    "neighbors = grid.extract_cells(ind)\n",
    "plotter = pv.Plotter()\n",
    "_ = plotter.add_axes()\n",
    "_ = plotter.add_mesh(cell, color='r', show_edges=True)\n",
    "_ = plotter.add_mesh(neighbors, color='w', show_edges=True)\n",
    "plotter.show()"
   ]
  },
  {
   "cell_type": "code",
   "execution_count": 48,
   "id": "e7f7c250",
   "metadata": {},
   "outputs": [
    {
     "data": {
      "text/html": [
       "<table><tr><th>Header</th><th>Data Arrays</th></tr><tr><td>\n",
       "<table>\n",
       "<tr><th>ExplicitStructuredGrid</th><th>Information</th></tr>\n",
       "<tr><td>N Cells</td><td>120</td></tr>\n",
       "<tr><td>N Points</td><td>210</td></tr>\n",
       "<tr><td>X Bounds</td><td>0.000e+00, 8.000e+01</td></tr>\n",
       "<tr><td>Y Bounds</td><td>0.000e+00, 5.000e+01</td></tr>\n",
       "<tr><td>Z Bounds</td><td>0.000e+00, 6.000e+00</td></tr>\n",
       "<tr><td>N Arrays</td><td>2</td></tr>\n",
       "</table>\n",
       "\n",
       "</td><td>\n",
       "<table>\n",
       "<tr><th>Name</th><th>Field</th><th>Type</th><th>N Comp</th><th>Min</th><th>Max</th></tr>\n",
       "<tr><td>vtkOriginalPointIds</td><td>Points</td><td>int64</td><td>1</td><td>0.000e+00</td><td>2.090e+02</td></tr>\n",
       "<tr><td>vtkOriginalCellIds</td><td>Cells</td><td>int64</td><td>1</td><td>0.000e+00</td><td>1.190e+02</td></tr>\n",
       "</table>\n",
       "\n",
       "</td></tr> </table>"
      ],
      "text/plain": [
       "ExplicitStructuredGrid (0x2627b4b3d00)\n",
       "  N Cells:    120\n",
       "  N Points:   210\n",
       "  X Bounds:   0.000e+00, 8.000e+01\n",
       "  Y Bounds:   0.000e+00, 5.000e+01\n",
       "  Z Bounds:   0.000e+00, 6.000e+00\n",
       "  N Arrays:   2"
      ]
     },
     "execution_count": 48,
     "metadata": {},
     "output_type": "execute_result"
    }
   ],
   "source": [
    "grid"
   ]
  },
  {
   "cell_type": "code",
   "execution_count": 41,
   "id": "4c7bb7bf",
   "metadata": {},
   "outputs": [],
   "source": [
    "mesh.cell_data[\"Area\"]\n",
    "surface_area=np.sum(mesh.cell_data[\"Area\"])\n",
    "surface_area\n",
    "mesh.field_data['Surface Area']=[surface_area]"
   ]
  },
  {
   "cell_type": "code",
   "execution_count": 42,
   "id": "26a52b18",
   "metadata": {},
   "outputs": [
    {
     "data": {
      "text/plain": [
       "pyvista_ndarray([0.23054021])"
      ]
     },
     "execution_count": 42,
     "metadata": {},
     "output_type": "execute_result"
    }
   ],
   "source": [
    "mesh.field_data['Surface Area']"
   ]
  },
  {
   "cell_type": "code",
   "execution_count": 33,
   "id": "609cd701",
   "metadata": {},
   "outputs": [],
   "source": [
    "aaa = mesh.extract_cells(0)"
   ]
  },
  {
   "cell_type": "code",
   "execution_count": 34,
   "id": "da2534f1",
   "metadata": {},
   "outputs": [
    {
     "data": {
      "text/plain": [
       "pyvista_ndarray([7.21701753e-05])"
      ]
     },
     "execution_count": 34,
     "metadata": {},
     "output_type": "execute_result"
    }
   ],
   "source": [
    "aaa[\"Area\"]"
   ]
  },
  {
   "cell_type": "code",
   "execution_count": 35,
   "id": "57e50aef",
   "metadata": {},
   "outputs": [
    {
     "data": {
      "text/plain": [
       "pyvista_ndarray([[-0.06383064,  0.15158026, -0.1430092 ],\n",
       "                 [-0.07451364,  0.16618927, -0.1410072 ],\n",
       "                 [-0.07038064,  0.17293127, -0.13760421]])"
      ]
     },
     "execution_count": 35,
     "metadata": {},
     "output_type": "execute_result"
    }
   ],
   "source": [
    "aaa.points"
   ]
  },
  {
   "cell_type": "code",
   "execution_count": 37,
   "id": "f9866e00",
   "metadata": {},
   "outputs": [
    {
     "data": {
      "text/plain": [
       "7.21701753196435e-05"
      ]
     },
     "execution_count": 37,
     "metadata": {},
     "output_type": "execute_result"
    }
   ],
   "source": [
    "util.triangle_area(aaa.points[0],aaa.points[1],aaa.points[2])"
   ]
  },
  {
   "cell_type": "code",
   "execution_count": 12,
   "id": "ee13481b",
   "metadata": {},
   "outputs": [
    {
     "data": {
      "text/plain": [
       "array([1.72951313e-05, 1.94392916e-05, 1.67105295e-04])"
      ]
     },
     "execution_count": 12,
     "metadata": {},
     "output_type": "execute_result"
    }
   ],
   "source": [
    "0.5 * np.abs(np.cross(A-B, A-C))"
   ]
  },
  {
   "cell_type": "code",
   "execution_count": 29,
   "id": "52b68cb2",
   "metadata": {},
   "outputs": [
    {
     "data": {
      "text/plain": [
       "0.00016911885500593511"
      ]
     },
     "execution_count": 29,
     "metadata": {},
     "output_type": "execute_result"
    }
   ],
   "source": [
    "util.triangle_area(A,B,C)"
   ]
  },
  {
   "cell_type": "code",
   "execution_count": 14,
   "id": "0935ca69",
   "metadata": {},
   "outputs": [
    {
     "data": {
      "text/plain": [
       "pyvista_ndarray([ 0.05028579, -0.03865774,  0.09850579])"
      ]
     },
     "execution_count": 14,
     "metadata": {},
     "output_type": "execute_result"
    }
   ],
   "source": [
    "A"
   ]
  },
  {
   "cell_type": "code",
   "execution_count": 38,
   "id": "8cfd6e4e",
   "metadata": {},
   "outputs": [],
   "source": [
    "def fit_plane(points):\n",
    "    mat_points = np.column_stack((points, np.ones(points.shape[0])))\n",
    "    params = np.linalg.lstsq(mat_points[:, :3], mat_points[:, 3], rcond=None)[0]\n",
    "    return params\n"
   ]
  },
  {
   "cell_type": "code",
   "execution_count": 39,
   "id": "bd288da9",
   "metadata": {},
   "outputs": [
    {
     "name": "stdout",
     "output_type": "stream",
     "text": [
      "The parameters of the fitted plane are:  [0.02941176 0.20588235 0.20588235]\n"
     ]
    }
   ],
   "source": [
    "# 生成一组数据点\n",
    "points = np.array([[1, 1, 2],\n",
    "                   [3, 2, 1],\n",
    "                   [4, 3, 3],\n",
    "                   [2, 2, 2],\n",
    "                   [1, 2, 3]])\n",
    "\n",
    "# 调用函数，拟合平面\n",
    "params = fit_plane(points)\n",
    "\n",
    "print(\"The parameters of the fitted plane are: \", params)\n"
   ]
  },
  {
   "cell_type": "code",
   "execution_count": 40,
   "id": "d9c79445",
   "metadata": {},
   "outputs": [],
   "source": [
    "def plane_point_normal(points):\n",
    "    params = fit_plane(points)\n",
    "    z = 1\n",
    "    x = (1 - params[1]*points[0, 1] - params[2])/params[0]\n",
    "    y = (1 - params[0]*points[0, 0] - params[2])/params[1]\n",
    "    point_on_plane = np.array([x, y, z])\n",
    "    normal_vector = params\n",
    "\n",
    "    return point_on_plane, normal_vector\n"
   ]
  },
  {
   "cell_type": "code",
   "execution_count": 41,
   "id": "6c7a04eb",
   "metadata": {},
   "outputs": [
    {
     "name": "stdout",
     "output_type": "stream",
     "text": [
      "A point on the fitted plane is:  [20.          3.71428571  1.        ]\n",
      "The normal vector of the fitted plane is:  [0.02941176 0.20588235 0.20588235]\n"
     ]
    }
   ],
   "source": [
    "# 生成一组数据点\n",
    "points = np.array([[1, 1, 2],\n",
    "                   [3, 2, 1],\n",
    "                   [4, 3, 3],\n",
    "                   [2, 2, 2],\n",
    "                   [1, 2, 3]])\n",
    "\n",
    "# 调用函数，得到平面上的一个点和法向量\n",
    "point_on_plane, normal_vector = plane_point_normal(points)\n",
    "\n",
    "print(\"A point on the fitted plane is: \", point_on_plane)\n",
    "print(\"The normal vector of the fitted plane is: \", normal_vector)\n"
   ]
  },
  {
   "cell_type": "code",
   "execution_count": 38,
   "id": "4d1360a6",
   "metadata": {},
   "outputs": [
    {
     "ename": "NameError",
     "evalue": "name 'point_on_plane' is not defined",
     "output_type": "error",
     "traceback": [
      "\u001b[1;31m---------------------------------------------------------------------------\u001b[0m",
      "\u001b[1;31mNameError\u001b[0m                                 Traceback (most recent call last)",
      "Cell \u001b[1;32mIn[38], line 1\u001b[0m\n\u001b[1;32m----> 1\u001b[0m mesh2 \u001b[38;5;241m=\u001b[39m pv\u001b[38;5;241m.\u001b[39mPlane(\u001b[43mpoint_on_plane\u001b[49m, normal_vector, i_resolution\u001b[38;5;241m=\u001b[39m\u001b[38;5;241m1\u001b[39m, j_resolution\u001b[38;5;241m=\u001b[39m\u001b[38;5;241m1\u001b[39m)\n\u001b[0;32m      2\u001b[0m mesh2\u001b[38;5;241m.\u001b[39mpoint_data\u001b[38;5;241m.\u001b[39mclear()\n\u001b[0;32m      3\u001b[0m mesh2\u001b[38;5;241m.\u001b[39mplot(show_edges\u001b[38;5;241m=\u001b[39m\u001b[38;5;28;01mTrue\u001b[39;00m)\n",
      "\u001b[1;31mNameError\u001b[0m: name 'point_on_plane' is not defined"
     ]
    }
   ],
   "source": [
    "mesh2 = pv.Plane(point_on_plane, normal_vector, i_resolution=1, j_resolution=1)\n",
    "mesh2.point_data.clear()\n",
    "mesh2.plot(show_edges=True)"
   ]
  },
  {
   "cell_type": "code",
   "execution_count": null,
   "id": "d71103ff",
   "metadata": {},
   "outputs": [],
   "source": [
    "class Mesh_BFS_Area:\n",
    "    def __init__():\n"
   ]
  },
  {
   "cell_type": "markdown",
   "id": "fd197d45",
   "metadata": {},
   "source": [
    "<a name='3'></a>\n",
    "## 5. Reference\n",
    "\n",
    "<a name='ref-1'></a>\n",
    "1. [Craizer, Marcos. \"Envelopes of Bisection Lines of Polygons.\" arXiv preprint arXiv:2203.10559 (2022).](https://arxiv.org/abs/2203.10559)\n",
    "<a name='ref-2'></a>\n",
    "1. [Burdette, A. C. (Albert Clark). Analytic Geometry [by] A.C. Burdette. New York: Academic Press, 1971. Print.](https://www-sciencedirect-com.ezproxy.is.ed.ac.uk/book/9780121422561/analytic-geometry)"
   ]
  }
 ],
 "metadata": {
  "kernelspec": {
   "display_name": "Python 3 (ipykernel)",
   "language": "python",
   "name": "python3"
  },
  "language_info": {
   "codemirror_mode": {
    "name": "ipython",
    "version": 3
   },
   "file_extension": ".py",
   "mimetype": "text/x-python",
   "name": "python",
   "nbconvert_exporter": "python",
   "pygments_lexer": "ipython3",
   "version": "3.11.0"
  }
 },
 "nbformat": 4,
 "nbformat_minor": 5
}
