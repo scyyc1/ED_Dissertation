{
 "cells": [
  {
   "cell_type": "markdown",
   "id": "4c63a2bb",
   "metadata": {},
   "source": [
    "# Week 2: Linearly Seperate the Area of a Triangle\n",
    "**Target**: Find a line that bisector the area of a triangle, passing through a fixed point"
   ]
  },
  {
   "cell_type": "markdown",
   "id": "78e21185",
   "metadata": {},
   "source": [
    "## Table of Contents\n",
    "- [0 - Packages and Tools](#0)\n",
    "- [1 - Triangle Area Bisection Line Passing throught a Fixed Point](#1)\n",
    "    - [1.1 - Problem Representation](#1-1)\n",
    "    - [1.2 - Method](#1-2)\n",
    "    - [1.3 - Result](#1-3)\n",
    "    - [1.4 - Vertices Classification](#1-3)\n",
    "    - [1.5 - \\*Interactive Plot](#1-5)\n",
    "- [2 - Reference](#2)"
   ]
  },
  {
   "cell_type": "markdown",
   "id": "cb833d0b",
   "metadata": {},
   "source": [
    "<a name='0'></a>\n",
    "## 0. Package and Tools"
   ]
  },
  {
   "cell_type": "code",
   "execution_count": 3,
   "id": "1c0b59ef",
   "metadata": {},
   "outputs": [],
   "source": [
    "# Packages\n",
    "import numpy as np\n",
    "import random\n",
    "import matplotlib.pyplot as plt\n",
    "\n",
    "# Self-defined functions\n",
    "import sys\n",
    "import os\n",
    "sys.path.append(os.path.abspath(os.path.join('..')))\n",
    "from util import util"
   ]
  },
  {
   "cell_type": "markdown",
   "id": "fbe59ec8",
   "metadata": {},
   "source": [
    "<a name='1'></a>\n",
    "## 1. Triangle Area Bisection Line Passing throught a Fixed Point\n",
    "\n",
    "<a name='1-1'></a>\n",
    "### 1.1 Problem Representation \n",
    "\n",
    "Following the last week's work, here I use a point on edge on the target triangle and a random point to define the area bisection line (b-line for short).\n",
    "\n",
    "#### 1.1.1 Conditions\n",
    "The coordinates of the three vertices of a triangle are A$(x_1,x_2)$, B$(x_2,y_2)$, and C$(x_3,y_3)$. Assume that P is a point on the edge AB. R$(x_4,x_4)$ is a random point that does not collapse with P. Line $PR$ will bisetor the area of $\\triangle_{ABC}$."
   ]
  },
  {
   "cell_type": "code",
   "execution_count": 7,
   "id": "fdb84cd7",
   "metadata": {},
   "outputs": [
    {
     "data": {
      "image/png": "[encoded data removed]",
      "text/plain": [
       "<Figure size 640x480 with 1 Axes>"
      ]
     },
     "metadata": {},
     "output_type": "display_data"
    }
   ],
   "source": [
    "# Example\n",
    "A = np.array([1,1])\n",
    "B = np.array([2,2])\n",
    "C = np.array([2,-2])\n",
    "R = np.array([1,0])\n",
    "p0 = np.array([0,0])\n",
    "\n",
    "# A = np.array([4,2])\n",
    "# B = np.array([1,9])\n",
    "# C = np.array([10,1])\n",
    "    \n",
    "util.v_triangle_2D(A,B,C)\n",
    "plt.plot(A[0], A[1], 'o', color='r')\n",
    "plt.plot(B[0], B[1], 'o', color='r')\n",
    "plt.plot(C[0], C[1], 'o', color='r')\n",
    "plt.plot(R[0], R[1], 'o', color='r')\n",
    "G = util.v_triangle_barycentre(A,B,C)"
   ]
  },
  {
   "cell_type": "markdown",
   "id": "1a50753a",
   "metadata": {},
   "source": [
    "<a name='1-2'></a>\n",
    "### 1.2 Method\n",
    "\n",
    "I first focus on the situation of vertex $A$.\n",
    "\n",
    "Suppose that $P$ is on edge $AB$ and b-line $PR$ intersect $\\triangle_{ABC}$ with Q on edge $AC$. Following the parameterization method last week, the coordinate of $PQ$ could be represented as\n",
    "\n",
    "$$P = (1 - t_1)A + tB = \\left((1 - t_1)x_1 + tx_2, (1 - t_1)y_1 + ty_2\\right)$$ \n",
    "$$Q = (1 - t_2)A + tC = \\left((1 - t_2)x_1 + tx_3, (1 - t_2)y_1 + ty_3\\right)$$\n",
    "\n",
    "Where\n",
    "\n",
    "$$t_1, t_2 \\in [0, 1]$$ \n",
    "\n",
    "and\n",
    "\n",
    "$$ t_1t_2 = \\frac{1}{2}$$\n",
    "\n",
    "so\n",
    "\n",
    "$$ \\frac{1}{2t_1} = t_2 \\in [0,1] $$\n",
    "\n",
    "gives\n",
    "\n",
    "$$t_1, t_2 \\in [\\frac{1}{2}, 1]$$"
   ]
  },
  {
   "cell_type": "markdown",
   "id": "e8fa86c2",
   "metadata": {},
   "source": [
    "As points $PQR$ are collinear\n",
    "\n",
    "$$ m_{PQ} = m_{PR} $$\n",
    "\n",
    "gives\n",
    "\n",
    "$$\\frac{y_Q - y_P}{x_Q - x_P}=\\frac{y_R - y_P}{x_R - x_P}$$\n",
    "\n",
    "$$\n",
    "\\frac{((1-t_2)y_1 + t_2y_3) - ((1-t_1)y_1 + t_1y_2)}{((1-t_2)x_1 + t_2x_3) - ((1-t_1)x_1 + t_1x_2)} \n",
    "= \n",
    "\\frac{y_4 - ((1-t_1)y_1 + t_1y_2)}{x_4- ((1-t_1)x_1 + t_1x_2)}\n",
    "$$\n",
    "\n",
    "Substitue $t_1$ with $t$ and $t_2 = \\frac{1}{2t_1}$:\n",
    "\n",
    "$$\n",
    "\\frac{(y_1-y_2)t^2 + \\frac{1}{2}(y_3-y_1)}{(x_1-x_2)t^2 + \\frac{1}{2}(x_3-x_1)} \n",
    "= \n",
    "\\frac{(y_1-y_2)t + (y_4-y_1)}{(x_1-x_2)t + (x_4-x_1)} \n",
    "$$\n",
    "\n",
    "Expend:\n",
    "\n",
    "$$\n",
    "LHS = (x_1-x_2)(y_1-y_2)t^3 + (x_1-x_2)(y_4-y_1)t^2 + \\frac{1}{2}(x_3-x_1)(y_1-y_2)t + \\frac{1}{2}(x_1+x_3)(y_4-y_1)\n",
    "$$\n",
    "\n",
    "$$\n",
    "RHS = (x_1-x_2)(y_1-y_2)t^3 + (x_4-x_1)(y_1-y_2)t^2 + \\frac{1}{2}(x_1-x_2)(y_3-y_1)t + \\frac{1}{2}(x_4+x_1)(y_1-y_3)\n",
    "$$\n",
    "\n",
    "Merge homogeneous terms:\n",
    "\n",
    "$$\n",
    "LHS = (x_1y_4+x_2y_1-x_2y_4)t^2 + \\frac{1}{2}(-x_1y_2+x_3y_1-x_3y_2)t + \\frac{1}{2}(x_1y_4-x_3y_1+x_3y_4)\n",
    "$$\n",
    "\n",
    "$$\n",
    "RHS = (x_1y_2+x_4y_1-x_4y_2)t^2 + \\frac{1}{2}(x_1y_3-x_2y_1-x_2y_3) + \\frac{1}{2}(-x_1y_3+x_4y_1+x_4y_3)\n",
    "$$\n",
    "\n",
    "$$\n",
    "LHS - RHS = 0\n",
    "$$\n",
    "\n",
    "Finally\n",
    "\n",
    "$$\n",
    "(x_1y_4-x_2y_4+x_2y_1-x_4y_1+x_4y_2-x_1y_2)t^2+\\frac{1}{2}(x_1y_2+x_3y_1-x_3y_2-x_1y_3+x_2y_3-x_2y_1)t+\\frac{1}{2}(x_3y_4-x_3y_1-x_1y_4-x_4y_3+x_4y_1+x_1y_3)=0\n",
    "$$\n",
    "\n",
    "This is a quadratic function about t."
   ]
  },
  {
   "cell_type": "code",
   "execution_count": null,
   "id": "2d943cf3",
   "metadata": {},
   "outputs": [],
   "source": [
    "# Calculate f(t)\n",
    "def ft(self, p1, p2, p3, p4, t):\n",
    "    terms = self.compute_quadratic_coefficient(p1, p2, p3, p4)\n",
    "    return terms[0] * pow(t, 2) + terms[1]*t + terms[2]\n",
    "\n",
    "def compute_quadratic_coefficient(self, p1, p2, p3, p4):\n",
    "    quadratic = (p1[0]*p4[1]-p2[0]*p4[1]+p2[0]*p1[1]-p4[0]*p1[1]+p4[0]*p2[1]-p1[0]*p2[1])\n",
    "    linear = (p1[0]*p2[1]+p3[0]*p1[1]-p3[0]*p2[1]-p1[0]*p3[1]+p2[0]*p3[1]-p2[0]*p1[1])/2\n",
    "    constant = (p3[0]*p4[1]-p3[0]*p1[1]-p1[0]*p4[1]-p4[0]*p3[1]+p4[0]*p1[1]+p1[0]*p3[1])/2\n",
    "    return np.array([quadratic, linear, constant])"
   ]
  },
  {
   "cell_type": "markdown",
   "id": "a58fb9fe",
   "metadata": {},
   "source": [
    "To solve the equation, let's make the it becomes $f(t)=0, t \\in [\\frac{1}{2}, 1]$. Since only one b-line can be found that passes through a fixed point on a triangle [\\[1\\]](#ref-1), which means for $f(t)$ there is excatly one solution in $[\\frac{1}{2}, 1]$. This should present that \n",
    "\n",
    "$$f(\\frac{1}{2})*f(1)<=0$$. \n",
    "\n",
    "Since here I only consider point $P$ on edge $AB$, there exist three situations. The conclusion can be used to preliminarily determine where the $P$ is on.\n",
    "\n",
    "<a name='1-3'></a>\n",
    "### 1.3 Result\n",
    "\n",
    "This is the complete code of the target problem"
   ]
  },
  {
   "cell_type": "code",
   "execution_count": 57,
   "id": "fe45ce99",
   "metadata": {},
   "outputs": [],
   "source": [
    "class Triangle_Area_Bisection_2D:\n",
    "    def __init__(self, vertices=np.array([np.array([6,9]), np.array([10,14]), np.array([8,28])]), p):\n",
    "        if(len(vertices) < 3):\n",
    "            A = np.array([6,9])\n",
    "            B = np.array([10,14])\n",
    "            C = np.array([8,28])\n",
    "            self.vertices = np.array([A, B, C])\n",
    "        else:\n",
    "            self.vertices = vertices\n",
    "        self.t = []\n",
    "        self.G = (vertices[0] + vertices[1] + vertices[2]) / 3\n",
    "        self.p = p\n",
    "        self.P = []\n",
    "        self.Q = []\n",
    "        # The thrid vertex of small triangle part\n",
    "        self.top = []\n",
    "        # The (unit) direction of the dicision boundary\n",
    "        self.o = []\n",
    "        \n",
    "    def ft(self, p1, p2, p3, p4, t):\n",
    "        terms = self.compute_quadratic_coefficient(p1, p2, p3, p4)\n",
    "        return terms[0] * pow(t, 2) + terms[1]*t + terms[2]\n",
    "    \n",
    "    def compute_quadratic_coefficient(self, p1, p2, p3, p4):\n",
    "        quadratic = (p1[0]*p4[1]-p2[0]*p4[1]+p2[0]*p1[1]-p4[0]*p1[1]+p4[0]*p2[1]-p1[0]*p2[1])\n",
    "        linear = (p1[0]*p2[1]+p3[0]*p1[1]-p3[0]*p2[1]-p1[0]*p3[1]+p2[0]*p3[1]-p2[0]*p1[1])/2\n",
    "        constant = (p3[0]*p4[1]-p3[0]*p1[1]-p1[0]*p4[1]-p4[0]*p3[1]+p4[0]*p1[1]+p1[0]*p3[1])/2\n",
    "        return np.array([quadratic, linear, constant])\n",
    "    \n",
    "    def compute_quadratic_delta(self, terms):\n",
    "        return pow(terms[1], 2) - 4 * terms[0] * terms[2]\n",
    "    \n",
    "    def compute_t(self, terms):\n",
    "        delta = self.compute_quadratic_delta(terms)\n",
    "        print(\"delta: \", delta)\n",
    "        t1 = (-terms[1]+pow(delta, 0.5)) / 2 / terms[0]\n",
    "        t2 = (-terms[1]-pow(delta, 0.5)) / 2 / terms[0]\n",
    "        \n",
    "        if(t1 >= 1/2 and t1<= 1):\n",
    "            return t1\n",
    "        if(t2 >= 1/2 and t2<= 1):\n",
    "            return t2\n",
    "        \n",
    "        return -1\n",
    "    \n",
    "    def solve_quadratic(self, p1, p2, p3):\n",
    "        terms = self.compute_quadratic_coefficient(p1, p2, p3, self.p)\n",
    "        t_temp = self.compute_t(terms)\n",
    "        self.t = self.t + [t_temp]\n",
    "        return t_temp\n",
    "    \n",
    "    def get_t(self):\n",
    "        if(self.ft(self.vertices[0], self.vertices[1], self.vertices[2], self.p, 0.5)*self.ft(self.vertices[0], self.vertices[1], self.vertices[2], self.p, 1) <= 0):\n",
    "            t_temp = self.solve_quadratic(self.vertices[0], self.vertices[1], self.vertices[2])\n",
    "            self.P = self.P + [util.linear_interpolation(self.vertices[0], self.vertices[1], t_temp)]\n",
    "            self.Q = self.Q + [util.linear_interpolation(self.vertices[0], self.vertices[2], 1/2/t_temp)]\n",
    "            self.top = self.top + [self.vertices[0]]\n",
    "            \n",
    "        if(self.ft(self.vertices[1], self.vertices[2], self.vertices[0], self.p, 0.5)*self.ft(self.vertices[1], self.vertices[2], self.vertices[0], self.p, 1) <= 0):\n",
    "            t_temp = self.solve_quadratic(self.vertices[1], self.vertices[2], self.vertices[0])\n",
    "            self.P = self.P + [util.linear_interpolation(self.vertices[1], self.vertices[2], t_temp)]\n",
    "            self.Q = self.Q + [util.linear_interpolation(self.vertices[1], self.vertices[0], 1/2/t_temp)]\n",
    "            self.top = self.top + [self.vertices[1]]\n",
    "            \n",
    "        if(self.ft(self.vertices[2], self.vertices[0], self.vertices[1], self.p, 0.5)*self.ft(self.vertices[2], self.vertices[0], self.vertices[1], self.p, 1) <= 0):\n",
    "            t_temp = self.solve_quadratic(self.vertices[2], self.vertices[0], self.vertices[1])\n",
    "            self.P = self.P + [util.linear_interpolation(self.vertices[2], self.vertices[0], t_temp)]\n",
    "            self.Q = self.Q + [util.linear_interpolation(self.vertices[2], self.vertices[1], 1/2/t_temp)]\n",
    "            self.top = self.top + [self.vertices[2]]\n",
    "            \n",
    "    def v_decision_boundary(self):\n",
    "        for i in range(len(self.P)):\n",
    "            util.v_line_2D(self.P[i], self.Q[i])\n",
    "            \n",
    "    def v_triangle(self):\n",
    "        util.v_triangle_2D(self.vertices[0], self.vertices[1], self.vertices[2])\n",
    "        \n",
    "    def v_vertices(self):\n",
    "        plt.plot(self.vertices[0][0], self.vertices[0][1], 'o', color='r')\n",
    "        plt.plot(self.vertices[1][0], self.vertices[1][1], 'o', color='r')\n",
    "        plt.plot(self.vertices[2][0], self.vertices[2][1], 'o', color='r')\n",
    "        \n",
    "    def v_result(self):\n",
    "        self.v_vertices()\n",
    "        self.v_triangle()\n",
    "        util.v_triangle_barycentre(self.vertices[0], self.vertices[1], self.vertices[2])\n",
    "        self.get_t()\n",
    "        self.v_decision_boundary()\n",
    "        \n",
    "    def print_info(self):\n",
    "        print(\"The coordinates of point P: \", self.P)\n",
    "        print(\"The coordinates of point Q: \", self.Q)\n",
    "        print(\"The area of triangle: \", util.triangle_area_2D(self.vertices[0], self.vertices[1], self.vertices[2]))\n",
    "        print(\"The area of small half-area triangle: \", util.triangle_area_2D(self.P[0], self.Q[0], self.top[0]))"
   ]
  },
  {
   "cell_type": "code",
   "execution_count": 59,
   "id": "793df7c9",
   "metadata": {},
   "outputs": [
    {
     "name": "stdout",
     "output_type": "stream",
     "text": [
      "delta:  68.0\n",
      "The coordinates of point P:  [array([1.21922359, 0.34232922])]\n",
      "The coordinates of point Q:  [array([2.        , 0.56155281])]\n",
      "The area of triangle:  2.0\n",
      "The area of small half-area triangle:  0.9999999999999999\n"
     ]
    },
    {
     "data": {
      "image/png": "[encoded data removed]",
      "text/plain": [
       "<Figure size 640x480 with 1 Axes>"
      ]
     },
     "metadata": {},
     "output_type": "display_data"
    }
   ],
   "source": [
    "test = Triangle_Area_Bisection_2D(np.array([A,B,C]),np.array([0,0]))\n",
    "test.v_result()\n",
    "test.print_info()"
   ]
  },
  {
   "cell_type": "markdown",
   "id": "5a8d778d",
   "metadata": {},
   "source": [
    "<a name='1-4'></a>\n",
    "### 1.4 \\*Interactive Plot\n",
    "\n",
    "Please check out the **./triangle_bisector_interactive.py** file for more detail.\n",
    "\n",
    "The program allow users to\n",
    "+ Sepecify the 3 vertices of triangle interactively\n",
    "+ Sepecify the point $R$ interactively\n",
    "+ It will automatically generate the decision boundary"
   ]
  },
  {
   "cell_type": "markdown",
   "id": "888fc0b6",
   "metadata": {},
   "source": [
    "<a name='5'></a>\n",
    "## 5. Reference\n",
    "\n",
    "<a name='ref-1'></a>\n",
    "1. [Craizer, Marcos. \"Envelopes of Bisection Lines of Polygons.\" arXiv preprint arXiv:2203.10559 (2022).](https://arxiv.org/abs/2203.10559)"
   ]
  }
 ],
 "metadata": {
  "kernelspec": {
   "display_name": "Python 3 (ipykernel)",
   "language": "python",
   "name": "python3"
  },
  "language_info": {
   "codemirror_mode": {
    "name": "ipython",
    "version": 3
   },
   "file_extension": ".py",
   "mimetype": "text/x-python",
   "name": "python",
   "nbconvert_exporter": "python",
   "pygments_lexer": "ipython3",
   "version": "3.11.0"
  }
 },
 "nbformat": 4,
 "nbformat_minor": 5
}
