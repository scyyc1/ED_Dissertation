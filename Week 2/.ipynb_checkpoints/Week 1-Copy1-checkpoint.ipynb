{
 "cells": [
  {
   "cell_type": "markdown",
   "id": "515538e4",
   "metadata": {},
   "source": [
    "# Week 1: Linearly Seperate the Area of a Triangle\n",
    "**Target**: Find a line that bisector the area of a triangle"
   ]
  },
  {
   "cell_type": "markdown",
   "id": "50733e24",
   "metadata": {},
   "source": [
    "## Table of Contents\n",
    "- [0 - Packages and Tools](#0)\n",
    "    - [0.1 - Packages](#0-1)\n",
    "    - [0.2 - Self-defined Functions](#0-2)\n",
    "- [1 - Wrong Guessing and Mathematical Proof](#1)\n",
    "    - [1.1 - Guess](#1-1)\n",
    "    - [1.2 - Conclusion](#1-2)\n",
    "    - [1.3 - Proof Processes](#1-3)\n",
    "- [2 - The Iteration Methods](#2)\n",
    "    - [2.1 - Problem Representation](#2-1)\n",
    "    - [2.2 - Gradient Descence](#2-2)\n",
    "    - [2.3 - *Interactive Plot](#2-3)\n",
    "- [3 - The O(1) Method](#3)\n",
    "    - [3.1 - Geometry Explanation](#2-1)\n",
    "    - [3.2 - Algrebra Explanation](#2-2)\n",
    "- [4 - Others](#4)\n",
    "- [5 - Reference](#5)"
   ]
  },
  {
   "cell_type": "markdown",
   "id": "8c150b67",
   "metadata": {},
   "source": [
    "<a name='0'></a>\n",
    "## 0. Package and Tools\n",
    "<a name='0-1'></a>\n",
    "### 0.1 Packages"
   ]
  },
  {
   "cell_type": "code",
   "execution_count": 1,
   "id": "b9a45006",
   "metadata": {},
   "outputs": [],
   "source": [
    "import numpy as np\n",
    "import random\n",
    "import matplotlib.pyplot as plt"
   ]
  },
  {
   "cell_type": "markdown",
   "id": "d16161c3",
   "metadata": {},
   "source": [
    "<a name='0-2'></a>\n",
    "### 0.2 Self-defined Functions\n",
    "<a name='0-2-1'></a>\n",
    "#### 0.2.1 Static Visualization functions"
   ]
  },
  {
   "cell_type": "code",
   "execution_count": 2,
   "id": "0cfebbb2",
   "metadata": {},
   "outputs": [],
   "source": [
    "def v_line_parametric_2D(p,d):\n",
    "    t = np.linspace(0, 1, 1000)\n",
    "    x = p[0] + d[0] * t\n",
    "    y = p[1] + d[1] * t\n",
    "    plt.plot(x, y, 'b-')\n",
    "\n",
    "    plt.xlabel('x')\n",
    "    plt.ylabel('y')\n",
    "    \n",
    "def v_line_2D(p1, p2):\n",
    "    d = p2 - p1\n",
    "    v_line_parametric_2D(p1, d)\n",
    "\n",
    "    plt.xlabel('x')\n",
    "    plt.ylabel('y')\n",
    "    return d\n",
    "\n",
    "def v_triangle_2D(p1,p2,p3):\n",
    "    v_line_2D(p1,p2)\n",
    "    v_line_2D(p2,p3)\n",
    "    v_line_2D(p1,p3)\n",
    "    \n",
    "def v_triangle_barycentre(p1,p2,p3):\n",
    "    G = (p1 + p2 + p3) / 3\n",
    "    plt.plot(G[0], G[1], 'o', color='r')\n",
    "    return G"
   ]
  },
  {
   "cell_type": "markdown",
   "id": "16627f79",
   "metadata": {},
   "source": [
    "<a name='0-2-2'></a>\n",
    "#### 0.2.2 Iteration Methods Related"
   ]
  },
  {
   "cell_type": "code",
   "execution_count": 3,
   "id": "5b43f62c",
   "metadata": {},
   "outputs": [],
   "source": [
    "def IM_GD_gradients(t1, t2):\n",
    "    dt1 = 2 * np.power(t2, 2) * t1 - t2\n",
    "    dt2 = 2 * np.power(t1, 2) * t2 - t1\n",
    "    return dt1, dt2\n",
    "    \n",
    "def IM_GD_update_parameters(t1, t2, dt1, dt2, alpha):\n",
    "    t1 = t1 - alpha * dt1\n",
    "    t2 = t2 - alpha * dt2\n",
    "    return t1, t2\n",
    "\n",
    "def IM_GD_one_round(t1, t2):\n",
    "    opt_loss(t1, t2)\n",
    "    dt1, dt2 = opt_gradients(t1, t2)\n",
    "    t1, t2 = opt_update_parameters(t1, t2, dt1, dt2, 0.05)\n",
    "    return t1, t2, dt1, dt2"
   ]
  },
  {
   "cell_type": "markdown",
   "id": "7e2d0fa0",
   "metadata": {},
   "source": [
    "<a name='0-2-3'></a>\n",
    "#### 0.2.3 Triangle Related"
   ]
  },
  {
   "cell_type": "code",
   "execution_count": 4,
   "id": "18acfb4b",
   "metadata": {},
   "outputs": [],
   "source": [
    "def linear_interpolation(a, b, t):\n",
    "    return (1-t)*a + t*b\n",
    "\n",
    "def distance_euclidean(p1, p2):\n",
    "    return np.linalg.norm(p1 - p2)\n",
    "\n",
    "def triangle_area_2D(A, B, C):\n",
    "    return 0.5 * np.abs(np.cross(A-B, A-C))\n",
    "\n",
    "def slope_2D(A, B):\n",
    "    return (B[1]-A[1])/B[0]-A[0]"
   ]
  },
  {
   "cell_type": "markdown",
   "id": "3547c705",
   "metadata": {},
   "source": [
    "<a name='1'></a>\n",
    "## 1. Wrong Guessing and Mathematical Proof\n",
    "<a name='1-1'></a>\n",
    "### 1.1 Guess \n",
    "+ **Original proposition**: The line passing through the barycenter (centroid) of a triangle always bisectors its area.\n",
    "+ **Converse proposition**: The line bisectoring a triangle with two equal-area parts always passes through the barycenter (centroid)\n",
    "\n",
    "<a name='1-2'></a>\n",
    "### 1.2 Conclusion\n",
    "+ Both wrong\n",
    "\n",
    "<a name='1-3'></a>\n",
    "### 1.3 Proof\n",
    "\n",
    "#### 1.3.1 Conditions\n",
    "+ General triangle with vertices $A(x_1, y_1)$, $B(x_2, y_2)$, $C(x_3, y_3)$ defined in $R^2$.\n",
    "\n",
    "#### 1.3.1 Proof\n",
    "\n",
    "The centroid $G$ of this triangle is given by \n",
    "\n",
    "$$G = \\left(\\frac{x_1+x_2+x_3}{3}, \\frac{y_1+y_2+y_3}{3}\\right)$$.\n",
    "\n",
    "Let's suppose a line, PQ, passes through the centroid G and intersects AB and AC at points P and Q. \n",
    "\n",
    "Let's set a parameter $t_1$ and $t_2$, and consider two points on the line:\n",
    "\n",
    "$$P = (1 - t_1)A + tB = \\left((1 - t_1)x_1 + tx_2, (1 - t_1)y_1 + ty_2\\right)$$ \n",
    "$$Q = (1 - t_2)A + tC = \\left((1 - t_2)x_1 + tx_3, (1 - t_2)y_1 + ty_3\\right)$$\n",
    "\n",
    "Where\n",
    "\n",
    "$$t_1, t_2 \\in [0, 1]$$ \n",
    "\n",
    "Through such parameterization, we learn that:\n",
    "\n",
    "$$ |AP| = t_1 * |AB| $$\n",
    "$$ |AQ| = t_2 * |AC| $$\n",
    "\n",
    "So\n",
    "\n",
    "$$S\\triangle_{APQ} = \\frac{1}{2}|AP||AQ|\\sin{\\angle_{BAC}} = \\frac{1}{2}t_1 t_2 |AB||AC|\\sin{\\angle_{BAC}} = t_1 t_2 S\\triangle_{ABC}$$\n",
    "\n",
    "To ensure line $PQ$ passes through centroid G, we ensure the slopes between $PG$ and $QG$ are equal, which gives:\n",
    "\n",
    "$$\\frac{y_P - y_G}{x_P - x_G}=\\frac{y_Q - y_G}{x_Q - x_G}$$\n",
    "$$y_P x_Q - y_P x_G - y_G x_Q = y_Q x_P - y_G x_P - y_Q x_G$$ \n",
    "\n",
    "$y_G x_G$ terms are eliminated. Reorder:\n",
    "\n",
    "$$y_P x_Q - y_Q x_P = x_G (y_P - y_Q) + y_G (x_Q - x_P)$$\n",
    "\n",
    "$$y_P - y_Q = -t_1y_1 + t_1y_2 + t_2y_1 - t_2y_3$$\n",
    "$$x_Q - x_P = t_1x_1 - t_1x_2 - t_2x_1 + t_2x_3$$\n",
    "\n",
    "$$LHS = (1-t_1)t_2(y_1x_3-x_1y_3) + (1-t_2)t_1(x_1y_2-y_1x_2) + t_1t_2(y_2x_3 - x_2y_3)$$\n",
    "$$RHS = $$\n",
    "\n",
    "Finally, we have:\n",
    "\n",
    "$$t_1t_2 = $$\n",
    "\n",
    "It is not a fix value. This means that the area of $\\triangle_{APQ}$ is depend on $t_1$ and $t_2$ respectively."
   ]
  },
  {
   "cell_type": "code",
   "execution_count": 283,
   "id": "1372dbb2",
   "metadata": {},
   "outputs": [],
   "source": [
    "class Triangle_Area_Bisection_2D:\n",
    "    def __init__(self, vertices, p):\n",
    "        if(len(vertices) < 3):\n",
    "            A = np.array([6,9])\n",
    "            B = np.array([10,14])\n",
    "            C = np.array([8,28])\n",
    "            self.vertices = np.array([A, B, C])\n",
    "        else:\n",
    "            self.vertices = vertices\n",
    "        self.t = -1\n",
    "        self.G = (vertices[0] + vertices[1] + vertices[2]) / 3\n",
    "        self.p = p\n",
    "        self.P = np.zeros(2)\n",
    "        self.Q = np.zeros(2)\n",
    "        \n",
    "    def ft(self, p1, p2, p3, p4, t):\n",
    "        terms = self.compute_quadratic_coefficient(p1, p2, p3, p4)\n",
    "        return terms[0] * pow(t, 2) + terms[1]*t + terms[2]\n",
    "    \n",
    "    def compute_quadratic_coefficient(self, p1, p2, p3, p4):\n",
    "        quadratic = (p1[0]*p4[1]-p2[0]*p4[1]+p2[0]*p1[1]-p4[0]*p1[1]+p4[0]*p2[1]-p1[0]*p2[1])\n",
    "        linear = (p1[0]*p2[1]+p3[0]*p1[1]-p3[0]*p2[1]-p1[0]*p3[1]+p2[0]*p3[1]-p2[0]*p1[1])/2\n",
    "        constant = (p3[0]*p4[1]-p3[0]*p1[1]-p1[0]*p4[1]-p4[0]*p3[1]+p4[0]*p1[1]+p1[0]*p3[1])/2\n",
    "        return np.array([quadratic, linear, constant])\n",
    "    \n",
    "    def compute_quadratic_delta(self, terms):\n",
    "        return pow(terms[1], 2) - 4 * terms[0] * terms[2]\n",
    "    \n",
    "    def compute_t(self, terms):\n",
    "        delta = self.compute_quadratic_delta(terms)\n",
    "        print(\"delta: \", delta)\n",
    "        t1 = (-terms[1]+pow(delta, 0.5)) / 2 / terms[0]\n",
    "        t2 = (-terms[1]-pow(delta, 0.5)) / 2 / terms[0]\n",
    "        \n",
    "        if(t1 >= 1/2 and t<= 1):\n",
    "            return t1\n",
    "        if(t2 >= 1/2 and t<= 1):\n",
    "            return t2\n",
    "        \n",
    "        print(t1, t2)\n",
    "        return -1\n",
    "    \n",
    "    def solve_quadratic(self, p1, p2, p3):\n",
    "        terms = self.compute_quadratic_coefficient(p1, p2, p3, self.p)\n",
    "        self.t = self.compute_t(terms)\n",
    "    \n",
    "    def get_t(self):\n",
    "        if(self.ft(self.vertices[0], self.vertices[1], self.vertices[2], self.p, 0.5)*self.ft(self.vertices[0], self.vertices[1], self.vertices[2], self.p, 1) <= 0):\n",
    "            self.solve_quadratic(self.vertices[0], self.vertices[1], self.vertices[2])\n",
    "            self.P = linear_interpolation(self.vertices[0], self.vertices[1], self.t)\n",
    "            self.Q = linear_interpolation(self.vertices[0], self.vertices[2], 1/2/self.t)\n",
    "            \n",
    "        if(self.ft(self.vertices[1], self.vertices[2], self.vertices[0], self.p, 0.5)*self.ft(self.vertices[1], self.vertices[2], self.vertices[0], self.p, 1) <= 0):\n",
    "            self.solve_quadratic(self.vertices[1], self.vertices[2], self.vertices[0])\n",
    "            self.P = linear_interpolation(self.vertices[1], self.vertices[2], self.t)\n",
    "            self.Q = linear_interpolation(self.vertices[1], self.vertices[0], 1/2/self.t)\n",
    "            \n",
    "        if(self.ft(self.vertices[2], self.vertices[0], self.vertices[1], self.p, 0.5)*self.ft(self.vertices[2], self.vertices[0], self.vertices[1], self.p, 1) <= 0):\n",
    "            self.solve_quadratic(self.vertices[2], self.vertices[0], self.vertices[1])\n",
    "            self.P = linear_interpolation(self.vertices[2], self.vertices[0], self.t)\n",
    "            self.Q = linear_interpolation(self.vertices[2], self.vertices[1], 1/2/self.t)\n"
   ]
  },
  {
   "cell_type": "markdown",
   "id": "79e02ddf",
   "metadata": {},
   "source": [
    "$$\n",
    "(x_1y_4-x_2y_4+x_2y_1-x_4y_1+x_4y_2-x_1y_2)t^2+\\frac{1}{2}(x_1y_2+x_3y_1-x_3y_2-x_1y_3+x_2y_3-x_2y_1)t+\\frac{1}{2}(x_3y_4-x_3y_1-x_1y_4-x_4y_3+x_4y_1+x_1y_3)=0\n",
    "$$"
   ]
  },
  {
   "cell_type": "code",
   "execution_count": 219,
   "id": "3ba2f565",
   "metadata": {},
   "outputs": [],
   "source": [
    "def aaaaa(self, p1, p2, p3, p4, t):\n",
    "    quadratic = (p1[0]*p4[1]-p2[0]*p4[1]+p2[0]*p1[1]-p4[0]*p1[1]+p4[0]*p2[1]-p1[0]*p2[1])\n",
    "    linear = (p1[0]*p2[1]+p3[0]*p1[1]-p3[0]*p2[1]-p1[0]*p3[1]+p2[0]*p3[1]-p2[0]*p1[1])/2\n",
    "    constant = (p3[0]*p4[1]-p3[0]*p1[1]-p1[0]*p4[1]-p4[0]*p3[1]+p4[0]*p1[1]+p1[0]*p3[1])/2\n",
    "    return quadratic * pow(t, 2) + linear*t + constant"
   ]
  },
  {
   "cell_type": "code",
   "execution_count": 284,
   "id": "fa783e4c",
   "metadata": {},
   "outputs": [
    {
     "name": "stdout",
     "output_type": "stream",
     "text": [
      "delta:  68.0\n"
     ]
    }
   ],
   "source": [
    "test = Triangle_Area_Bisection_2D(np.array([A,B,C]),np.array([0,0]))\n",
    "test.get_t()\n"
   ]
  },
  {
   "cell_type": "code",
   "execution_count": 259,
   "id": "6ee617e5",
   "metadata": {},
   "outputs": [
    {
     "data": {
      "text/plain": [
       "array([-2., -2., -1.])"
      ]
     },
     "execution_count": 259,
     "metadata": {},
     "output_type": "execute_result"
    }
   ],
   "source": [
    "test.compute_quadratic_coefficient(A, B, C, p0)"
   ]
  },
  {
   "cell_type": "code",
   "execution_count": 260,
   "id": "ed10eb2f",
   "metadata": {},
   "outputs": [
    {
     "data": {
      "text/plain": [
       "12.5"
      ]
     },
     "execution_count": 260,
     "metadata": {},
     "output_type": "execute_result"
    }
   ],
   "source": [
    "test.ft(A, B, C, p0, 0.5)*test.ft(A, B, C, p0, 1)"
   ]
  },
  {
   "cell_type": "code",
   "execution_count": 261,
   "id": "d1030b81",
   "metadata": {},
   "outputs": [
    {
     "data": {
      "text/plain": [
       "array([ 8., -2., -1.])"
      ]
     },
     "execution_count": 261,
     "metadata": {},
     "output_type": "execute_result"
    }
   ],
   "source": [
    "test.compute_quadratic_coefficient(B, C, A, p0)"
   ]
  },
  {
   "cell_type": "code",
   "execution_count": 262,
   "id": "f7d90d34",
   "metadata": {},
   "outputs": [
    {
     "data": {
      "text/plain": [
       "0.0"
      ]
     },
     "execution_count": 262,
     "metadata": {},
     "output_type": "execute_result"
    }
   ],
   "source": [
    "test.ft(B, C, A, p0, 0.5)\n",
    "# *test.ft(B, C, A, p0, 1)"
   ]
  },
  {
   "cell_type": "code",
   "execution_count": 263,
   "id": "01d4c53f",
   "metadata": {},
   "outputs": [
    {
     "data": {
      "text/plain": [
       "0.0"
      ]
     },
     "execution_count": 263,
     "metadata": {},
     "output_type": "execute_result"
    }
   ],
   "source": [
    "test.ft(C, A, B, p0, 1)\n",
    "# *test.ft(C, A, B, p0, 0.5)"
   ]
  },
  {
   "cell_type": "code",
   "execution_count": 276,
   "id": "67ee1b94",
   "metadata": {},
   "outputs": [
    {
     "data": {
      "text/plain": [
       "array([-8.,  2.,  1.])"
      ]
     },
     "execution_count": 276,
     "metadata": {},
     "output_type": "execute_result"
    }
   ],
   "source": [
    "terms = test.compute_quadratic_coefficient(C, B, A, p0)\n",
    "terms"
   ]
  },
  {
   "cell_type": "code",
   "execution_count": 277,
   "id": "207048a0",
   "metadata": {},
   "outputs": [
    {
     "name": "stdout",
     "output_type": "stream",
     "text": [
      "delta:  36.0\n"
     ]
    },
    {
     "data": {
      "text/plain": [
       "0.5"
      ]
     },
     "execution_count": 277,
     "metadata": {},
     "output_type": "execute_result"
    }
   ],
   "source": [
    "test.compute_t(terms)"
   ]
  },
  {
   "cell_type": "code",
   "execution_count": 266,
   "id": "6998657b",
   "metadata": {},
   "outputs": [
    {
     "data": {
      "text/plain": [
       "5.0"
      ]
     },
     "execution_count": 266,
     "metadata": {},
     "output_type": "execute_result"
    }
   ],
   "source": [
    "test.ft(B, C, A, p0, 1)"
   ]
  },
  {
   "cell_type": "code",
   "execution_count": 267,
   "id": "f58132d2",
   "metadata": {},
   "outputs": [
    {
     "data": {
      "text/plain": [
       "array([0., 0.])"
      ]
     },
     "execution_count": 267,
     "metadata": {},
     "output_type": "execute_result"
    }
   ],
   "source": [
    "test.P"
   ]
  },
  {
   "cell_type": "code",
   "execution_count": 211,
   "id": "f0dcca45",
   "metadata": {},
   "outputs": [
    {
     "data": {
      "text/plain": [
       "-1"
      ]
     },
     "execution_count": 211,
     "metadata": {},
     "output_type": "execute_result"
    }
   ],
   "source": [
    "test.t"
   ]
  },
  {
   "cell_type": "code",
   "execution_count": 197,
   "id": "a927136c",
   "metadata": {},
   "outputs": [
    {
     "data": {
      "text/plain": [
       "array([-3,  5])"
      ]
     },
     "execution_count": 197,
     "metadata": {},
     "output_type": "execute_result"
    },
    {
     "data": {
      "image/png": "[encoded data removed]",
      "text/plain": [
       "<Figure size 640x480 with 1 Axes>"
      ]
     },
     "metadata": {},
     "output_type": "display_data"
    }
   ],
   "source": [
    "v_line_2D(test.P, p0)"
   ]
  },
  {
   "cell_type": "code",
   "execution_count": 74,
   "id": "9b897b59",
   "metadata": {},
   "outputs": [
    {
     "data": {
      "text/plain": [
       "array([[ 6,  9],\n",
       "       [10, 14],\n",
       "       [ 8, 28]])"
      ]
     },
     "execution_count": 74,
     "metadata": {},
     "output_type": "execute_result"
    }
   ],
   "source": [
    "test.vertices"
   ]
  },
  {
   "cell_type": "code",
   "execution_count": 39,
   "id": "041c04f8",
   "metadata": {},
   "outputs": [
    {
     "ename": "TypeError",
     "evalue": "Triangle_Area_Bisection_2D.ft() takes 5 positional arguments but 6 were given",
     "output_type": "error",
     "traceback": [
      "\u001b[1;31m---------------------------------------------------------------------------\u001b[0m",
      "\u001b[1;31mTypeError\u001b[0m                                 Traceback (most recent call last)",
      "Cell \u001b[1;32mIn[39], line 1\u001b[0m\n\u001b[1;32m----> 1\u001b[0m ttt \u001b[38;5;241m=\u001b[39m \u001b[43mtest\u001b[49m\u001b[38;5;241;43m.\u001b[39;49m\u001b[43mget_t\u001b[49m\u001b[43m(\u001b[49m\u001b[43m)\u001b[49m\n",
      "Cell \u001b[1;32mIn[36], line 24\u001b[0m, in \u001b[0;36mTriangle_Area_Bisection_2D.get_t\u001b[1;34m(self)\u001b[0m\n\u001b[0;32m     23\u001b[0m \u001b[38;5;28;01mdef\u001b[39;00m \u001b[38;5;21mget_t\u001b[39m(\u001b[38;5;28mself\u001b[39m):\n\u001b[1;32m---> 24\u001b[0m     \u001b[38;5;28;01mif\u001b[39;00m(\u001b[38;5;28;43mself\u001b[39;49m\u001b[38;5;241;43m.\u001b[39;49m\u001b[43mft\u001b[49m\u001b[43m(\u001b[49m\u001b[38;5;28;43mself\u001b[39;49m\u001b[38;5;241;43m.\u001b[39;49m\u001b[43mvertices\u001b[49m\u001b[43m[\u001b[49m\u001b[38;5;241;43m0\u001b[39;49m\u001b[43m]\u001b[49m\u001b[43m,\u001b[49m\u001b[43m \u001b[49m\u001b[38;5;28;43mself\u001b[39;49m\u001b[38;5;241;43m.\u001b[39;49m\u001b[43mvertices\u001b[49m\u001b[43m[\u001b[49m\u001b[38;5;241;43m1\u001b[39;49m\u001b[43m]\u001b[49m\u001b[43m,\u001b[49m\u001b[43m \u001b[49m\u001b[38;5;28;43mself\u001b[39;49m\u001b[38;5;241;43m.\u001b[39;49m\u001b[43mvertices\u001b[49m\u001b[43m[\u001b[49m\u001b[38;5;241;43m2\u001b[39;49m\u001b[43m]\u001b[49m\u001b[43m,\u001b[49m\u001b[43m \u001b[49m\u001b[38;5;28;43mself\u001b[39;49m\u001b[38;5;241;43m.\u001b[39;49m\u001b[43mp\u001b[49m\u001b[43m,\u001b[49m\u001b[43m \u001b[49m\u001b[38;5;241;43m0\u001b[39;49m\u001b[43m)\u001b[49m\u001b[38;5;241m*\u001b[39m\u001b[38;5;28mself\u001b[39m\u001b[38;5;241m.\u001b[39mft(\u001b[38;5;28mself\u001b[39m\u001b[38;5;241m.\u001b[39mvertices[\u001b[38;5;241m0\u001b[39m], \u001b[38;5;28mself\u001b[39m\u001b[38;5;241m.\u001b[39mvertices[\u001b[38;5;241m1\u001b[39m], \u001b[38;5;28mself\u001b[39m\u001b[38;5;241m.\u001b[39mvertices[\u001b[38;5;241m2\u001b[39m], \u001b[38;5;28mself\u001b[39m\u001b[38;5;241m.\u001b[39mp, \u001b[38;5;241m1\u001b[39m) \u001b[38;5;241m<\u001b[39m\u001b[38;5;241m=\u001b[39m \u001b[38;5;241m0\u001b[39m):\n\u001b[0;32m     25\u001b[0m         \u001b[38;5;28;01mreturn\u001b[39;00m vertices[\u001b[38;5;241m0\u001b[39m]\n\u001b[0;32m     26\u001b[0m     \u001b[38;5;28;01melif\u001b[39;00m(\u001b[38;5;28mself\u001b[39m\u001b[38;5;241m.\u001b[39mft(\u001b[38;5;28mself\u001b[39m\u001b[38;5;241m.\u001b[39mvertices[\u001b[38;5;241m1\u001b[39m], \u001b[38;5;28mself\u001b[39m\u001b[38;5;241m.\u001b[39mvertices[\u001b[38;5;241m0\u001b[39m], \u001b[38;5;28mself\u001b[39m\u001b[38;5;241m.\u001b[39mvertices[\u001b[38;5;241m2\u001b[39m], \u001b[38;5;28mself\u001b[39m\u001b[38;5;241m.\u001b[39mp, \u001b[38;5;241m0\u001b[39m)\u001b[38;5;241m*\u001b[39m\u001b[38;5;28mself\u001b[39m\u001b[38;5;241m.\u001b[39mft(\u001b[38;5;28mself\u001b[39m\u001b[38;5;241m.\u001b[39mvertices[\u001b[38;5;241m1\u001b[39m], \u001b[38;5;28mself\u001b[39m\u001b[38;5;241m.\u001b[39mvertices[\u001b[38;5;241m0\u001b[39m], \u001b[38;5;28mself\u001b[39m\u001b[38;5;241m.\u001b[39mvertices[\u001b[38;5;241m2\u001b[39m], \u001b[38;5;28mself\u001b[39m\u001b[38;5;241m.\u001b[39mp, \u001b[38;5;241m1\u001b[39m) \u001b[38;5;241m<\u001b[39m\u001b[38;5;241m=\u001b[39m \u001b[38;5;241m0\u001b[39m):\n",
      "\u001b[1;31mTypeError\u001b[0m: Triangle_Area_Bisection_2D.ft() takes 5 positional arguments but 6 were given"
     ]
    }
   ],
   "source": [
    "ttt = test.get_t()"
   ]
  },
  {
   "cell_type": "markdown",
   "id": "42c1cbfc",
   "metadata": {},
   "source": [
    "$$\n",
    "(x_1y_2-x_2y_1)t^3+(x_4y_1-x_1y_4)t^2+\\frac{1}{2}(x_1y_3-x_2y_1-x_2y_3-x_4y_2-x_3y_1+x_3y_2+x_1y_2+x_2y_4)t+\\frac{1}{2}(x_4y_1+x_4y_3-x_2y_1-x_2y_3-x_1y_4+x_1y_2-x_3y_4+x_3y_2)=0\n",
    "$$\n"
   ]
  },
  {
   "cell_type": "markdown",
   "id": "45ca652a",
   "metadata": {},
   "source": [
    "<a name='2'></a>\n",
    "## 2. The Iteration Methods\n",
    "<a name='2-1'></a>\n",
    "## 2.1 Problem Representation\n",
    "\n",
    "### 2.1.1 Triangle Representation"
   ]
  },
  {
   "cell_type": "code",
   "execution_count": 287,
   "id": "f42e82ea",
   "metadata": {},
   "outputs": [
    {
     "data": {
      "text/plain": [
       "0.9999999999999999"
      ]
     },
     "execution_count": 287,
     "metadata": {},
     "output_type": "execute_result"
    }
   ],
   "source": [
    "triangle_area_2D(test.P, test.Q, C)"
   ]
  },
  {
   "cell_type": "code",
   "execution_count": 288,
   "id": "d64e54df",
   "metadata": {},
   "outputs": [
    {
     "data": {
      "text/plain": [
       "2.0"
      ]
     },
     "execution_count": 288,
     "metadata": {},
     "output_type": "execute_result"
    }
   ],
   "source": [
    "triangle_area_2D(A, B, C)"
   ]
  },
  {
   "cell_type": "code",
   "execution_count": 286,
   "id": "d2b1dc18",
   "metadata": {},
   "outputs": [
    {
     "data": {
      "image/png": "[encoded data removed]",
      "text/plain": [
       "<Figure size 640x480 with 1 Axes>"
      ]
     },
     "metadata": {},
     "output_type": "display_data"
    }
   ],
   "source": [
    "# Three vertices of a random triangle\n",
    "A = np.array([1,1])\n",
    "B = np.array([2,2])\n",
    "C = np.array([2,-2])\n",
    "# A = np.array([4,2])\n",
    "# B = np.array([1,9])\n",
    "# C = np.array([10,1])\n",
    "R = np.array([1,1])\n",
    "p0 = np.array([0,0])\n",
    "\n",
    "\n",
    "    \n",
    "v_triangle_2D(A,B,C)\n",
    "v_line_2D(test.P, test.Q)\n",
    "plt.plot(A[0], A[1], 'o', color='r')\n",
    "plt.plot(B[0], B[1], 'o', color='r')\n",
    "plt.plot(C[0], C[1], 'o', color='r')\n",
    "G = v_triangle_barycentre(A,B,C)"
   ]
  },
  {
   "cell_type": "markdown",
   "id": "e38c7f79",
   "metadata": {},
   "source": [
    "### 2.1.2 Problem Representation\n",
    "\n",
    "Here I follow the method as 1.3.1. By constructing random points $P$ and $Q$ that lies on $AB$ and $AC$, the random line passing through the triangle $ABC$ could be represented by line $PQ$, where the coordinate of $P$ and $Q$ could be interpolated with randomly generated parameters $t_1$ and $t_2$"
   ]
  },
  {
   "cell_type": "code",
   "execution_count": 6,
   "id": "1e2e9ae4",
   "metadata": {},
   "outputs": [
    {
     "name": "stdout",
     "output_type": "stream",
     "text": [
      "t1： 0.1857751658347907  t2: 0.3758304345315665\n",
      "P:  [6.74310066 9.92887583]  Q: [ 6.75166087 16.14077826]\n",
      "The area of triangle ABC： 33.0\n",
      "The area of triangle APQ： 2.304058722928488\n",
      "The slope of PQ:  -5.823045206260529\n"
     ]
    },
    {
     "data": {
      "image/png": "[encoded data removed]",
      "text/plain": [
       "<Figure size 640x480 with 1 Axes>"
      ]
     },
     "metadata": {},
     "output_type": "display_data"
    }
   ],
   "source": [
    "t1 = random.random()\n",
    "t2 = random.random()\n",
    "\n",
    "P = linear_interpolation(A, B, t1)\n",
    "Q = linear_interpolation(A, C, t2)\n",
    "# print(A, \" \", B, \" \", P, \" \", Q) \n",
    "v_triangle_2D(A,B,C)\n",
    "\n",
    "v_line_2D(P, Q)\n",
    "plt.plot(P[0], P[1], 'o', color='r')\n",
    "plt.plot(Q[0], Q[1], 'o', color='r')\n",
    "area_ABC = triangle_area_2D(A, B, C)\n",
    "area_APQ = triangle_area_2D(A, P, Q)\n",
    "slope = slope_2D(P, Q)\n",
    "\n",
    "print(\"t1：\", t1, \" t2:\", t2)\n",
    "print(\"P: \", P, \" Q:\", Q) \n",
    "print(\"The area of triangle ABC：\", area_ABC)\n",
    "print(\"The area of triangle APQ：\", area_APQ)\n",
    "print(\"The slope of PQ: \", slope)"
   ]
  },
  {
   "cell_type": "markdown",
   "id": "f891c96d",
   "metadata": {},
   "source": [
    "### 2.1.3 The Loss\n",
    "\n",
    "From 1.3.2, We learn that $ \\frac{S\\triangle_{APQ}}{S\\triangle_{ABC}} = t_1 t_2$. To bisector its area, I choose to minimize the $|\\frac{S\\triangle_{APQ}}{S\\triangle_{ABC}} - 0.5 |$, which gives the loss function:\n",
    "\n",
    "$$L = (\\frac{S\\triangle_{APQ}}{S\\triangle_{ABC}} - 0.5)^2$$"
   ]
  },
  {
   "cell_type": "code",
   "execution_count": 332,
   "id": "9ada6dea",
   "metadata": {},
   "outputs": [],
   "source": [
    "def loss(t1, t2):\n",
    "    return np.power(t1*t2 - 1/2, 2)"
   ]
  },
  {
   "cell_type": "markdown",
   "id": "93cf7f8c",
   "metadata": {},
   "source": [
    "<a name='2-2'></a>\n",
    "### 2.2 Gradient Descence\n",
    "\n",
    "This is a naive implementation of gradiet descence method"
   ]
  },
  {
   "cell_type": "code",
   "execution_count": 346,
   "id": "2e5993cf",
   "metadata": {},
   "outputs": [],
   "source": [
    "def IM_GD(t1, t2, num_iterations = 1000, learning_rate = 0.05):\n",
    "    for i in range(num_iterations):\n",
    "        L=loss(t1, t2)\n",
    "        \n",
    "        ## Calculate gradients\n",
    "        dt1, dt2 = IM_GD_gradients(t1, t2)\n",
    "        \n",
    "        ## Back propagation\n",
    "        t1, t2 = IM_GD_update_parameters(t1, t2, dt1, dt2, learning_rate)\n",
    "    return t1, t2, dt1, dt2"
   ]
  },
  {
   "cell_type": "code",
   "execution_count": 340,
   "id": "3c09d5fb",
   "metadata": {},
   "outputs": [
    {
     "name": "stdout",
     "output_type": "stream",
     "text": [
      "t: 0.18074537597576024   0.724397166006787\n",
      "t after: 0.5591247621610466   0.8942547957766585\n",
      "dt: -9.992007221626409e-16   -6.661338147750939e-16\n"
     ]
    }
   ],
   "source": [
    "print(\"t:\", t1, \" \", t2)\n",
    "t1, t2, dt1, dt2 = IM_GD(t1, t2)\n",
    "print(\"t after:\", t1, \" \", t2)\n",
    "print(\"dt:\", dt1, \" \", dt2)"
   ]
  },
  {
   "cell_type": "code",
   "execution_count": 347,
   "id": "207d19b0",
   "metadata": {},
   "outputs": [
    {
     "data": {
      "image/png": "[encoded data removed]",
      "text/plain": [
       "<Figure size 640x480 with 1 Axes>"
      ]
     },
     "metadata": {},
     "output_type": "display_data"
    }
   ],
   "source": [
    "P = linear_interpolation(p1, p2, t1)\n",
    "Q = linear_interpolation(p1, p3, t2)\n",
    "v_triangle_2D(A,B,C)\n",
    "\n",
    "v_line_2D(P, Q)\n",
    "plt.plot(P[0], P[1], 'o', color='r')\n",
    "plt.plot(Q[0], Q[1], 'o', color='r')\n",
    "area_ABC = triangle_area_2D(A, B, C)\n",
    "area_APQ = triangle_area_2D(A, P, Q)"
   ]
  },
  {
   "cell_type": "code",
   "execution_count": 344,
   "id": "cf7dc99f",
   "metadata": {},
   "outputs": [
    {
     "name": "stdout",
     "output_type": "stream",
     "text": [
      "16.49999999999998\n",
      "The slope of PQ:  -6.413914490958583\n"
     ]
    }
   ],
   "source": [
    "area_APQ = triangle_area_2D(A, P, Q)\n",
    "slope_after = slope_2D(P, Q)\n",
    "print(area_APQ)\n",
    "print(\"The slope of PQ: \", slope_after)"
   ]
  },
  {
   "cell_type": "markdown",
   "id": "1a105158",
   "metadata": {},
   "source": [
    "<a name='2-3'></a>\n",
    "### 2.3 *Interactive Plot\n",
    "\n",
    "Please check out the **./triangle_bisector_interactive.py** file for more detail.\n",
    "\n",
    "The program allow users to\n",
    "+ Sepecify the 3 vertices of triangle interactively\n",
    "+ Press **i** to initialize a random line (intersect the triangle with edge AB and AC)\n",
    "+ Press **t** to perform one round of gradient descence"
   ]
  },
  {
   "cell_type": "markdown",
   "id": "dda3a994",
   "metadata": {},
   "source": [
    "<a name='3'></a>\n",
    "## 3. The O(1) Method\n",
    "\n",
    "<a name='3-1'></a>\n",
    "### 3.1 Geometry Method\n",
    "\n",
    "<a name='3-2'></a>\n",
    "### 3.2 Algebra method\n",
    "\n",
    "Following the proof showed in section 1.3, the equation could be further transformed to:\n",
    "\n",
    "which is a hyperbola. This means that when the target decision boundary intersects the triangle with edges $AB$ and $AC$, it will move along the trajectory of a hyperbola. Similarly, there also exist a hyperbola for vertex $B$ and $C$.\n",
    "\n",
    "<a name='4'></a>\n",
    "## 4. Others"
   ]
  },
  {
   "cell_type": "markdown",
   "id": "11d4346a",
   "metadata": {},
   "source": [
    "<a name='5'></a>\n",
    "## 5. Reference\n",
    "\n",
    "1. [Dunn, J. A., and J. E. Pretty. \"Halving a triangle.\" The Mathematical Gazette 56.396 (1972): 105-108.](https://www.cambridge.org/core/journals/mathematical-gazette/article/abs/halving-a-triangle/3765EE3B46D4C12F19B5259893164B11)"
   ]
  }
 ],
 "metadata": {
  "kernelspec": {
   "display_name": "Python 3 (ipykernel)",
   "language": "python",
   "name": "python3"
  },
  "language_info": {
   "codemirror_mode": {
    "name": "ipython",
    "version": 3
   },
   "file_extension": ".py",
   "mimetype": "text/x-python",
   "name": "python",
   "nbconvert_exporter": "python",
   "pygments_lexer": "ipython3",
   "version": "3.11.0"
  }
 },
 "nbformat": 4,
 "nbformat_minor": 5
}
