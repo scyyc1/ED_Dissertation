{
 "cells": [
  {
   "cell_type": "markdown",
   "id": "515538e4",
   "metadata": {},
   "source": [
    "# Week 1: Linearly Seperate the Area of a Triangle\n",
    "**Target**: Find a line that bisector the area of a triangle"
   ]
  },
  {
   "cell_type": "markdown",
   "id": "50733e24",
   "metadata": {},
   "source": [
    "## Table of Contents\n",
    "- [0 - Packages and Tools](#0)\n",
    "    - [0.1 - Packages](#0-1)\n",
    "    - [0.2 - Self-defined Functions](#0-2)\n",
    "- [1 - Wrong Guessing and Mathematical Proof](#1)\n",
    "    - [1.1 - Guess](#1-1)\n",
    "    - [1.2 - Conclusion](#1-2)\n",
    "    - [1.3 - Proof Processes](#1-3)\n",
    "- [2 - The Iteration Methods](#2)\n",
    "    - [2.1 - Problem Representation](#2-1)\n",
    "    - [2.2 - Gradient Descence](#2-2)\n",
    "    - [2.3 - *Interactive Plot](#2-3)\n",
    "- [3 - The O(1) Method](#3)\n",
    "    - [3.1 - Geometry Explanation](#2-1)\n",
    "    - [3.2 - Algrebra Explanation](#2-2)\n",
    "- [4 - Others](#4)\n",
    "- [5 - Reference](#5)"
   ]
  },
  {
   "cell_type": "markdown",
   "id": "8c150b67",
   "metadata": {},
   "source": [
    "<a name='0'></a>\n",
    "## 0. Package and Tools\n",
    "<a name='0-1'></a>\n",
    "### 0.1 Packages"
   ]
  },
  {
   "cell_type": "code",
   "execution_count": 1,
   "id": "b9a45006",
   "metadata": {},
   "outputs": [],
   "source": [
    "import numpy as np\n",
    "import random\n",
    "import matplotlib.pyplot as plt"
   ]
  },
  {
   "cell_type": "markdown",
   "id": "d16161c3",
   "metadata": {},
   "source": [
    "<a name='0-2'></a>\n",
    "### 0.2 Self-defined Functions\n",
    "<a name='0-2-1'></a>\n",
    "#### 0.2.1 Static Visualization functions"
   ]
  },
  {
   "cell_type": "code",
   "execution_count": 289,
   "id": "0cfebbb2",
   "metadata": {},
   "outputs": [],
   "source": [
    "def v_line_parametric_2D(p,d):\n",
    "    t = np.linspace(0, 1, 1000)\n",
    "    x = p[0] + d[0] * t\n",
    "    y = p[1] + d[1] * t\n",
    "    plt.plot(x, y, 'b-')\n",
    "\n",
    "    plt.xlabel('x')\n",
    "    plt.ylabel('y')\n",
    "    \n",
    "def v_line_2D(p1, p2):\n",
    "    d = p2 - p1\n",
    "    v_line_parametric_2D(p1, d)\n",
    "\n",
    "    plt.xlabel('x')\n",
    "    plt.ylabel('y')\n",
    "    return d\n",
    "\n",
    "def v_triangle_2D(p1,p2,p3):\n",
    "    v_line_2D(p1,p2)\n",
    "    v_line_2D(p2,p3)\n",
    "    v_line_2D(p1,p3)\n",
    "    \n",
    "def v_triangle_barycentre(p1,p2,p3):\n",
    "    G = (p1 + p2 + p3) / 3\n",
    "    plt.plot(G[0], G[1], 'o', color='r')\n",
    "    return G"
   ]
  },
  {
   "cell_type": "markdown",
   "id": "16627f79",
   "metadata": {},
   "source": [
    "<a name='0-2-2'></a>\n",
    "#### 0.2.2 Iteration Methods Related"
   ]
  },
  {
   "cell_type": "code",
   "execution_count": 308,
   "id": "5b43f62c",
   "metadata": {},
   "outputs": [],
   "source": [
    "def IM_GD_gradients(t1, t2):\n",
    "    dt1 = 2 * np.power(t2, 2) * t1 - t2\n",
    "    dt2 = 2 * np.power(t1, 2) * t2 - t1\n",
    "    return dt1, dt2\n",
    "    \n",
    "def IM_GD_update_parameters(t1, t2, dt1, dt2, alpha):\n",
    "    t1 = t1 - alpha * dt1\n",
    "    t2 = t2 - alpha * dt2\n",
    "    return t1, t2\n",
    "\n",
    "def IM_GD_one_round(t1, t2):\n",
    "    opt_loss(t1, t2)\n",
    "    dt1, dt2 = opt_gradients(t1, t2)\n",
    "    t1, t2 = opt_update_parameters(t1, t2, dt1, dt2, 0.05)\n",
    "    return t1, t2, dt1, dt2"
   ]
  },
  {
   "cell_type": "markdown",
   "id": "7e2d0fa0",
   "metadata": {},
   "source": [
    "<a name='0-2-3'></a>\n",
    "#### 0.2.3 Triangle Related"
   ]
  },
  {
   "cell_type": "code",
   "execution_count": 322,
   "id": "18acfb4b",
   "metadata": {},
   "outputs": [],
   "source": [
    "def linear_interpolation(a, b, t):\n",
    "    return (1-t)*a + t*b\n",
    "\n",
    "def distance_euclidean(p1, p2):\n",
    "    return np.linalg.norm(p1 - p2)\n",
    "\n",
    "def triangle_area_2D(A, B, C):\n",
    "    return 0.5 * np.abs(np.cross(A-B, A-C))\n",
    "\n",
    "def slope_2D(A, B):\n",
    "    return (B[1]-A[1])/B[0]-A[0]"
   ]
  },
  {
   "cell_type": "markdown",
   "id": "3547c705",
   "metadata": {},
   "source": [
    "<a name='1'></a>\n",
    "## 1. Wrong Guessing and Mathematical Proof\n",
    "<a name='1-1'></a>\n",
    "### 1.1 Guess \n",
    "+ **Original proposition**: The line passing through the barycenter (centroid) of a triangle always bisectors its area.\n",
    "+ **Converse proposition**: The line bisectoring a triangle with two equal-area parts always passes through the barycenter (centroid)\n",
    "\n",
    "<a name='1-2'></a>\n",
    "### 1.2 Conclusion\n",
    "+ Both wrong\n",
    "\n",
    "<a name='1-3'></a>\n",
    "### 1.3 Proof\n",
    "\n",
    "#### 1.3.1 Conditions\n",
    "+ General triangle with vertices $A(x_1, y_1)$, $B(x_2, y_2)$, $C(x_3, y_3)$ defined in $R^2$.\n",
    "\n",
    "#### 1.3.1 Proof\n",
    "\n",
    "The centroid $G$ of this triangle is given by \n",
    "\n",
    "$$G = \\left(\\frac{x_1+x_2+x_3}{3}, \\frac{y_1+y_2+y_3}{3}\\right)$$.\n",
    "\n",
    "Let's suppose a line, PQ, passes through the centroid G and intersects AB and AC at points P and Q. \n",
    "\n",
    "Let's set a parameter $t_1$ and $t_2$, and consider two points on the line:\n",
    "\n",
    "$$P = (1 - t_1)A + tB = \\left((1 - t_1)x_1 + tx_2, (1 - t_1)y_1 + ty_2\\right)$$ \n",
    "$$Q = (1 - t_2)A + tC = \\left((1 - t_2)x_1 + tx_3, (1 - t_2)y_1 + ty_3\\right)$$\n",
    "\n",
    "Where\n",
    "\n",
    "$$t_1, t_2 \\in [0, 1]$$ \n",
    "\n",
    "Through such parameterization, we learn that:\n",
    "\n",
    "$$ |AP| = t_1 * |AB| $$\n",
    "$$ |AQ| = t_2 * |AC| $$\n",
    "\n",
    "So\n",
    "\n",
    "$$S\\triangle_{APQ} = \\frac{1}{2}|AP||AQ|\\sin{\\angle_{BAC}} = \\frac{1}{2}t_1 t_2 |AB||AC|\\sin{\\angle_{BAC}} = t_1 t_2 S\\triangle_{ABC}$$\n",
    "\n",
    "To ensure line $PQ$ passes through centroid G, we ensure the slopes between $PG$ and $QG$ are equal, which gives:\n",
    "\n",
    "$$\\frac{y_P - y_G}{x_P - x_G}=\\frac{y_Q - y_G}{x_Q - x_G}$$\n",
    "$$y_P x_Q - y_P x_G - y_G x_Q = y_Q x_P - y_G x_P - y_Q x_G$$ \n",
    "\n",
    "$y_G x_G$ terms are eliminated. Reorder:\n",
    "\n",
    "$$y_P x_Q - y_Q x_P = x_G (y_P - y_Q) + y_G (x_Q - x_P)$$\n",
    "\n",
    "$$y_P - y_Q = -t_1y_1 + t_1y_2 + t_2y_1 - t_2y_3$$\n",
    "$$x_Q - x_P = t_1x_1 - t_1x_2 - t_2x_1 + t_2x_3$$\n",
    "\n",
    "$$LHS = (1-t_1)t_2(y_1x_3-x_1y_3) + (1-t_2)t_1(x_1y_2-y_1x_2) + t_1t_2(y_2x_3 - x_2y_3)$$\n",
    "$$RHS = $$\n",
    "\n",
    "Finally, we have:\n",
    "\n",
    "$$t_1t_2 = $$\n",
    "\n",
    "It is not a fix value. This means that the area of $\\triangle_{APQ}$ is depend on $t_1$ and $t_2$ respectively."
   ]
  },
  {
   "cell_type": "markdown",
   "id": "45ca652a",
   "metadata": {},
   "source": [
    "<a name='2'></a>\n",
    "## 2. The Iteration Methods\n",
    "<a name='2-1'></a>\n",
    "## 2.1 Problem Representation\n",
    "\n",
    "### 2.1.1 Triangle Representation"
   ]
  },
  {
   "cell_type": "code",
   "execution_count": 2,
   "id": "d2b1dc18",
   "metadata": {},
   "outputs": [
    {
     "ename": "NameError",
     "evalue": "name 'v_triangle_2D' is not defined",
     "output_type": "error",
     "traceback": [
      "\u001b[1;31m---------------------------------------------------------------------------\u001b[0m",
      "\u001b[1;31mNameError\u001b[0m                                 Traceback (most recent call last)",
      "Cell \u001b[1;32mIn[2], line 8\u001b[0m\n\u001b[0;32m      5\u001b[0m R \u001b[38;5;241m=\u001b[39m np\u001b[38;5;241m.\u001b[39marray([\u001b[38;5;241m1\u001b[39m,\u001b[38;5;241m1\u001b[39m])\n\u001b[0;32m      6\u001b[0m p0 \u001b[38;5;241m=\u001b[39m np\u001b[38;5;241m.\u001b[39marray([\u001b[38;5;241m0\u001b[39m,\u001b[38;5;241m0\u001b[39m])\n\u001b[1;32m----> 8\u001b[0m \u001b[43mv_triangle_2D\u001b[49m(A,B,C)\n\u001b[0;32m      9\u001b[0m plt\u001b[38;5;241m.\u001b[39mplot(A[\u001b[38;5;241m0\u001b[39m], A[\u001b[38;5;241m1\u001b[39m], \u001b[38;5;124m'\u001b[39m\u001b[38;5;124mo\u001b[39m\u001b[38;5;124m'\u001b[39m, color\u001b[38;5;241m=\u001b[39m\u001b[38;5;124m'\u001b[39m\u001b[38;5;124mr\u001b[39m\u001b[38;5;124m'\u001b[39m)\n\u001b[0;32m     10\u001b[0m plt\u001b[38;5;241m.\u001b[39mplot(B[\u001b[38;5;241m0\u001b[39m], B[\u001b[38;5;241m1\u001b[39m], \u001b[38;5;124m'\u001b[39m\u001b[38;5;124mo\u001b[39m\u001b[38;5;124m'\u001b[39m, color\u001b[38;5;241m=\u001b[39m\u001b[38;5;124m'\u001b[39m\u001b[38;5;124mr\u001b[39m\u001b[38;5;124m'\u001b[39m)\n",
      "\u001b[1;31mNameError\u001b[0m: name 'v_triangle_2D' is not defined"
     ]
    }
   ],
   "source": [
    "# Three vertices of a random triangle\n",
    "A = np.array([6,9])\n",
    "B = np.array([10,14])\n",
    "C = np.array([8,28])\n",
    "R = np.array([1,1])\n",
    "p0 = np.array([0,0])\n",
    "    \n",
    "v_triangle_2D(A,B,C)\n",
    "plt.plot(A[0], A[1], 'o', color='r')\n",
    "plt.plot(B[0], B[1], 'o', color='r')\n",
    "plt.plot(C[0], C[1], 'o', color='r')\n",
    "plt.plot(R[0], R[1], 'o', color='r')\n",
    "G = v_triangle_barycentre(A,B,C)"
   ]
  },
  {
   "cell_type": "markdown",
   "id": "e38c7f79",
   "metadata": {},
   "source": [
    "### 2.1.2 Problem Representation\n",
    "\n",
    "Here I follow the method as 1.3.1. By constructing random points $P$ and $Q$ that lies on $AB$ and $AC$, the random line passing through the triangle $ABC$ could be represented by line $PQ$, where the coordinate of $P$ and $Q$ could be interpolated with randomly generated parameters $t_1$ and $t_2$"
   ]
  },
  {
   "cell_type": "code",
   "execution_count": 337,
   "id": "1e2e9ae4",
   "metadata": {},
   "outputs": [
    {
     "name": "stdout",
     "output_type": "stream",
     "text": [
      "t1： 0.18074537597576024  t2: 0.724397166006787\n",
      "P:  [6.7229815  9.90372688]  Q: [ 7.44879433 22.76354615]\n",
      "The area of triangle ABC： 33.0\n",
      "The area of triangle APQ： 4.320737458147176\n",
      "The slope of PQ:  -4.996551869649217\n"
     ]
    },
    {
     "data": {
      "image/png": "[encoded data removed]",
      "text/plain": [
       "<Figure size 640x480 with 1 Axes>"
      ]
     },
     "metadata": {},
     "output_type": "display_data"
    }
   ],
   "source": [
    "t1 = random.random()\n",
    "t2 = random.random()\n",
    "\n",
    "P = linear_interpolation(A, B, t1)\n",
    "Q = linear_interpolation(A, C, t2)\n",
    "# print(A, \" \", B, \" \", P, \" \", Q) \n",
    "v_triangle_2D(A,B,C)\n",
    "\n",
    "v_line_2D(P, Q)\n",
    "plt.plot(P[0], P[1], 'o', color='r')\n",
    "plt.plot(Q[0], Q[1], 'o', color='r')\n",
    "area_ABC = triangle_area_2D(A, B, C)\n",
    "area_APQ = triangle_area_2D(A, P, Q)\n",
    "slope = slope_2D(P, Q)\n",
    "\n",
    "print(\"t1：\", t1, \" t2:\", t2)\n",
    "print(\"P: \", P, \" Q:\", Q) \n",
    "print(\"The area of triangle ABC：\", area_ABC)\n",
    "print(\"The area of triangle APQ：\", area_APQ)\n",
    "print(\"The slope of PQ: \", slope)"
   ]
  },
  {
   "cell_type": "markdown",
   "id": "f891c96d",
   "metadata": {},
   "source": [
    "### 2.1.3 The Loss\n",
    "\n",
    "From 1.3.2, We learn that $ \\frac{S\\triangle_{APQ}}{S\\triangle_{ABC}} = t_1 t_2$. To bisector its area, I choose to minimize the $|\\frac{S\\triangle_{APQ}}{S\\triangle_{ABC}} - 0.5 |$, which gives the loss function:\n",
    "\n",
    "$$L = (\\frac{S\\triangle_{APQ}}{S\\triangle_{ABC}} - 0.5)^2$$"
   ]
  },
  {
   "cell_type": "code",
   "execution_count": 332,
   "id": "9ada6dea",
   "metadata": {},
   "outputs": [],
   "source": [
    "def loss(t1, t2):\n",
    "    return np.power(t1*t2 - 1/2, 2)"
   ]
  },
  {
   "cell_type": "markdown",
   "id": "93cf7f8c",
   "metadata": {},
   "source": [
    "<a name='2-2'></a>\n",
    "### 2.2 Gradient Descence\n",
    "\n",
    "This is a naive implementation of gradiet descence method"
   ]
  },
  {
   "cell_type": "code",
   "execution_count": 346,
   "id": "2e5993cf",
   "metadata": {},
   "outputs": [],
   "source": [
    "def IM_GD(t1, t2, num_iterations = 1000, learning_rate = 0.05):\n",
    "    for i in range(num_iterations):\n",
    "        L=loss(t1, t2)\n",
    "        \n",
    "        ## Calculate gradients\n",
    "        dt1, dt2 = IM_GD_gradients(t1, t2)\n",
    "        \n",
    "        ## Back propagation\n",
    "        t1, t2 = IM_GD_update_parameters(t1, t2, dt1, dt2, learning_rate)\n",
    "    return t1, t2, dt1, dt2"
   ]
  },
  {
   "cell_type": "code",
   "execution_count": 340,
   "id": "3c09d5fb",
   "metadata": {},
   "outputs": [
    {
     "name": "stdout",
     "output_type": "stream",
     "text": [
      "t: 0.18074537597576024   0.724397166006787\n",
      "t after: 0.5591247621610466   0.8942547957766585\n",
      "dt: -9.992007221626409e-16   -6.661338147750939e-16\n"
     ]
    }
   ],
   "source": [
    "print(\"t:\", t1, \" \", t2)\n",
    "t1, t2, dt1, dt2 = IM_GD(t1, t2)\n",
    "print(\"t after:\", t1, \" \", t2)\n",
    "print(\"dt:\", dt1, \" \", dt2)"
   ]
  },
  {
   "cell_type": "code",
   "execution_count": 347,
   "id": "207d19b0",
   "metadata": {},
   "outputs": [
    {
     "data": {
      "image/png": "[encoded data removed]",
      "text/plain": [
       "<Figure size 640x480 with 1 Axes>"
      ]
     },
     "metadata": {},
     "output_type": "display_data"
    }
   ],
   "source": [
    "P = linear_interpolation(p1, p2, t1)\n",
    "Q = linear_interpolation(p1, p3, t2)\n",
    "v_triangle_2D(A,B,C)\n",
    "\n",
    "v_line_2D(P, Q)\n",
    "plt.plot(P[0], P[1], 'o', color='r')\n",
    "plt.plot(Q[0], Q[1], 'o', color='r')\n",
    "area_ABC = triangle_area_2D(A, B, C)\n",
    "area_APQ = triangle_area_2D(A, P, Q)"
   ]
  },
  {
   "cell_type": "code",
   "execution_count": 344,
   "id": "cf7dc99f",
   "metadata": {},
   "outputs": [
    {
     "name": "stdout",
     "output_type": "stream",
     "text": [
      "16.49999999999998\n",
      "The slope of PQ:  -6.413914490958583\n"
     ]
    }
   ],
   "source": [
    "area_APQ = triangle_area_2D(A, P, Q)\n",
    "slope_after = slope_2D(P, Q)\n",
    "print(area_APQ)\n",
    "print(\"The slope of PQ: \", slope_after)"
   ]
  },
  {
   "cell_type": "markdown",
   "id": "1a105158",
   "metadata": {},
   "source": [
    "<a name='2-3'></a>\n",
    "### 2.3 *Interactive Plot\n",
    "\n",
    "Please check out the **./triangle_bisector_interactive.py** file for more detail.\n",
    "\n",
    "The program allow users to\n",
    "+ Sepecify the 3 vertices of triangle interactively\n",
    "+ Press **i** to initialize a random line (intersect the triangle with edge AB and AC)\n",
    "+ Press **t** to perform one round of gradient descence"
   ]
  },
  {
   "cell_type": "markdown",
   "id": "dda3a994",
   "metadata": {},
   "source": [
    "<a name='3'></a>\n",
    "## 3. The O(1) Method\n",
    "\n",
    "<a name='3-1'></a>\n",
    "### 3.1 Geometry Method\n",
    "\n",
    "<a name='3-2'></a>\n",
    "### 3.2 Algebra method\n",
    "\n",
    "Following the proof showed in section 1.3, the equation could be further transformed to:\n",
    "\n",
    "which is a hyperbola. This means that when the target decision boundary intersects the triangle with edges $AB$ and $AC$, it will move along the trajectory of a hyperbola. Similarly, there also exist a hyperbola for vertex $B$ and $C$.\n",
    "\n",
    "<a name='4'></a>\n",
    "## 4. Others"
   ]
  },
  {
   "cell_type": "markdown",
   "id": "11d4346a",
   "metadata": {},
   "source": [
    "<a name='5'></a>\n",
    "## 5. Reference\n",
    "\n",
    "1. [Dunn, J. A., and J. E. Pretty. \"Halving a triangle.\" The Mathematical Gazette 56.396 (1972): 105-108.](https://www.cambridge.org/core/journals/mathematical-gazette/article/abs/halving-a-triangle/3765EE3B46D4C12F19B5259893164B11)"
   ]
  }
 ],
 "metadata": {
  "kernelspec": {
   "display_name": "Python 3 (ipykernel)",
   "language": "python",
   "name": "python3"
  },
  "language_info": {
   "codemirror_mode": {
    "name": "ipython",
    "version": 3
   },
   "file_extension": ".py",
   "mimetype": "text/x-python",
   "name": "python",
   "nbconvert_exporter": "python",
   "pygments_lexer": "ipython3",
   "version": "3.11.0"
  }
 },
 "nbformat": 4,
 "nbformat_minor": 5
}
